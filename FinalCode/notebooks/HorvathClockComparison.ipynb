{
 "cells": [
  {
   "cell_type": "code",
   "execution_count": null,
   "id": "3839745d",
   "metadata": {},
   "outputs": [],
   "source": [
    "import pandas as pd\n",
    "import numpy as np\n",
    "import pathlib as pl\n",
    "\n",
    "from tqdm.notebook import tqdm\n"
   ]
  },
  {
   "cell_type": "code",
   "execution_count": null,
   "id": "aca3cd1f",
   "metadata": {},
   "outputs": [],
   "source": [
    "def horvath_transformed_age(age: float) -> float:\n",
    "    if age<=20:\n",
    "        return np.log(age+1)-np.log(21)\n",
    "    else:\n",
    "        return (age-20)/21\n",
    "\n",
    "def inverse_horvath_age(tr_age: float) -> float:\n",
    "    if tr_age<=0:\n",
    "        return 21*np.exp(tr_age) - 1\n",
    "    else:\n",
    "        return 21*tr_age + 20\n",
    "\n",
    "def predict_age(model_df: pd.DataFrame, methylation: pd.DataFrame) -> pd.Series:\n",
    "    \n",
    "    lost_probes = np.setdiff1d(model_df.index.to_numpy(),methylation.columns.to_numpy())\n",
    "    lost_probes = np.setdiff1d(lost_probes,[\"intercept\"])\n",
    "    if len(lost_probes)>0:\n",
    "        print(f\"There are {len(lost_probes)} missing probes; will replace by median value in the original set\")\n",
    "\n",
    "    red_meth = methylation[methylation.columns.intersection(model_df.index)].copy()\n",
    "\n",
    "    missing_probes = pd.concat([pd.DataFrame(model_df.loc[lost_probes][\"median\"]).T]*red_meth.shape[0])\n",
    "    missing_probes.index = red_meth.index\n",
    "\n",
    "    red_meth = pd.concat([red_meth,missing_probes],axis=1)\n",
    "\n",
    "    coefs = model_df.loc[red_meth.columns].coefs\n",
    "\n",
    "    scaled_age = (red_meth*coefs).sum(axis=1)+model_df.loc[\"intercept\"][\"coefs\"]\n",
    "\n",
    "    y_pred = scaled_age.apply(inverse_horvath_age)\n",
    "\n",
    "    return y_pred"
   ]
  },
  {
   "cell_type": "code",
   "execution_count": null,
   "id": "536259df",
   "metadata": {},
   "outputs": [],
   "source": [
    "data_dir = pl.Path(\"/add/path/here/\")\n",
    "horvath_probes = pd.read_csv(data_dir / \"horvath_cpg.csv\",header=None,sep=\"\\t\",index_col=0)\n",
    "horvath_probes.columns = [\"coefs\",\"shrinked_coef\",\"median\"]\n",
    "cpgs = horvath_probes[horvath_probes[\"coefs\"]!=0].index[1:].to_numpy()"
   ]
  },
  {
   "cell_type": "code",
   "execution_count": null,
   "id": "665fb386",
   "metadata": {},
   "outputs": [],
   "source": [
    "import os\n",
    "from glob import glob\n",
    "PATH1 = \"/add/path/here/\"\n",
    "EXT = \"*.csv\"\n",
    "all_csv_files_4 = [file\n",
    "                 for path, subdir, files in os.walk(PATH1)\n",
    "                 for file in glob(os.path.join(path, EXT)) if \"sample_sheet\" not in file]\n",
    "PATH2 = \"/add/path/here/\"\n",
    "all_csv_files_rest = [file\n",
    "                 for path, subdir, files in os.walk(PATH2)\n",
    "                 for file in glob(os.path.join(path, EXT)) if \"sample_sheet\" not in file]\n",
    "\n",
    "all_csv_files = np.append(all_csv_files_rest,all_csv_files_4)\n",
    "\n",
    "sheet_dir = pl.Path(\"/add/path/here/\")\n",
    "sample_sheet_rest = pd.read_csv(sheet_dir / \"SWEPIC_full_sample_sheet.csv\",index_col=0)\n",
    "idx = sample_sheet_rest[\"Sentrix_ID\"].astype(str) + \"_\" + sample_sheet_rest[\"Sentrix_Position\"].astype(str)\n",
    "sample_sheet_rest.index = idx\n",
    "mapping_rest = sample_sheet_rest[\"Sample_Name\"].astype(str).to_dict()\n",
    "\n",
    "sample_sheet_4 = pd.read_csv(sheet_dir / \"/add/path/here/sample_sheet_EPIC4.csv\",index_col=0)\n",
    "idx = sample_sheet_4[\"Sentrix_ID\"].astype(str) + \"_\" + sample_sheet_4[\"Sentrix_Position\"].astype(str)\n",
    "sample_sheet_4.index = idx\n",
    "mapping_4 = sample_sheet_4[\"Sample_Name\"].astype(str).to_dict()\n",
    "\n",
    "mapping = dict(mapping_rest, **mapping_4)\n",
    "\n",
    "full_meth = []\n",
    "for file in tqdm(all_csv_files):\n",
    "    f = pd.read_csv(file,index_col=0)\n",
    "    name = file.split(\"/\")[-1].split(\"_\")[:2]\n",
    "    name = name[0] + \"_\" + name[1]\n",
    "    f = f[f.poobah_pval<0.05]\n",
    "    beta = f.loc[f.index.intersection(cpgs),\"beta_value\"]\n",
    "    beta.name = name\n",
    "    full_meth.append(beta)"
   ]
  },
  {
   "cell_type": "code",
   "execution_count": null,
   "id": "c041e452",
   "metadata": {},
   "outputs": [],
   "source": [
    "meth_for_clocks = pd.concat(full_meth,axis=1)\n",
    "\n",
    "meth_for_clocks = meth_for_clocks.rename(columns=mapping).T"
   ]
  },
  {
   "cell_type": "code",
   "execution_count": null,
   "id": "67abef5f",
   "metadata": {},
   "outputs": [],
   "source": [
    "qt_20 = int(meth_for_clocks.shape[0]*0.2)\n",
    "\n",
    "meth_for_clocks = meth_for_clocks.loc[:,~(meth_for_clocks.isna().sum(axis=0)>qt_20)]"
   ]
  },
  {
   "cell_type": "code",
   "execution_count": null,
   "id": "b45226ef",
   "metadata": {},
   "outputs": [],
   "source": [
    "meth_for_clocks = meth_for_clocks.fillna(meth_for_clocks.median())"
   ]
  },
  {
   "cell_type": "code",
   "execution_count": null,
   "id": "8de7a20c",
   "metadata": {},
   "outputs": [],
   "source": [
    "horvath_probes = pd.read_csv(data_dir / \"horvath_cpg.csv\",header=None,sep=\"\\t\",index_col=0)\n",
    "horvath_probes.columns = [\"coefs\",\"shrinked_coef\",\"median\"]\n",
    "horvath_probes = horvath_probes.rename(index={\"(Intercept)\": \"intercept\"})"
   ]
  },
  {
   "cell_type": "code",
   "execution_count": null,
   "id": "99c1a139",
   "metadata": {},
   "outputs": [],
   "source": [
    "y_pred_horvath = predict_age(model_df=horvath_probes,\n",
    "                    methylation=meth_for_clocks[meth_for_clocks.columns.intersection(horvath_probes.index)])"
   ]
  },
  {
   "cell_type": "code",
   "execution_count": null,
   "id": "2552c031",
   "metadata": {},
   "outputs": [],
   "source": [
    "y_pred_horvath.to_csv(data_dir / \"auxiliary\" / \"horvath_age.csv\")"
   ]
  },
  {
   "cell_type": "code",
   "execution_count": null,
   "id": "b1a47904",
   "metadata": {},
   "outputs": [],
   "source": []
  }
 ],
 "metadata": {
  "kernelspec": {
   "display_name": "Python 3 (ipykernel)",
   "language": "python",
   "name": "python3"
  },
  "language_info": {
   "codemirror_mode": {
    "name": "ipython",
    "version": 3
   },
   "file_extension": ".py",
   "mimetype": "text/x-python",
   "name": "python",
   "nbconvert_exporter": "python",
   "pygments_lexer": "ipython3",
   "version": "3.9.16"
  }
 },
 "nbformat": 4,
 "nbformat_minor": 5
}
