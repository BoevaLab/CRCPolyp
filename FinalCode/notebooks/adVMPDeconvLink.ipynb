{
 "cells": [
  {
   "cell_type": "code",
   "execution_count": null,
   "id": "3839745d",
   "metadata": {},
   "outputs": [],
   "source": [
    "import pandas as pd\n",
    "import numpy as np\n",
    "import pathlib as pl\n",
    "\n",
    "from tqdm.notebook import tqdm\n",
    "import seaborn as sns\n",
    "import matplotlib.pyplot as plt\n",
    "from statannotations.Annotator import Annotator\n",
    "\n",
    "from scipy.stats import mannwhitneyu, fisher_exact, pearsonr, kruskal"
   ]
  },
  {
   "cell_type": "code",
   "execution_count": null,
   "id": "da9345c2",
   "metadata": {},
   "outputs": [],
   "source": [
    "import sys\n",
    "sys.path.append(\"../../FinalCode/\")\n",
    "import download.download as dwnl\n",
    "import utils.plotting as plting\n",
    "import adVMP.adVMP_discovery as discov\n",
    "import adVMP.adVMP_plots as advmpplt"
   ]
  },
  {
   "cell_type": "code",
   "execution_count": null,
   "id": "da443f4a",
   "metadata": {},
   "outputs": [],
   "source": [
    "import mygene"
   ]
  },
  {
   "cell_type": "code",
   "execution_count": null,
   "id": "16db4bee",
   "metadata": {},
   "outputs": [],
   "source": [
    "from collections import defaultdict"
   ]
  },
  {
   "cell_type": "code",
   "execution_count": null,
   "id": "1abbf333",
   "metadata": {},
   "outputs": [],
   "source": [
    "from tqdm.notebook import tqdm"
   ]
  },
  {
   "cell_type": "markdown",
   "id": "1f8fcb99",
   "metadata": {},
   "source": [
    "# Get mapping promoter to gene"
   ]
  },
  {
   "cell_type": "code",
   "execution_count": null,
   "id": "d0ea16cd",
   "metadata": {},
   "outputs": [],
   "source": [
    "data_dir = pl.Path(\"/add/path/here\")"
   ]
  },
  {
   "cell_type": "code",
   "execution_count": null,
   "id": "02b1c8b7",
   "metadata": {},
   "outputs": [],
   "source": [
    "epic_manifest = pd.read_csv(data_dir / \"illumina_manifests\" / \"GPL21145_MethylationEPIC_15073387_v-1-0.csv.gz\",skiprows=7,index_col=0)\n",
    "\n",
    "red_manifest = epic_manifest[['CHR', 'MAPINFO',\n",
    "       'UCSC_RefGene_Name', \n",
    "       'UCSC_RefGene_Group',]]\n",
    "\n",
    "red_manifest = red_manifest[~red_manifest.UCSC_RefGene_Name.isna()]"
   ]
  },
  {
   "cell_type": "code",
   "execution_count": null,
   "id": "d098f2f0",
   "metadata": {},
   "outputs": [],
   "source": [
    "# for each CpG, there might be several genes with \"functions\" (corresponding to regulatory elements) mapped\n",
    "# here we get for each gene the list of  CpGs that are located up to 1,500 bp up or downstream of the TSS\n",
    "full_gene_to_promoter = defaultdict(list)\n",
    "for cg in tqdm(red_manifest.index):\n",
    "    sub = red_manifest.loc[cg]\n",
    "    genes = sub.UCSC_RefGene_Name.split(\";\")\n",
    "    fcts = sub.UCSC_RefGene_Group.split(\";\")\n",
    "    for i,f in enumerate(fcts):\n",
    "        if \"TSS\" in f:\n",
    "            full_gene_to_promoter[genes[i]].append(cg)\n",
    "\n",
    "# get the atlas and translate the genes into official gene IDs\n",
    "atlas = pd.read_csv(data_dir / \"auxiliary\" / \"Colon_highlevel_ref.csv\",index_col=0)\n",
    "mg = mygene.MyGeneInfo()\n",
    "mapping_genes = mg.getgenes(atlas.index.to_numpy(), fields='name,symbol,entrezgene,taxid', as_dataframe=True)\n",
    "atlas[\"GeneID\"] = mapping_genes[\"symbol\"].ravel()\n",
    "\n",
    "# keep only the genes that we need for deconvolution\n",
    "gene_to_promoter_cpg = {}\n",
    "for gene in atlas.GeneID.ravel():\n",
    "    gene_to_promoter_cpg[gene] = full_gene_to_promoter[gene]"
   ]
  },
  {
   "cell_type": "markdown",
   "id": "402eefbe",
   "metadata": {},
   "source": [
    "# Deconvolve"
   ]
  },
  {
   "cell_type": "code",
   "execution_count": null,
   "id": "7a4bbb61",
   "metadata": {},
   "outputs": [],
   "source": []
  },
  {
   "cell_type": "code",
   "execution_count": null,
   "id": "d1966823",
   "metadata": {},
   "outputs": [],
   "source": [
    "from typing import Dict\n",
    "import statsmodels.api as sm\n",
    "def get_patient_values(beta_values: pd.DataFrame, gene_to_promoter_cpg: Dict[str, np.ndarray]) -> pd.DataFrame:\n",
    "    \n",
    "    values = []\n",
    "    # for each gene, get the average beta value of the CpGs in the promoter region, for each patient\n",
    "    for gn in gene_to_promoter_cpg:\n",
    "        common_cpgs = beta_values.columns.intersection(gene_to_promoter_cpg[gn])\n",
    "        if len(common_cpgs)==0:\n",
    "            print(f\"No common cpgs for gene {gn}, skipping\")\n",
    "        avg = beta_values.loc[:,common_cpgs]\n",
    "        avg = avg.fillna(avg.median())\n",
    "        avg = avg.mean(axis=1)\n",
    "        avg.name = gn\n",
    "        values.append(avg)\n",
    "\n",
    "    values = pd.concat(values,axis=1).dropna(axis=1)\n",
    "    return values\n",
    "\n",
    "def get_patient_deconvolution(atlas: pd.DataFrame, values: pd.DataFrame) -> pd.DataFrame:\n",
    "    \n",
    "    # only keep the genes present in the dataset\n",
    "    red_atlas = atlas.set_index(\"GeneID\")\n",
    "    red_atlas = red_atlas.loc[values.columns]\n",
    "\n",
    "    # get a diagonal matrix with the weight computed from the atlas\n",
    "    sqrt_weight = red_atlas[\"weight\"].apply(np.sqrt)\n",
    "    diag_sqrt_weight = np.diag(sqrt_weight)\n",
    "\n",
    "    ref = red_atlas.iloc[:,:-1]\n",
    "    \n",
    "    all_est = []\n",
    "    # use the EpiSCORE algorithms\n",
    "    for i,pat in tqdm(enumerate(values.index)):\n",
    "        y = values.iloc[i].ravel()\n",
    "        y = sqrt_weight*y\n",
    "        \n",
    "        X = np.dot(diag_sqrt_weight,ref)\n",
    "        \n",
    "        beta_hat = sm.RLM(y, X).fit().params\n",
    "        beta_hat = beta_hat.clip(0,None)\n",
    "        est_frac = beta_hat/beta_hat.sum()\n",
    "        est_frac.name = pat\n",
    "        all_est.append(est_frac)\n",
    "    all_est = pd.concat(all_est,axis=1)\n",
    "    all_est.index = ref.columns\n",
    "    return all_est.T"
   ]
  },
  {
   "cell_type": "code",
   "execution_count": null,
   "id": "136d6090",
   "metadata": {},
   "outputs": [],
   "source": [
    "mapping_path = pl.Path(\"add/path/here/\")\n",
    "mapping = pd.read_csv(mapping_path / \"SWEPIC_full_sample_sheet.csv\")\n",
    "#mapping = pd.read_csv(mapping_path / \"sample_sheet_EPIC4.csv\")\n",
    "\n",
    "idx = (mapping[\"Sentrix_ID\"].astype(str) + \"_\" + mapping[\"Sentrix_Position\"]).ravel()\n",
    "mapping.index = idx\n",
    "mapping = mapping[\"Sample_Name\"].astype(str).to_dict()"
   ]
  },
  {
   "cell_type": "code",
   "execution_count": null,
   "id": "45e24a59",
   "metadata": {},
   "outputs": [],
   "source": [
    "base_dir = pl.Path(\"add/path/here/sesame_processed_EPIC\")\n",
    "#base_dir = pl.Path(\"/add/path/here/sesame_processed_EPIC4\")\n",
    "base_dir = base_dir / \"beta_values\""
   ]
  },
  {
   "cell_type": "code",
   "execution_count": null,
   "id": "263a3194",
   "metadata": {
    "scrolled": true
   },
   "outputs": [],
   "source": [
    "all_frac_estimates = []\n",
    "for f in tqdm(base_dir.iterdir()):\n",
    "    beta_values = pd.read_pickle(f).T\n",
    "    beta_values = beta_values.rename(index=mapping)\n",
    "    values = get_patient_values(beta_values=beta_values, gene_to_promoter_cpg=gene_to_promoter_cpg)\n",
    "    frac_estimates = get_patient_deconvolution(atlas=atlas, values=values)\n",
    "    all_frac_estimates.append(frac_estimates)"
   ]
  },
  {
   "cell_type": "code",
   "execution_count": null,
   "id": "87d284ab",
   "metadata": {},
   "outputs": [],
   "source": [
    "all_frac_estimates = pd.concat(all_frac_estimates)"
   ]
  },
  {
   "cell_type": "code",
   "execution_count": null,
   "id": "920a3eca",
   "metadata": {},
   "outputs": [],
   "source": [
    "resdir = pl.Path(\"/add/path/here/\")\n",
    "\n",
    "all_frac_estimates.to_csv(resdir / \"epic123_estimates.csv\")\n",
    "#all_frac_estimates.to_csv(resdir / \"epic4_estimates.csv\")"
   ]
  },
  {
   "cell_type": "code",
   "execution_count": null,
   "id": "4d616607",
   "metadata": {},
   "outputs": [],
   "source": []
  }
 ],
 "metadata": {
  "kernelspec": {
   "display_name": "Python 3 (ipykernel)",
   "language": "python",
   "name": "python3"
  },
  "language_info": {
   "codemirror_mode": {
    "name": "ipython",
    "version": 3
   },
   "file_extension": ".py",
   "mimetype": "text/x-python",
   "name": "python",
   "nbconvert_exporter": "python",
   "pygments_lexer": "ipython3",
   "version": "3.9.16"
  }
 },
 "nbformat": 4,
 "nbformat_minor": 5
}
