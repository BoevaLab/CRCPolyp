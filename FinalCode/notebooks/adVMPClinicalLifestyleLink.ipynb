{
 "cells": [
  {
   "cell_type": "code",
   "execution_count": null,
   "id": "3839745d",
   "metadata": {},
   "outputs": [],
   "source": [
    "import pandas as pd\n",
    "import numpy as np\n",
    "import pathlib as pl\n",
    "\n",
    "\n",
    "from tqdm.notebook import tqdm\n",
    "import seaborn as sns\n",
    "import matplotlib.pyplot as plt\n",
    "from statannotations.Annotator import Annotator\n",
    "from statsmodels.stats.multitest import multipletests\n",
    "\n",
    "from scipy.stats import mannwhitneyu, fisher_exact, pearsonr, kruskal"
   ]
  },
  {
   "cell_type": "code",
   "execution_count": null,
   "id": "da9345c2",
   "metadata": {},
   "outputs": [],
   "source": [
    "import sys\n",
    "import os\n",
    "sys.path.append(\"../../FinalCode/\")\n",
    "import download.download as dwnl\n",
    "import utils.plotting as plting\n",
    "import adVMP.adVMP_discovery as discov\n",
    "import adVMP.adVMP_plots as advmpplt"
   ]
  },
  {
   "cell_type": "code",
   "execution_count": null,
   "id": "3adb536c",
   "metadata": {},
   "outputs": [],
   "source": [
    "# For figures\n",
    "colors = sns.color_palette(\"muted\")\n",
    "fig_dir = pl.Path(\"/add/path/here\")"
   ]
  },
  {
   "cell_type": "code",
   "execution_count": null,
   "id": "92c43fe0",
   "metadata": {},
   "outputs": [],
   "source": [
    "base_dir = pl.Path(\"/add/path/here\")\n",
    "base_dir4 = pl.Path(\"/add/path/here\")\n",
    "\n",
    "data_dir = pl.Path(\"/add/path/here\")\n",
    "\n",
    "bad_probes = pd.read_csv(data_dir / \"auxiliary\" / \"sketchy_probe_list_epic.csv\",index_col=0).values.ravel()\n",
    "sample_origin_path = pl.Path(data_dir / \"clinical\" / \"sample_origin_wbatch.csv\")\n",
    "\n",
    "clinical_path = pl.Path(data_dir / \"clinical\" / \"cleaned_clinical_reduced_diet.csv\")\n",
    "target_path = pl.Path(data_dir / \"clinical\" / \"targets.csv\")"
   ]
  },
  {
   "cell_type": "code",
   "execution_count": null,
   "id": "cff6106f",
   "metadata": {},
   "outputs": [],
   "source": [
    "EPIC2_b, EPIC2_clin, EPIC2_samples, EPIC2_phenotypes, EPIC3_b, EPIC3_clin, EPIC3_samples, EPIC3_phenotypes = dwnl.download_EPIC(sample_origin_path=sample_origin_path, \n",
    "                     base_dir=base_dir, clinical_path=clinical_path, target_path=target_path,\n",
    "                  bad_probes=bad_probes, EPIC4=False) "
   ]
  },
  {
   "cell_type": "code",
   "execution_count": null,
   "id": "c6efc10d",
   "metadata": {},
   "outputs": [],
   "source": [
    "EPIC4_b, EPIC4_clin, EPIC4_samples, EPIC4_phenotypes = dwnl.download_EPIC(sample_origin_path=sample_origin_path, \n",
    "                     base_dir=base_dir4, clinical_path=clinical_path, target_path=target_path, \n",
    "                  bad_probes=bad_probes, EPIC4=True) "
   ]
  },
  {
   "cell_type": "code",
   "execution_count": null,
   "id": "e285ee4c",
   "metadata": {},
   "outputs": [],
   "source": [
    "union_cpgs = pd.read_csv(data_dir / \"adVMP\" / \"union_cpgs.csv\", index_col=0).values.ravel()"
   ]
  },
  {
   "cell_type": "markdown",
   "id": "7fcd24a2",
   "metadata": {},
   "source": [
    "# Link adVMPs with clinical and lifestyle"
   ]
  },
  {
   "cell_type": "code",
   "execution_count": null,
   "id": "5b10c695",
   "metadata": {},
   "outputs": [],
   "source": [
    "import statsmodels.api as sm"
   ]
  },
  {
   "cell_type": "code",
   "execution_count": null,
   "id": "e1f8829c",
   "metadata": {},
   "outputs": [],
   "source": [
    "# define the list of clinical features we are interested in\n",
    "cols_clin = [\"Age at visit\",\n",
    "            \"BMI\",\n",
    "            \"Metabolic syndrome\",\n",
    "            \"Analgesic >=2 years (overall)\",\n",
    "            \"Ever smoked cigarettes\",\n",
    "            \"Pack years\",\n",
    "            'inflammatory_n',\n",
    "            'anti-inflammatory_n', \n",
    "            'western_n', \n",
    "            'prudent_n'\n",
    "            ]"
   ]
  },
  {
   "cell_type": "code",
   "execution_count": null,
   "id": "e0c8c77f",
   "metadata": {},
   "outputs": [],
   "source": [
    "from typing import List, Optional\n",
    "def get_dmps(EPIC_b: pd.DataFrame, union_cpgs: np.ndarray, std_clin: pd.DataFrame) -> List:\n",
    "    all_results = {charac: [] for charac in std_clin.columns}\n",
    "\n",
    "    # iterate over all CpG sites\n",
    "    for cg in tqdm(union_cpgs):\n",
    "        exog_df = sm.add_constant(std_clin)\n",
    "        endog = EPIC_b[cg].ravel()\n",
    "        # Instantiate a bin family model with the default link function.\n",
    "        bin_model = sm.GLM(endog, exog_df, family=sm.families.Gamma())\n",
    "\n",
    "        bin_results = bin_model.fit()\n",
    "        df = bin_results.summary2().tables[1]\n",
    "        for charac in all_results:\n",
    "            all_results[charac].append(df.loc[charac])\n",
    "            \n",
    "    for charac in all_results:\n",
    "        # concatenate all results so that we are have a row corresponding to each clinical feature\n",
    "        df = pd.concat(all_results[charac],axis=1).T\n",
    "        df.index = union_cpgs\n",
    "        df[\"FDR q\"] = multipletests(df[\"P>|z|\"], method=\"fdr_bh\")[1]\n",
    "        all_results[charac] = df\n",
    "    return all_results"
   ]
  },
  {
   "cell_type": "code",
   "execution_count": null,
   "id": "4cd3933b",
   "metadata": {},
   "outputs": [],
   "source": [
    "res_dir = data_dir / \"adVMP_link_clinical\""
   ]
  },
  {
   "cell_type": "markdown",
   "id": "34246cab",
   "metadata": {},
   "source": [
    "# SWEPIC1"
   ]
  },
  {
   "cell_type": "code",
   "execution_count": null,
   "id": "5b683be4",
   "metadata": {},
   "outputs": [],
   "source": [
    "# standardize clinical factors so the beta values are interpretable\n",
    "std_clin2 = EPIC2_clin[cols_clin]\n",
    "std_clin2 = (std_clin2 - std_clin2.mean())/std_clin2.std()\n",
    "std_clin2 = std_clin2.dropna()"
   ]
  },
  {
   "cell_type": "code",
   "execution_count": null,
   "id": "4b7e15c9",
   "metadata": {},
   "outputs": [],
   "source": [
    "all_results = get_dmps(EPIC_b=EPIC2_b.loc[std_clin2.index], union_cpgs=union_cpgs, std_clin=std_clin2)"
   ]
  },
  {
   "cell_type": "code",
   "execution_count": null,
   "id": "d07538b9",
   "metadata": {},
   "outputs": [],
   "source": [
    "for charac in all_results:\n",
    "    os.makedirs(res_dir / \"SWEPIC1\", exist_ok=True)\n",
    "    all_results[charac].to_csv(res_dir / \"SWEPIC1\" / f\"{charac}_link.csv\")"
   ]
  },
  {
   "cell_type": "markdown",
   "id": "b5097c96",
   "metadata": {},
   "source": [
    "# SWEPIC2"
   ]
  },
  {
   "cell_type": "code",
   "execution_count": null,
   "id": "fdf3caf9",
   "metadata": {},
   "outputs": [],
   "source": [
    "# standardize clinical factors so the beta values are interpretable\n",
    "std_clin3 = EPIC3_clin[cols_clin]\n",
    "std_clin3 = (std_clin3 - std_clin3.mean())/std_clin3.std()\n",
    "std_clin3 = std_clin3.dropna()"
   ]
  },
  {
   "cell_type": "code",
   "execution_count": null,
   "id": "4ce740d2",
   "metadata": {},
   "outputs": [],
   "source": [
    "all_results = get_dmps(EPIC_b=EPIC3_b.loc[std_clin3.index], union_cpgs=union_cpgs, std_clin=std_clin3)"
   ]
  },
  {
   "cell_type": "code",
   "execution_count": null,
   "id": "26573f53",
   "metadata": {},
   "outputs": [],
   "source": [
    "for charac in all_results:\n",
    "    os.makedirs(res_dir / \"SWEPIC2\", exist_ok=True)\n",
    "    all_results[charac].to_csv(res_dir / \"SWEPIC2\" / f\"{charac}_link.csv\")"
   ]
  },
  {
   "cell_type": "markdown",
   "id": "700856b4",
   "metadata": {},
   "source": [
    "# SWEPIC3"
   ]
  },
  {
   "cell_type": "code",
   "execution_count": null,
   "id": "c243b809",
   "metadata": {},
   "outputs": [],
   "source": [
    "# standardize clinical factors so the beta values are interpretable\n",
    "std_clin4 = EPIC4_clin[cols_clin]\n",
    "std_clin4 = (std_clin4 - std_clin4.mean())/std_clin4.std()\n",
    "std_clin4 = std_clin4.dropna()"
   ]
  },
  {
   "cell_type": "code",
   "execution_count": null,
   "id": "7b012d48",
   "metadata": {},
   "outputs": [],
   "source": [
    "all_results = get_dmps(EPIC_b=EPIC4_b.loc[std_clin4.index], union_cpgs=union_cpgs, std_clin=std_clin4)"
   ]
  },
  {
   "cell_type": "code",
   "execution_count": null,
   "id": "740c269d",
   "metadata": {},
   "outputs": [],
   "source": [
    "for charac in all_results:\n",
    "    os.makedirs(res_dir / \"SWEPIC3\", exist_ok=True)\n",
    "    all_results[charac].to_csv(res_dir / \"SWEPIC3\" / f\"{charac}_link.csv\")"
   ]
  },
  {
   "cell_type": "markdown",
   "id": "4fc5a342",
   "metadata": {},
   "source": [
    "# Compare all SWEPIC"
   ]
  },
  {
   "cell_type": "code",
   "execution_count": null,
   "id": "58838e83",
   "metadata": {},
   "outputs": [],
   "source": [
    "all_results = {\"SWEPIC1\": {}, \"SWEPIC2\": {}, \"SWEPIC3\": {}}\n",
    "for cohort in all_results:\n",
    "    for charac in cols_clin:\n",
    "        all_results[cohort][charac] = pd.read_csv(res_dir / cohort / f\"{charac}_link.csv\", index_col=0)"
   ]
  },
  {
   "cell_type": "code",
   "execution_count": null,
   "id": "7199d4c9",
   "metadata": {},
   "outputs": [],
   "source": [
    "pltte = sns.color_palette(\"husl\", 10)"
   ]
  },
  {
   "cell_type": "code",
   "execution_count": null,
   "id": "89e3df05",
   "metadata": {},
   "outputs": [],
   "source": [
    "from typing import Dict\n",
    "def get_hist_plot_df(cols_clin: np.ndarray, union_cpgs: np.ndarray, all_results: Dict, lim_sum: int=0) -> Dict:\n",
    "    hist_plot_df = {}\n",
    "    for charac in cols_clin:\n",
    "\n",
    "        charac_df = pd.concat([all_results[\"SWEPIC1\"][charac][\"FDR q\"],\n",
    "                   all_results[\"SWEPIC2\"][charac][\"FDR q\"],\n",
    "                   all_results[\"SWEPIC3\"][charac][\"FDR q\"]],axis=1)\n",
    "\n",
    "        charac_df.columns = [\"SWEPIC1\",\"SWEPIC2\",\"SWEPIC3\"]\n",
    "        # get the number of sites with a q-value of less than 0.1, for each characteristic\n",
    "        hist_plot_df[charac] = [((charac_df<0.1).sum(axis=1)>lim_sum).sum()]\n",
    "\n",
    "    hist_plot_df = pd.DataFrame.from_dict(hist_plot_df)/len(union_cpgs)\n",
    "    hist_plot_df.index = [\"Proportion\"]\n",
    "    hist_plot_df = hist_plot_df.applymap(lambda x: x*100)\n",
    "    hist_plot_df = hist_plot_df.sort_values(by=\"Proportion\",ascending=False,axis=1)\n",
    "    return hist_plot_df"
   ]
  },
  {
   "cell_type": "code",
   "execution_count": null,
   "id": "55a1d0f8",
   "metadata": {},
   "outputs": [],
   "source": [
    "hist_plot_df1 = get_hist_plot_df(cols_clin=cols_clin, union_cpgs=union_cpgs, all_results=all_results)\n",
    "hist_plot_df2 = get_hist_plot_df(cols_clin=cols_clin, union_cpgs=union_cpgs, all_results=all_results, lim_sum=1)"
   ]
  },
  {
   "cell_type": "code",
   "execution_count": null,
   "id": "76680240",
   "metadata": {
    "scrolled": true
   },
   "outputs": [],
   "source": [
    "ax = sns.barplot(data=hist_plot_df1, palette=pltte)\n",
    "plting.transform_plot_ax(ax, legend_title=\"\")\n",
    "ax.set_ylim([None, 100])\n",
    "ax.set_yticklabels(['0','20','40','60','80','100'])\n",
    "ax.set_ylabel(\"% adVMP\")\n",
    "ax.set_xticklabels(ax.get_xticklabels(), rotation=45, \n",
    "                   verticalalignment=\"top\",horizontalalignment=\"right\")\n",
    "ax.bar_label(ax.containers[0], fmt='%.1f', fontsize=15)\n",
    "ax.figure.savefig(fig_dir / \"barplot_link_clinical_lifestyle_adVMP_1ds.svg\", bbox_inches=\"tight\")"
   ]
  },
  {
   "cell_type": "code",
   "execution_count": null,
   "id": "f939d04c",
   "metadata": {},
   "outputs": [],
   "source": [
    "ax = sns.barplot(data=hist_plot_df2, palette=pltte)\n",
    "plting.transform_plot_ax(ax, legend_title=\"\")\n",
    "ax.set_ylim([None, 50])\n",
    "ax.set_yticklabels(['0','10','20','30','40','50'])\n",
    "ax.set_ylabel(\"% adVMP\")\n",
    "ax.set_xticklabels(ax.get_xticklabels(), rotation=45, \n",
    "                   verticalalignment=\"top\",horizontalalignment=\"right\")\n",
    "ax.bar_label(ax.containers[0], fmt='%.1f', fontsize=15)\n",
    "ax.figure.savefig(fig_dir / \"barplot_link_clinical_lifestyle_adVMP_2ds.svg\", bbox_inches=\"tight\")"
   ]
  },
  {
   "cell_type": "code",
   "execution_count": null,
   "id": "1bdff228",
   "metadata": {},
   "outputs": [],
   "source": [
    "def get_heatmap_df(all_results_swepic: pd.DataFrame) -> pd.DataFrame:\n",
    "    df = []\n",
    "    for charac in all_results_swepic:\n",
    "        df.append(all_results_swepic[charac][\"FDR q\"])\n",
    "    # df contains the q-values associated with each clinical characteristic\n",
    "    df = pd.concat(df,axis=1)\n",
    "    df.columns = list(all_results_swepic.keys())\n",
    "    df = -df.applymap(np.log10)\n",
    "    return df\n",
    "\n",
    "def get_heatmap_sign_probes(heatmap_df: pd.DataFrame, ax: plt.Axes, cbar: bool=False) -> None:\n",
    "    sns.heatmap(heatmap_df, \n",
    "                mask=heatmap_df<-np.log10(0.1), \n",
    "                vmax=5, \n",
    "                cmap=\"vlag\", \n",
    "                center=0, ax=ax,\n",
    "                cbar=cbar)\n",
    "    ax.set_yticklabels([])\n",
    "    ax.set_yticks([])\n",
    "    ax.set_xticklabels(ax.get_xticklabels(),rotation=45,\n",
    "                       verticalalignment=\"top\",horizontalalignment=\"right\")"
   ]
  },
  {
   "cell_type": "code",
   "execution_count": null,
   "id": "984e2882",
   "metadata": {},
   "outputs": [],
   "source": [
    "all_results_swepic1 = all_results[\"SWEPIC1\"]"
   ]
  },
  {
   "cell_type": "code",
   "execution_count": null,
   "id": "3e6fff5c",
   "metadata": {},
   "outputs": [],
   "source": [
    "heatmap_df1 = get_heatmap_df(all_results_swepic=all_results_swepic1)"
   ]
  },
  {
   "cell_type": "code",
   "execution_count": null,
   "id": "4e9bf999",
   "metadata": {},
   "outputs": [],
   "source": [
    "all_results_swepic2 = all_results[\"SWEPIC2\"]"
   ]
  },
  {
   "cell_type": "code",
   "execution_count": null,
   "id": "10fb70fc",
   "metadata": {},
   "outputs": [],
   "source": [
    "heatmap_df2 = get_heatmap_df(all_results_swepic=all_results_swepic2)"
   ]
  },
  {
   "cell_type": "code",
   "execution_count": null,
   "id": "ca955f2b",
   "metadata": {},
   "outputs": [],
   "source": [
    "all_results_swepic3 = all_results[\"SWEPIC3\"]"
   ]
  },
  {
   "cell_type": "code",
   "execution_count": null,
   "id": "974bfb4a",
   "metadata": {},
   "outputs": [],
   "source": [
    "heatmap_df3 = get_heatmap_df(all_results_swepic=all_results_swepic3)"
   ]
  },
  {
   "cell_type": "code",
   "execution_count": null,
   "id": "9df1ab31",
   "metadata": {},
   "outputs": [],
   "source": [
    "((heatmap_df1>-np.log10(0.1)).sum(axis=1)==0).sum(),((heatmap_df2>-np.log10(0.1)).sum(axis=1)==0).sum(),((heatmap_df3>-np.log10(0.1)).sum(axis=1)==0).sum()"
   ]
  },
  {
   "cell_type": "code",
   "execution_count": null,
   "id": "fd9bcaa9",
   "metadata": {},
   "outputs": [],
   "source": [
    "heatmap_dfs = [heatmap_df1,heatmap_df2,heatmap_df3]"
   ]
  },
  {
   "cell_type": "code",
   "execution_count": null,
   "id": "ca45269d",
   "metadata": {},
   "outputs": [],
   "source": [
    "fig, ax = plt.subplots(1,3,figsize=(9,10), gridspec_kw={'width_ratios': [4, 4, 5]})\n",
    "cbar_ind = [False if i<(len(ax)-1) else True for i in range(len(ax))]\n",
    "for i in range(len(ax)):\n",
    "    get_heatmap_sign_probes(heatmap_dfs[i], ax=ax[i], cbar=cbar_ind[i])\n",
    "fig.savefig(fig_dir / \"heatmap_link_clinical_lifestyle_adVMP.svg\", bbox_inches=\"tight\")"
   ]
  },
  {
   "cell_type": "code",
   "execution_count": null,
   "id": "631bfeff",
   "metadata": {},
   "outputs": [],
   "source": [
    "def get_heatmap_histogram(heatmap_df: pd.DataFrame, name: str) -> plt.Axes:\n",
    "    data = (heatmap_df>-np.log10(0.1)).sum(axis=1).to_frame()\n",
    "    ax = sns.histplot(data=data, bins=np.arange(11), legend=None)\n",
    "    ax.bar_label(ax.containers[0], fmt='%.0f', fontsize=15)\n",
    "    ax.spines[['right', 'top']].set_visible(False)\n",
    "    ax.spines[[\"bottom\", \"left\"]].set_linewidth(4)\n",
    "    ax.set_xlabel(\"Number of parameters associated\", fontsize=15)\n",
    "    ax.set_ylabel(\"Number of adVMPs\", fontsize=15)\n",
    "    ax.set_xlim([0,10])\n",
    "    ax.set_xticklabels(ax.get_xticklabels(), fontsize=15)\n",
    "    ax.set_yticklabels(ax.get_yticklabels(), fontsize=15)\n",
    "    ax.set_title(name,fontsize=15)\n",
    "    return ax"
   ]
  },
  {
   "cell_type": "code",
   "execution_count": null,
   "id": "44553a48",
   "metadata": {
    "scrolled": false
   },
   "outputs": [],
   "source": [
    "ax1 = get_heatmap_histogram(heatmap_df=heatmap_df1, name=\"SWEPIC1\")\n",
    "ax1.figure.savefig(fig_dir / \"SWEPIC1_hist_clinlifestyle_assoc.svg\", bbox_inches=\"tight\")"
   ]
  },
  {
   "cell_type": "code",
   "execution_count": null,
   "id": "8804dbda",
   "metadata": {},
   "outputs": [],
   "source": [
    "ax2 = get_heatmap_histogram(heatmap_df=heatmap_df2, name=\"SWEPIC2\")\n",
    "ax2.figure.savefig(fig_dir / \"SWEPIC2_hist_clinlifestyle_assoc.svg\", bbox_inches=\"tight\")"
   ]
  },
  {
   "cell_type": "code",
   "execution_count": null,
   "id": "2eec0892",
   "metadata": {},
   "outputs": [],
   "source": [
    "ax3 = get_heatmap_histogram(heatmap_df=heatmap_df3, name=\"SWEPIC3\")\n",
    "ax3.figure.savefig(fig_dir / \"SWEPIC3_hist_clinlifestyle_assoc.svg\", bbox_inches=\"tight\")"
   ]
  },
  {
   "cell_type": "code",
   "execution_count": null,
   "id": "cee36dbe",
   "metadata": {},
   "outputs": [],
   "source": []
  }
 ],
 "metadata": {
  "kernelspec": {
   "display_name": "Python 3 (ipykernel)",
   "language": "python",
   "name": "python3"
  },
  "language_info": {
   "codemirror_mode": {
    "name": "ipython",
    "version": 3
   },
   "file_extension": ".py",
   "mimetype": "text/x-python",
   "name": "python",
   "nbconvert_exporter": "python",
   "pygments_lexer": "ipython3",
   "version": "3.9.16"
  }
 },
 "nbformat": 4,
 "nbformat_minor": 5
}
