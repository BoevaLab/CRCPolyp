{
 "cells": [
  {
   "cell_type": "code",
   "execution_count": null,
   "id": "412eba57",
   "metadata": {},
   "outputs": [],
   "source": [
    "import pandas as pd\n",
    "import numpy as np\n",
    "import pathlib as pl\n",
    "from sklearn.decomposition import PCA\n",
    "import seaborn as sns\n",
    "import matplotlib.pyplot as plt"
   ]
  },
  {
   "cell_type": "code",
   "execution_count": null,
   "id": "816b66b9",
   "metadata": {},
   "outputs": [],
   "source": [
    "from scipy.stats import ks_2samp\n",
    "from tqdm.notebook import tqdm\n",
    "from adjustText import adjust_text"
   ]
  },
  {
   "cell_type": "code",
   "execution_count": null,
   "id": "bb5585c2",
   "metadata": {},
   "outputs": [],
   "source": [
    "import sys\n",
    "sys.path.append(\"../../FinalCode/\")\n",
    "import download.download_gex as dwnl\n",
    "import utils.plotting as plting"
   ]
  },
  {
   "cell_type": "code",
   "execution_count": null,
   "id": "cfcd9deb",
   "metadata": {},
   "outputs": [],
   "source": [
    "colors = sns.color_palette(\"muted\")"
   ]
  },
  {
   "cell_type": "code",
   "execution_count": null,
   "id": "f6f104f6",
   "metadata": {},
   "outputs": [],
   "source": [
    "fig_dir = pl.Path(\"/add/path/here/\")"
   ]
  },
  {
   "cell_type": "markdown",
   "id": "78994e12",
   "metadata": {},
   "source": [
    "# Load mapping"
   ]
  },
  {
   "cell_type": "code",
   "execution_count": null,
   "id": "b815b9e6",
   "metadata": {},
   "outputs": [],
   "source": [
    "data_dir = pl.Path(\"/add/path/here/\")"
   ]
  },
  {
   "cell_type": "code",
   "execution_count": null,
   "id": "db620ceb",
   "metadata": {},
   "outputs": [],
   "source": [
    "mapping_roadmap = pd.read_csv(data_dir / \"NIH_Epigenomics_Roadmap\" / \"EPIC_to_state_mapping.csv\",index_col=0)"
   ]
  },
  {
   "cell_type": "code",
   "execution_count": null,
   "id": "28d43442",
   "metadata": {},
   "outputs": [],
   "source": [
    "union_cpgs = pd.read_csv(data_dir / \"adVMP\" / \"union_cpgs.csv\",index_col=0).values.ravel()"
   ]
  },
  {
   "cell_type": "code",
   "execution_count": null,
   "id": "b71ec2b0",
   "metadata": {
    "scrolled": true
   },
   "outputs": [],
   "source": [
    "epic_manifest = pd.read_csv(data_dir / \"illumina_manifests\" / \"GPL21145_MethylationEPIC_15073387_v-1-0.csv.gz\",skiprows=7,index_col=0)"
   ]
  },
  {
   "cell_type": "code",
   "execution_count": null,
   "id": "4504e44f",
   "metadata": {},
   "outputs": [],
   "source": [
    "epic_manifest = epic_manifest.loc[union_cpgs]\n",
    "epic_manifest = pd.concat([epic_manifest,mapping_roadmap],axis=1,join=\"inner\")"
   ]
  },
  {
   "cell_type": "code",
   "execution_count": null,
   "id": "c802ad2b",
   "metadata": {},
   "outputs": [],
   "source": [
    "red_manifest = epic_manifest[['CHR', 'MAPINFO',\n",
    "       'UCSC_RefGene_Name', \n",
    "       'UCSC_RefGene_Group', 'UCSC_CpG_Islands_Name',\n",
    "       'Relation_to_UCSC_CpG_Island', '450k_Enhancer',\"State\"]]"
   ]
  },
  {
   "cell_type": "code",
   "execution_count": null,
   "id": "32dd4f04",
   "metadata": {},
   "outputs": [],
   "source": [
    "tssA_manifest = red_manifest[red_manifest.State.isin([\"1_TssA\",\"2_TssAFlnk\",\"3_TxFlnk\"])]\n",
    "tss_unique_genes = np.unique(np.concatenate(tssA_manifest[\"UCSC_RefGene_Name\"].dropna().str.split(\";\").values))"
   ]
  },
  {
   "cell_type": "markdown",
   "id": "6dbc96b9",
   "metadata": {},
   "source": [
    "# Download data"
   ]
  },
  {
   "cell_type": "code",
   "execution_count": null,
   "id": "a6217ec2",
   "metadata": {},
   "outputs": [],
   "source": [
    "gex_path = pl.Path(\"/add/path/here\")\n",
    "path_right = gex_path  / \"GSE76987_RightColonProcessed.csv\"\n",
    "path_right_cr = gex_path / \"GSE76987_ColonCancerProcessed.csv\""
   ]
  },
  {
   "cell_type": "code",
   "execution_count": null,
   "id": "6d1a4ff4",
   "metadata": {
    "scrolled": true
   },
   "outputs": [],
   "source": [
    "# preprocesses the data\n",
    "right_data = dwnl.download_gex_data(path_right=path_right, path_right_cr=path_right_cr)"
   ]
  },
  {
   "cell_type": "code",
   "execution_count": null,
   "id": "33f7e415",
   "metadata": {},
   "outputs": [],
   "source": [
    "test_genes = right_data.columns.intersection(tss_unique_genes)"
   ]
  },
  {
   "cell_type": "code",
   "execution_count": null,
   "id": "e60c73b7",
   "metadata": {},
   "outputs": [],
   "source": [
    "# order the tissue types from healthy to cancer\n",
    "ordered_type = pd.Categorical(right_data.type, \n",
    "                      categories=[\"Healthy\",\"NAC\",\"Adenoma\",\"SSL\",\"Cancer\"],\n",
    "                      ordered=True)\n",
    "\n",
    "right_data[\"Ordered type\"] = ordered_type\n",
    "\n",
    "ordered_idx = right_data.sort_values(by=\"Ordered type\").index"
   ]
  },
  {
   "cell_type": "code",
   "execution_count": null,
   "id": "82c46800",
   "metadata": {},
   "outputs": [],
   "source": [
    "# get the PCA representation in the subset of aDVMC-related genes\n",
    "pca = PCA(n_components=2)\n",
    "X_PCA = pca.fit_transform(right_data.loc[:,test_genes])\n",
    "X_PCA = pd.DataFrame(X_PCA, index=right_data.index, columns=[\"PCA1\",\"PCA2\"])\n",
    "X_PCA = pd.concat([X_PCA, right_data[\"Ordered type\"]],axis=1)\n",
    "print(pca.explained_variance_ratio_)"
   ]
  },
  {
   "cell_type": "code",
   "execution_count": null,
   "id": "31cb4fba",
   "metadata": {},
   "outputs": [],
   "source": [
    "ax = sns.scatterplot(data=X_PCA, x=\"PCA1\", y=\"PCA2\", hue=\"Ordered type\")\n",
    "plting.transform_plot_ax(ax, legend_title=\"\", remove_ticks=True)\n",
    "ax.set_xlabel(f\"PCA1 ({pca.explained_variance_ratio_[0]*100:.1f}%)\")\n",
    "ax.set_ylabel(f\"PCA2 ({pca.explained_variance_ratio_[1]*100:.1f}%)\")\n",
    "ax.figure.savefig(fig_dir / \"PCA_gex_tssgenes.svg\", bbox_inches='tight')"
   ]
  },
  {
   "cell_type": "code",
   "execution_count": null,
   "id": "d2154979",
   "metadata": {},
   "outputs": [],
   "source": [
    "# get the density plots for each PC \n",
    "fig, ax = plt.subplots(1,2,figsize=(10,3))\n",
    "sns.kdeplot(data=X_PCA,x=\"PCA1\",hue=\"Ordered type\", ax=ax[0], legend=False, common_norm=False)\n",
    "sns.kdeplot(data=X_PCA,x=\"PCA2\",hue=\"Ordered type\", ax=ax[1], common_norm=False)\n",
    "ax[0].spines[['right', 'top']].set_visible(False)\n",
    "ax[0].spines[[\"bottom\", \"left\"]].set_linewidth(4)\n",
    "ax[0].set_xticks([])\n",
    "ax[0].set_yticks([])\n",
    "ax[1].spines[['right', 'top']].set_visible(False)\n",
    "ax[1].spines[[\"bottom\", \"left\"]].set_linewidth(4)\n",
    "ax[1].set_xticks([])\n",
    "ax[1].set_yticks([])\n",
    "fig.savefig(fig_dir / \"gex_density_pca_advmp_genes.svg\", bbox_inches=\"tight\")"
   ]
  },
  {
   "cell_type": "code",
   "execution_count": null,
   "id": "cf49c881",
   "metadata": {},
   "outputs": [],
   "source": [
    "ks_2samp(X_PCA[X_PCA[\"Ordered type\"]==\"Healthy\"][\"PCA1\"],X_PCA[X_PCA[\"Ordered type\"]!=\"Healthy\"][\"PCA1\"]),ks_2samp(X_PCA[X_PCA[\"Ordered type\"]==\"Healthy\"][\"PCA2\"],X_PCA[X_PCA[\"Ordered type\"]!=\"Healthy\"][\"PCA2\"])"
   ]
  },
  {
   "cell_type": "code",
   "execution_count": null,
   "id": "65561458",
   "metadata": {},
   "outputs": [],
   "source": [
    "pca = PCA(n_components=2)\n",
    "X_PCA = pca.fit_transform(right_data.drop([\"type\",\"Ordered type\"],axis=1))\n",
    "X_PCA = pd.DataFrame(X_PCA, index=right_data.index, columns=[\"PCA1\",\"PCA2\"])\n",
    "X_PCA = pd.concat([X_PCA, right_data[\"Ordered type\"]],axis=1)\n",
    "print(pca.explained_variance_ratio_)"
   ]
  },
  {
   "cell_type": "code",
   "execution_count": null,
   "id": "83c519ef",
   "metadata": {},
   "outputs": [],
   "source": [
    "ax = sns.scatterplot(data=X_PCA, x=\"PCA1\", y=\"PCA2\", hue=\"Ordered type\")\n",
    "plting.transform_plot_ax(ax, legend_title=\"\", remove_ticks=True)\n",
    "ax.set_xlabel(f\"PCA1 ({pca.explained_variance_ratio_[0]*100:.1f}%)\")\n",
    "ax.set_ylabel(f\"PCA2 ({pca.explained_variance_ratio_[1]*100:.1f}%)\")\n",
    "ax.figure.savefig(fig_dir / \"PCA_gex.svg\", bbox_inches='tight')"
   ]
  },
  {
   "cell_type": "code",
   "execution_count": null,
   "id": "947404ac",
   "metadata": {},
   "outputs": [],
   "source": [
    "fig, ax = plt.subplots(1,2,figsize=(10,3))\n",
    "sns.kdeplot(data=X_PCA,x=\"PCA1\",hue=\"Ordered type\", ax=ax[0], legend=False, common_norm=False)\n",
    "sns.kdeplot(data=X_PCA,x=\"PCA2\",hue=\"Ordered type\", ax=ax[1], common_norm=False)\n",
    "ax[0].spines[['right', 'top']].set_visible(False)\n",
    "ax[0].spines[[\"bottom\", \"left\"]].set_linewidth(4)\n",
    "ax[0].set_xticks([])\n",
    "ax[0].set_yticks([])\n",
    "ax[1].spines[['right', 'top']].set_visible(False)\n",
    "ax[1].spines[[\"bottom\", \"left\"]].set_linewidth(4)\n",
    "ax[1].set_xticks([])\n",
    "ax[1].set_yticks([])\n",
    "fig.savefig(fig_dir / \"gex_density_pca.svg\", bbox_inches=\"tight\")"
   ]
  },
  {
   "cell_type": "code",
   "execution_count": null,
   "id": "24131231",
   "metadata": {},
   "outputs": [],
   "source": [
    "ks_2samp(X_PCA[X_PCA[\"Ordered type\"]==\"Healthy\"][\"PCA1\"],X_PCA[X_PCA[\"Ordered type\"]!=\"Healthy\"][\"PCA1\"]),ks_2samp(X_PCA[X_PCA[\"Ordered type\"]==\"Healthy\"][\"PCA2\"],X_PCA[X_PCA[\"Ordered type\"]!=\"Healthy\"][\"PCA2\"])"
   ]
  },
  {
   "cell_type": "markdown",
   "id": "3d5b300c",
   "metadata": {},
   "source": [
    "# Get differential expression"
   ]
  },
  {
   "cell_type": "code",
   "execution_count": null,
   "id": "39ce038a",
   "metadata": {},
   "outputs": [],
   "source": [
    "from scipy.stats import mannwhitneyu\n",
    "from statsmodels.stats.multitest import multipletests\n",
    "def get_p_values_cond(data: pd.DataFrame, test_genes: np.array, \n",
    "                      pheno1: pd.Series, pheno2: pd.Series) -> np.ndarray:\n",
    "    p_values = []\n",
    "    for g in data.columns.intersection(test_genes):\n",
    "        df = data[g]\n",
    "        # we use the Wilcoxon rank sum test to compute differential gene expression\n",
    "        p = mannwhitneyu(df[pheno1].values.ravel(),\n",
    "                         df[pheno2].values.ravel())[1]\n",
    "        p_values.append(p)\n",
    "    return np.array(p_values)"
   ]
  },
  {
   "cell_type": "code",
   "execution_count": null,
   "id": "cd346b09",
   "metadata": {},
   "outputs": [],
   "source": [
    "pheno1 = (right_data[\"type\"]==\"Healthy\")\n",
    "pheno2 = (right_data[\"type\"]==\"NAC\")\n",
    "NAC_p = get_p_values_cond(data=right_data, \n",
    "                               test_genes=right_data.columns[:-2], \n",
    "                               pheno1=pheno1, pheno2=pheno2)"
   ]
  },
  {
   "cell_type": "code",
   "execution_count": null,
   "id": "73727d8a",
   "metadata": {},
   "outputs": [],
   "source": [
    "from scipy.stats import fisher_exact"
   ]
  },
  {
   "cell_type": "code",
   "execution_count": null,
   "id": "98622267",
   "metadata": {},
   "outputs": [],
   "source": [
    "# compare the number of differentially expression aDVMC-related genes compared to all possible genes\n",
    "full_dgex = pd.DataFrame(NAC_p,columns=[\"p\"],index=right_data.columns[:-2])\n",
    "\n",
    "full_dgex = full_dgex<.05\n",
    "\n",
    "nunion_genes = np.setdiff1d(right_data.columns[:-2], test_genes)\n",
    "\n",
    "a = full_dgex.loc[test_genes,\"p\"].sum()\n",
    "b = len(test_genes) - a\n",
    "c = full_dgex.loc[nunion_genes,\"p\"].sum()\n",
    "d = len(nunion_genes) - c\n",
    "\n",
    "conting = np.array([[a,b],[c,d]])\n",
    "fisher_exact(conting)"
   ]
  },
  {
   "cell_type": "code",
   "execution_count": null,
   "id": "a78d4132",
   "metadata": {},
   "outputs": [],
   "source": [
    "conting"
   ]
  },
  {
   "cell_type": "code",
   "execution_count": null,
   "id": "e82e0fe6",
   "metadata": {},
   "outputs": [],
   "source": [
    "a/(a+b), c/(c+d)"
   ]
  },
  {
   "cell_type": "markdown",
   "id": "1cb10dbc",
   "metadata": {},
   "source": [
    "# Volcano plots"
   ]
  },
  {
   "cell_type": "code",
   "execution_count": null,
   "id": "e51a2e56",
   "metadata": {},
   "outputs": [],
   "source": [
    "goi = test_genes\n",
    "\n",
    "def get_gex(goi: np.ndarray) -> pd.DataFrame:\n",
    "    # compute the differential gene expression results for each (condition,control), where control is entirely healthy tissue (\"Healthy\"),\n",
    "    #  and condition is any evolution along the neoplastic transformation path\n",
    "    pheno1 = (right_data[\"type\"]==\"Healthy\")\n",
    "    pheno2 = (right_data[\"type\"]==\"NAC\")\n",
    "    NAC_p = get_p_values_cond(data=right_data, \n",
    "                               test_genes=goi, \n",
    "                               pheno1=pheno1, pheno2=pheno2)\n",
    "    pheno2 = (right_data[\"type\"]==\"Adenoma\")\n",
    "    ad_p = get_p_values_cond(data=right_data, \n",
    "                               test_genes=goi, \n",
    "                               pheno1=pheno1, pheno2=pheno2)\n",
    "    pheno2 = (right_data[\"type\"]==\"SSL\")\n",
    "    ssl_p = get_p_values_cond(data=right_data, \n",
    "                               test_genes=goi, \n",
    "                               pheno1=pheno1, pheno2=pheno2)\n",
    "    pheno2 = (right_data[\"type\"]==\"Cancer\")\n",
    "    cancer_p = get_p_values_cond(data=right_data, \n",
    "                               test_genes=goi, \n",
    "                               pheno1=pheno1, pheno2=pheno2)\n",
    "\n",
    "    diff_expr = pd.DataFrame(np.array([NAC_p,ad_p,ssl_p,cancer_p]),\n",
    "                             index=[\"NAC_p\",\"Ad_p\",\"SSL_p\",\"Cancer_p\"],columns=goi).T\n",
    "    # compute FDR correction\n",
    "    for i,col in enumerate(diff_expr.columns):\n",
    "        q_value = multipletests(diff_expr[col],method=\"fdr_bh\")[1]\n",
    "        diff_expr[col[:-1]+\"q\"] = q_value\n",
    "    return diff_expr"
   ]
  },
  {
   "cell_type": "code",
   "execution_count": null,
   "id": "cfcb4756",
   "metadata": {},
   "outputs": [],
   "source": [
    "def get_volcano_plot(right_data: pd.DataFrame, \n",
    "                     pheno1_name: str, \n",
    "                     pheno2_name: str, \n",
    "                     diff_expr: pd.DataFrame,\n",
    "                     goi: np.ndarray, lim_fc: float=1.5) -> plt.Figure:\n",
    "\n",
    "    pheno1 = (right_data[\"type\"]==pheno1_name)\n",
    "    pheno2 = (right_data[\"type\"]==pheno2_name)\n",
    "    # compute the log2FC between the condition and control\n",
    "    log2FC = np.log2(right_data.loc[pheno2,goi].mean()/right_data.loc[pheno1,goi].mean())\n",
    "    # the volcano plot will show the p values\n",
    "    volcano_df = pd.concat([log2FC,\n",
    "                            diff_expr[f\"{pheno2_name}_p\"].apply(lambda x: -np.log10(x)),\n",
    "                            diff_expr[f\"{pheno2_name}_q\"].apply(lambda x: -np.log10(x))],axis=1)\n",
    "    volcano_df.columns = [\"log2(FC)\",\"-log10(p)\",\"-log10(q)\"]\n",
    "    # indicator of if the gene passes the FDR threshold of 0.1\n",
    "    volcano_df[\"Significant\"] = volcano_df[\"-log10(q)\"]>=1\n",
    "\n",
    "    # annotate only significant genes with a big enough log2FC\n",
    "    genes_to_annotate = volcano_df[(volcano_df[\"log2(FC)\"].abs()>np.log2(lim_fc)) & (volcano_df[\"Significant\"])]\n",
    "\n",
    "    pmin = volcano_df[volcano_df[\"Significant\"]][\"-log10(p)\"].min()\n",
    "    fig, ax = plt.subplots(1,1)\n",
    "    sns.scatterplot(data=volcano_df, \n",
    "                    y=\"-log10(p)\", \n",
    "                    x=\"log2(FC)\", \n",
    "                    hue=\"Significant\", \n",
    "                    palette = {True: \"red\", False: \"blue\"},\n",
    "                    ax=ax)\n",
    "    ax.hlines(xmin=ax.get_xlim()[0],xmax=ax.get_xlim()[1].max(),y=pmin,color=\"r\",linestyle='--')\n",
    "    plting.transform_plot_ax(ax, legend_title=\"Sign. diff. expressed\")\n",
    "\n",
    "    texts = []\n",
    "    for g in genes_to_annotate.index:\n",
    "        x = genes_to_annotate.loc[g,\"log2(FC)\"]\n",
    "        y = genes_to_annotate.loc[g,\"-log10(p)\"]\n",
    "        texts.append(ax.text(x,y,g,fontsize=10))\n",
    "\n",
    "    adjust_text(texts, only_move={'points':'y', 'texts':'y'}, arrowprops=dict(arrowstyle=\"-\", color='r', lw=0.5))\n",
    "    return fig"
   ]
  },
  {
   "cell_type": "code",
   "execution_count": null,
   "id": "7de32dca",
   "metadata": {},
   "outputs": [],
   "source": [
    "diff_expr = get_gex(goi=goi)"
   ]
  },
  {
   "cell_type": "code",
   "execution_count": null,
   "id": "03e550c7",
   "metadata": {},
   "outputs": [],
   "source": [
    "(diff_expr.loc[:,diff_expr.columns.str.endswith(\"_q\")]<0.1).sum(axis=1).value_counts()"
   ]
  },
  {
   "cell_type": "code",
   "execution_count": null,
   "id": "95e66752",
   "metadata": {},
   "outputs": [],
   "source": [
    "sign_diff = diff_expr[\"NAC_q\"].apply(lambda x: -np.log10(x)).sort_values(ascending=False).to_frame()"
   ]
  },
  {
   "cell_type": "code",
   "execution_count": null,
   "id": "7b72b8de",
   "metadata": {},
   "outputs": [],
   "source": [
    "fig = get_volcano_plot(right_data=right_data, pheno1_name=\"Healthy\", pheno2_name=\"NAC\", goi=test_genes)\n",
    "fig.savefig(fig_dir / \"volcano_plot_nac_vs_healthy.svg\", bbox_inches=\"tight\")"
   ]
  },
  {
   "cell_type": "code",
   "execution_count": null,
   "id": "8d35b99d",
   "metadata": {},
   "outputs": [],
   "source": [
    "fig = get_volcano_plot(right_data=right_data, pheno1_name=\"Healthy\", pheno2_name=\"SSL\", goi=test_genes)\n",
    "fig.savefig(fig_dir / \"volcano_plot_nac_vs_SSL.svg\", bbox_inches=\"tight\")"
   ]
  },
  {
   "cell_type": "code",
   "execution_count": null,
   "id": "b0d0e48d",
   "metadata": {},
   "outputs": [],
   "source": [
    "fig = get_volcano_plot(right_data=right_data, pheno1_name=\"Healthy\", pheno2_name=\"Cancer\", goi=test_genes, lim_fc=2.5)\n",
    "fig.savefig(fig_dir / \"volcano_plot_nac_vs_cancer.svg\", bbox_inches=\"tight\")"
   ]
  },
  {
   "cell_type": "code",
   "execution_count": null,
   "id": "7f488858",
   "metadata": {},
   "outputs": [],
   "source": [
    "# which genes are significantly dysregulated in all cases?\n",
    "fully_dysregulated = diff_expr[(diff_expr[\"NAC_q\"]<0.1) & (diff_expr[\"SSL_q\"]<0.1) & (diff_expr[\"Cancer_q\"]<0.1)].sort_values(by=\"NAC_p\").index.to_numpy()"
   ]
  },
  {
   "cell_type": "code",
   "execution_count": null,
   "id": "40368ab9",
   "metadata": {},
   "outputs": [],
   "source": [
    "def get_gex_boxplot(right_data: pd.DataFrame, gene: str) -> plt.Figure:\n",
    "    fig, ax = plt.subplots(1,1,figsize=(3,2))\n",
    "    sns.boxplot(data=right_data, \n",
    "                x=\"type\", y=gene, ax=ax,\n",
    "                order=[\"Healthy\",\"NAC\",\"Adenoma\",\"SSL\",\"Cancer\"], \n",
    "                     palette=palette)\n",
    "    ax.set_xticklabels(ax.get_xticklabels(), rotation=45, horizontalalignment=\"right\")\n",
    "    ax.set_xlabel(\"\")\n",
    "    ax.spines[['right', 'top']].set_visible(False)\n",
    "    ax.spines[[\"bottom\", \"left\"]].set_linewidth(3)\n",
    "    return fig"
   ]
  },
  {
   "cell_type": "code",
   "execution_count": null,
   "id": "755d6f35",
   "metadata": {},
   "outputs": [],
   "source": [
    "genes_to_plot = fully_dysregulated\n",
    "for gene in genes_to_plot:\n",
    "    figure = get_gex_boxplot(right_data=right_data, gene=gene)\n",
    "    figure.savefig(fig_dir / \"diffgexboxplots\" / f\"{gene}.svg\", bbox_inches=\"tight\")"
   ]
  },
  {
   "cell_type": "code",
   "execution_count": null,
   "id": "38ddaebc",
   "metadata": {},
   "outputs": [],
   "source": []
  }
 ],
 "metadata": {
  "kernelspec": {
   "display_name": "Python 3 (ipykernel)",
   "language": "python",
   "name": "python3"
  },
  "language_info": {
   "codemirror_mode": {
    "name": "ipython",
    "version": 3
   },
   "file_extension": ".py",
   "mimetype": "text/x-python",
   "name": "python",
   "nbconvert_exporter": "python",
   "pygments_lexer": "ipython3",
   "version": "3.9.16"
  }
 },
 "nbformat": 4,
 "nbformat_minor": 5
}
