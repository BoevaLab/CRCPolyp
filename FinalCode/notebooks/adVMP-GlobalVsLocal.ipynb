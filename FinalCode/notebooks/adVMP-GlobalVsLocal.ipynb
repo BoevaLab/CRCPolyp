{
 "cells": [
  {
   "cell_type": "code",
   "execution_count": null,
   "id": "3839745d",
   "metadata": {},
   "outputs": [],
   "source": [
    "import pandas as pd\n",
    "import numpy as np\n",
    "import pathlib as pl\n",
    "\n",
    "from tqdm.notebook import tqdm\n",
    "import seaborn as sns\n",
    "import matplotlib.pyplot as plt\n",
    "from statannotations.Annotator import Annotator\n",
    "\n",
    "from scipy.stats import mannwhitneyu, fisher_exact, pearsonr, kruskal"
   ]
  },
  {
   "cell_type": "code",
   "execution_count": null,
   "id": "da9345c2",
   "metadata": {},
   "outputs": [],
   "source": [
    "import sys\n",
    "sys.path.append(\"../../FinalCode/\")\n",
    "import download.download as dwnl\n",
    "import utils.plotting as plting"
   ]
  },
  {
   "cell_type": "code",
   "execution_count": null,
   "id": "3adb536c",
   "metadata": {},
   "outputs": [],
   "source": [
    "# For figures\n",
    "colors = sns.color_palette(\"muted\")\n",
    "fig_dir = pl.Path(\"/add/path/here\")"
   ]
  },
  {
   "cell_type": "code",
   "execution_count": null,
   "id": "92c43fe0",
   "metadata": {},
   "outputs": [],
   "source": [
    "base_dir = pl.Path(\"/add/path/here\")\n",
    "base_dir4 = pl.Path(\"/add/path/here\")\n",
    "\n",
    "data_dir = pl.Path(\"/add/path/here\")\n",
    "\n",
    "bad_probes = pd.read_csv(data_dir / \"auxiliary\" / \"sketchy_probe_list_epic.csv\",index_col=0).values.ravel()\n",
    "sample_origin_path = pl.Path(data_dir / \"clinical\" / \"sample_origin_wbatch.csv\")\n",
    "\n",
    "clinical_path = pl.Path(data_dir / \"clinical\" / \"cleaned_clinical_reduced_diet.csv\")\n",
    "target_path = pl.Path(data_dir / \"clinical\" / \"targets.csv\")"
   ]
  },
  {
   "cell_type": "code",
   "execution_count": null,
   "id": "cff6106f",
   "metadata": {},
   "outputs": [],
   "source": [
    "EPIC2_b, EPIC2_clin, EPIC2_samples, EPIC2_phenotypes, EPIC3_b, EPIC3_clin, EPIC3_samples, EPIC3_phenotypes = dwnl.download_EPIC(sample_origin_path=sample_origin_path, \n",
    "                     base_dir=base_dir, clinical_path=clinical_path, target_path=target_path,\n",
    "                  bad_probes=bad_probes, EPIC4=False) "
   ]
  },
  {
   "cell_type": "code",
   "execution_count": null,
   "id": "c6efc10d",
   "metadata": {},
   "outputs": [],
   "source": [
    "EPIC4_b, EPIC4_clin, EPIC4_samples, EPIC4_phenotypes = dwnl.download_EPIC(sample_origin_path=sample_origin_path, \n",
    "                     base_dir=base_dir4, clinical_path=clinical_path, target_path=target_path, \n",
    "                  bad_probes=bad_probes, EPIC4=True) "
   ]
  },
  {
   "cell_type": "code",
   "execution_count": null,
   "id": "7d4e3390",
   "metadata": {},
   "outputs": [],
   "source": []
  },
  {
   "cell_type": "markdown",
   "id": "a7a7f52f",
   "metadata": {},
   "source": [
    "# Find most variable probes"
   ]
  },
  {
   "cell_type": "code",
   "execution_count": null,
   "id": "5d145ca6",
   "metadata": {},
   "outputs": [],
   "source": [
    "from scipy.stats import median_abs_deviation\n",
    "mad2 = median_abs_deviation(EPIC2_b)\n",
    "mad2 = pd.Series(mad2, index=EPIC2_b.columns)\n",
    "mad3 = median_abs_deviation(EPIC3_b)\n",
    "mad3 = pd.Series(mad3, index=EPIC3_b.columns)\n",
    "mad4 = median_abs_deviation(EPIC4_b)\n",
    "mad4 = pd.Series(mad4, index=EPIC4_b.columns)"
   ]
  },
  {
   "cell_type": "code",
   "execution_count": null,
   "id": "5ac3a680",
   "metadata": {},
   "outputs": [],
   "source": [
    "fig, ax = plt.subplots(1,1)\n",
    "sns.histplot(data=mad2.clip(None,0.15), bins=50, ax=ax)\n",
    "plt.axvline(mad2.quantile(0.95), c=\"r\")\n",
    "plt.text(1.1*mad2.quantile(0.95),53000,\"95% quantile\",c=\"r\", fontdict = {\"size\": 15})\n",
    "plting.transform_plot_ax(ax, legend_title=\"\", ftsize=15)\n",
    "fig.savefig(fig_dir / \"SWEPIC1\" / \"mad_95_qt.svg\", bbox_inches=\"tight\")"
   ]
  },
  {
   "cell_type": "code",
   "execution_count": null,
   "id": "eca01846",
   "metadata": {},
   "outputs": [],
   "source": [
    "fig, ax = plt.subplots(1,1)\n",
    "sns.histplot(data=mad3.clip(None,0.15), bins=50, ax=ax)\n",
    "plt.axvline(mad3.quantile(0.95), c=\"r\")\n",
    "plt.text(1.1*mad3.quantile(0.95),50000,\"95% quantile\",c=\"r\", fontdict = {\"size\": 15})\n",
    "plting.transform_plot_ax(ax, legend_title=\"\", ftsize=15)\n",
    "fig.savefig(fig_dir / \"SWEPIC2\" / \"mad_95_qt.svg\", bbox_inches=\"tight\")"
   ]
  },
  {
   "cell_type": "code",
   "execution_count": null,
   "id": "8968c0f4",
   "metadata": {},
   "outputs": [],
   "source": [
    "fig, ax = plt.subplots(1,1)\n",
    "sns.histplot(data=mad4.clip(None,0.15), bins=50, ax=ax)\n",
    "plt.axvline(mad4.quantile(0.95), c=\"r\")\n",
    "plt.text(1.1*mad4.quantile(0.95),60000,\"95% quantile\",c=\"r\", fontdict = {\"size\": 15})\n",
    "plting.transform_plot_ax(ax, legend_title=\"\", ftsize=15)\n",
    "fig.savefig(fig_dir / \"SWEPIC3\" / \"mad_95_qt.svg\", bbox_inches=\"tight\")"
   ]
  },
  {
   "cell_type": "code",
   "execution_count": null,
   "id": "c1342867",
   "metadata": {},
   "outputs": [],
   "source": [
    "union_cpgs_5_pct = np.unique(np.concatenate([mad2[mad2>mad2.quantile(0.95)].index,\n",
    "                mad3[mad3>mad3.quantile(0.95)].index,\n",
    "                mad4[mad4>mad4.quantile(0.95)].index]))\n",
    "\n",
    "pd.Series(union_cpgs_5_pct).to_csv(data_dir / \"variable_probes\" / \"union_cpgs_5_pct_most_variable.csv\")"
   ]
  },
  {
   "cell_type": "markdown",
   "id": "e6bc4405",
   "metadata": {},
   "source": [
    "# Find most variable probes in healthy tissue"
   ]
  },
  {
   "cell_type": "code",
   "execution_count": null,
   "id": "67aade54",
   "metadata": {},
   "outputs": [],
   "source": [
    "from scipy.stats import median_abs_deviation\n",
    "mad2 = median_abs_deviation(EPIC2_b.loc[EPIC2_phenotypes==0])\n",
    "mad2 = pd.Series(mad2, index=EPIC2_b.columns)\n",
    "mad3 = median_abs_deviation(EPIC3_b.loc[EPIC3_phenotypes==0])\n",
    "mad3 = pd.Series(mad3, index=EPIC3_b.columns)\n",
    "mad4 = median_abs_deviation(EPIC4_b.loc[EPIC4_phenotypes==0])\n",
    "mad4 = pd.Series(mad4, index=EPIC4_b.columns)"
   ]
  },
  {
   "cell_type": "code",
   "execution_count": null,
   "id": "6fb1cc67",
   "metadata": {},
   "outputs": [],
   "source": [
    "fig, ax = plt.subplots(1,1)\n",
    "sns.histplot(data=mad2.clip(None,0.15), bins=50, ax=ax)\n",
    "plt.axvline(mad2.quantile(0.95), c=\"r\")\n",
    "plt.text(1.1*mad2.quantile(0.95),60000,\"95% quantile\",c=\"r\", fontdict = {\"size\": 15})\n",
    "plting.transform_plot_ax(ax, legend_title=\"\", ftsize=15)\n",
    "fig.savefig(fig_dir / \"SWEPIC1\" / \"mad_95_qt_onlyhealthy.svg\", bbox_inches=\"tight\")"
   ]
  },
  {
   "cell_type": "code",
   "execution_count": null,
   "id": "5bf610b1",
   "metadata": {},
   "outputs": [],
   "source": [
    "fig, ax = plt.subplots(1,1)\n",
    "sns.histplot(data=mad3.clip(None,0.15), bins=50, ax=ax)\n",
    "plt.axvline(mad3.quantile(0.95), c=\"r\")\n",
    "plt.text(1.1*mad3.quantile(0.95),50000,\"95% quantile\",c=\"r\", fontdict = {\"size\": 15})\n",
    "plting.transform_plot_ax(ax, legend_title=\"\", ftsize=15)\n",
    "fig.savefig(fig_dir / \"SWEPIC2\" / \"mad_95_qt_onlyhealthy.svg\", bbox_inches=\"tight\")"
   ]
  },
  {
   "cell_type": "code",
   "execution_count": null,
   "id": "b1198c99",
   "metadata": {},
   "outputs": [],
   "source": [
    "fig, ax = plt.subplots(1,1)\n",
    "sns.histplot(data=mad4.clip(None,0.15), bins=50, ax=ax)\n",
    "plt.axvline(mad4.quantile(0.95), c=\"r\")\n",
    "plt.text(1.1*mad4.quantile(0.95),60000,\"95% quantile\",c=\"r\", fontdict = {\"size\": 15})\n",
    "plting.transform_plot_ax(ax, legend_title=\"\", ftsize=15)\n",
    "fig.savefig(fig_dir / \"SWEPIC3\" / \"mad_95_qt_onlyhealthy.svg\", bbox_inches=\"tight\")"
   ]
  },
  {
   "cell_type": "code",
   "execution_count": null,
   "id": "4997fab5",
   "metadata": {},
   "outputs": [],
   "source": [
    "union_cpgs_5_pct = np.unique(np.concatenate([mad2[mad2>mad2.quantile(0.95)].index,\n",
    "                mad3[mad3>mad3.quantile(0.95)].index,\n",
    "                mad4[mad4>mad4.quantile(0.95)].index]))\n",
    "pd.Series(union_cpgs_5_pct).to_csv(data_dir / \"variable_probes\" / \"union_cpgs_5_pct_most_variable_onlyhealthy.csv\")"
   ]
  },
  {
   "cell_type": "code",
   "execution_count": null,
   "id": "df26d918",
   "metadata": {},
   "outputs": [],
   "source": []
  }
 ],
 "metadata": {
  "kernelspec": {
   "display_name": "Python 3 (ipykernel)",
   "language": "python",
   "name": "python3"
  },
  "language_info": {
   "codemirror_mode": {
    "name": "ipython",
    "version": 3
   },
   "file_extension": ".py",
   "mimetype": "text/x-python",
   "name": "python",
   "nbconvert_exporter": "python",
   "pygments_lexer": "ipython3",
   "version": "3.9.16"
  }
 },
 "nbformat": 4,
 "nbformat_minor": 5
}
