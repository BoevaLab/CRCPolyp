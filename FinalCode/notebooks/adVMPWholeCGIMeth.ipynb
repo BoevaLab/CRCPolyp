{
 "cells": [
  {
   "cell_type": "code",
   "execution_count": null,
   "id": "3839745d",
   "metadata": {},
   "outputs": [],
   "source": [
    "import pandas as pd\n",
    "import numpy as np\n",
    "import pathlib as pl\n",
    "\n",
    "from tqdm.notebook import tqdm\n",
    "import seaborn as sns\n",
    "import matplotlib.pyplot as plt\n",
    "from statannotations.Annotator import Annotator\n",
    "\n",
    "from scipy.stats import mannwhitneyu, fisher_exact, pearsonr, kruskal"
   ]
  },
  {
   "cell_type": "code",
   "execution_count": null,
   "id": "da9345c2",
   "metadata": {},
   "outputs": [],
   "source": [
    "import sys\n",
    "sys.path.append(\"../../FinalCode/\")\n",
    "import download.download as dwnl\n",
    "import utils.plotting as plting\n",
    "import adVMP.adVMP_discovery as discov\n",
    "import adVMP.global_vs_local as glob"
   ]
  },
  {
   "cell_type": "code",
   "execution_count": null,
   "id": "3adb536c",
   "metadata": {},
   "outputs": [],
   "source": [
    "# For figures\n",
    "colors = sns.color_palette(\"muted\")\n",
    "fig_dir = pl.Path(\"/add/path/here/\")"
   ]
  },
  {
   "cell_type": "code",
   "execution_count": null,
   "id": "92c43fe0",
   "metadata": {},
   "outputs": [],
   "source": [
    "base_dir = pl.Path(\"/add/path/here/\")\n",
    "base_dir4 = pl.Path(\"/add/path/here/\")\n",
    "\n",
    "data_dir = pl.Path(\"/add/path/here/\")\n",
    "\n",
    "bad_probes = pd.read_csv(data_dir / \"auxiliary\" / \"sketchy_probe_list_epic.csv\",index_col=0).values.ravel()\n",
    "sample_origin_path = pl.Path(data_dir / \"clinical\" / \"sample_origin_wbatch.csv\")\n",
    "\n",
    "clinical_path = pl.Path(data_dir / \"clinical\" / \"cleaned_clinical_reduced_diet.csv\")\n",
    "target_path = pl.Path(data_dir / \"clinical\" / \"targets.csv\")"
   ]
  },
  {
   "cell_type": "code",
   "execution_count": null,
   "id": "cff6106f",
   "metadata": {},
   "outputs": [],
   "source": [
    "EPIC2_b, EPIC2_clin, EPIC2_samples, EPIC2_phenotypes, EPIC3_b, EPIC3_clin, EPIC3_samples, EPIC3_phenotypes = dwnl.download_EPIC(sample_origin_path=sample_origin_path, \n",
    "                     base_dir=base_dir, clinical_path=clinical_path, target_path=target_path,\n",
    "                  bad_probes=bad_probes, EPIC4=False) "
   ]
  },
  {
   "cell_type": "code",
   "execution_count": null,
   "id": "c6efc10d",
   "metadata": {},
   "outputs": [],
   "source": [
    "EPIC4_b, EPIC4_clin, EPIC4_samples, EPIC4_phenotypes = dwnl.download_EPIC(sample_origin_path=sample_origin_path, \n",
    "                     base_dir=base_dir4, clinical_path=clinical_path, target_path=target_path, \n",
    "                  bad_probes=bad_probes, EPIC4=True) "
   ]
  },
  {
   "cell_type": "code",
   "execution_count": null,
   "id": "61883934",
   "metadata": {},
   "outputs": [],
   "source": [
    "background_cpgs = EPIC4_b.columns.intersection(EPIC2_b.columns).to_numpy()\n",
    "pd.Series(background_cpgs).to_csv(data_dir / \"variable_probes\" / \"full_background_probes.csv\")"
   ]
  },
  {
   "cell_type": "code",
   "execution_count": null,
   "id": "1c8b8ba1",
   "metadata": {},
   "outputs": [],
   "source": [
    "union_cpgs = pd.read_csv(data_dir / \"adVMP\" / \"union_cpgs.csv\",index_col=0).values.ravel()"
   ]
  },
  {
   "cell_type": "markdown",
   "id": "855e52c3",
   "metadata": {},
   "source": [
    "# Get hit fraction"
   ]
  },
  {
   "cell_type": "code",
   "execution_count": null,
   "id": "c45596fe",
   "metadata": {},
   "outputs": [],
   "source": [
    "heatmap_df1, hit_fraction1 = discov.get_heatmap_df(selcpgs=union_cpgs, EPIC_m=EPIC2_b, phenotypes=EPIC2_phenotypes, bal=True)\n",
    "\n",
    "heatmap_df2, hit_fraction2 = discov.get_heatmap_df(selcpgs=union_cpgs, EPIC_m=EPIC3_b, phenotypes=EPIC3_phenotypes, bal=True)\n",
    "\n",
    "heatmap_df3, hit_fraction3 = discov.get_heatmap_df(selcpgs=union_cpgs, EPIC_m=EPIC4_b, phenotypes=EPIC4_phenotypes, bal=True)"
   ]
  },
  {
   "cell_type": "code",
   "execution_count": null,
   "id": "6d928246",
   "metadata": {},
   "outputs": [],
   "source": [
    "binary1 = (heatmap_df1.iloc[:,:-6].abs()>4).astype(int)\n",
    "binary2 = (heatmap_df2.iloc[:,:-6].abs()>4).astype(int)\n",
    "binary3 = (heatmap_df3.iloc[:,:-6].abs()>4).astype(int)"
   ]
  },
  {
   "cell_type": "markdown",
   "id": "63ece3b9",
   "metadata": {},
   "source": [
    "# Visualize probe performance"
   ]
  },
  {
   "cell_type": "code",
   "execution_count": null,
   "id": "ab8a49af",
   "metadata": {},
   "outputs": [],
   "source": [
    "epic_manifest = pd.read_csv(data_dir / \"illumina_manifests\" / \"GPL21145_MethylationEPIC_15073387_v-1-0.csv.gz\",skiprows=7,index_col=0)"
   ]
  },
  {
   "cell_type": "code",
   "execution_count": null,
   "id": "4a0f1cd9",
   "metadata": {},
   "outputs": [],
   "source": [
    "roadmap_annotations = pd.read_csv(data_dir / \"NIH_Epigenomics_Roadmap\" / \"EPIC_to_state_mapping.csv\",index_col=0)"
   ]
  },
  {
   "cell_type": "code",
   "execution_count": null,
   "id": "aebcf51e",
   "metadata": {
    "scrolled": true
   },
   "outputs": [],
   "source": [
    "epic_manifest = pd.concat([epic_manifest,roadmap_annotations[\"State\"]],axis=1)"
   ]
  },
  {
   "cell_type": "code",
   "execution_count": null,
   "id": "f7010aae",
   "metadata": {},
   "outputs": [],
   "source": [
    "red_manifest = epic_manifest.loc[union_cpgs]"
   ]
  },
  {
   "cell_type": "code",
   "execution_count": null,
   "id": "71a58808",
   "metadata": {},
   "outputs": [],
   "source": [
    "assoc_genes = red_manifest[\"UCSC_RefGene_Name\"].dropna()\n",
    "unique_advmp_genes = []\n",
    "for genes in assoc_genes.str.split(\";\"):\n",
    "    for g in genes:\n",
    "        unique_advmp_genes.append(g)\n",
    "unique_advmp_genes = np.unique(unique_advmp_genes)"
   ]
  },
  {
   "cell_type": "code",
   "execution_count": null,
   "id": "6fb89b13",
   "metadata": {},
   "outputs": [],
   "source": [
    "len(unique_advmp_genes)"
   ]
  },
  {
   "cell_type": "code",
   "execution_count": null,
   "id": "db3b6aa3",
   "metadata": {
    "scrolled": true
   },
   "outputs": [],
   "source": [
    "is_global = {}\n",
    "for gene in tqdm(unique_advmp_genes):\n",
    "    is_global[gene] = glob.check_global_dysregulation_pergene(epic_manifest=epic_manifest, \n",
    "                                                         gene=gene, \n",
    "                            EPIC2_b=EPIC2_b, \n",
    "                            EPIC3_b=EPIC3_b, \n",
    "                            EPIC4_b=EPIC4_b, \n",
    "                            EPIC2_phenotypes=EPIC2_phenotypes, \n",
    "                            EPIC3_phenotypes=EPIC3_phenotypes, \n",
    "                            EPIC4_phenotypes=EPIC4_phenotypes,\n",
    "                            binary1=binary1, \n",
    "                            binary2=binary2, \n",
    "                            binary3=binary3, \n",
    "                            union_cpgs=union_cpgs)"
   ]
  },
  {
   "cell_type": "code",
   "execution_count": null,
   "id": "761386d2",
   "metadata": {},
   "outputs": [],
   "source": [
    "global_df = pd.DataFrame(is_global, index=[\"Global\"]).T\n",
    "global_df[\"Local\"] = ~global_df[\"Global\"]"
   ]
  },
  {
   "cell_type": "code",
   "execution_count": null,
   "id": "3aa2592c",
   "metadata": {},
   "outputs": [],
   "source": [
    "fig, ax = plt.subplots(1,1,figsize=(2,4))\n",
    "sns.barplot(data=global_df,ax=ax,palette=\"pastel\")\n",
    "plting.transform_plot_ax(ax, legend_title=\"\")\n",
    "fig.savefig(fig_dir / \"global_vs_local_dysregulation.svg\", bbox_inches=\"tight\")"
   ]
  },
  {
   "cell_type": "code",
   "execution_count": null,
   "id": "0e9ba396",
   "metadata": {},
   "outputs": [],
   "source": [
    "ax1, ax2, ax3 = glob.get_full_cg_info_gene(\n",
    "    epic_manifest=epic_manifest, union_cpgs=union_cpgs,\n",
    "    gene=\"IQGAP2\",\n",
    "    binary1=binary1,\n",
    "    binary2=binary2,\n",
    "    binary3=binary3,\n",
    "    EPIC2_b=EPIC2_b,\n",
    "    EPIC3_b=EPIC3_b,\n",
    "    EPIC4_b=EPIC4_b,\n",
    "    promoter_only=True,\n",
    ")\n",
    "ax1.figure.savefig(\n",
    "    fig_dir / \"global_local_dys\" / \"IQGAP2_promoter_SWEPIC1.svg\", bbox_inches=\"tight\"\n",
    ")\n",
    "ax2.figure.savefig(\n",
    "    fig_dir / \"global_local_dys\" / \"IQGAP2_promoter_SWEPIC2.svg\", bbox_inches=\"tight\"\n",
    ")\n",
    "ax3.figure.savefig(\n",
    "    fig_dir / \"global_local_dys\" / \"IQGAP2_promoter_SWEPIC3.svg\", bbox_inches=\"tight\"\n",
    ")\n"
   ]
  },
  {
   "cell_type": "code",
   "execution_count": null,
   "id": "4d7e2a29",
   "metadata": {},
   "outputs": [],
   "source": [
    "ax1, ax2, ax3 = glob.get_full_cg_info_gene(epic_manifest=epic_manifest,\n",
    "                                           union_cpgs=union_cpgs,\n",
    "                          gene='IQGAP2', \n",
    "                          binary1=binary1, \n",
    "                          binary2=binary2, \n",
    "                          binary3=binary3, \n",
    "                          EPIC2_b=EPIC2_b, \n",
    "                          EPIC3_b=EPIC3_b, \n",
    "                          EPIC4_b=EPIC4_b, promoter_only=False,)\n",
    "ax1.figure.savefig(fig_dir / \"global_local_dys\" / \"IQGAP2_SWEPIC1.svg\", \n",
    "                   bbox_inches=\"tight\")\n",
    "ax2.figure.savefig(fig_dir / \"global_local_dys\" / \"IQGAP2_SWEPIC2.svg\", \n",
    "                   bbox_inches=\"tight\")\n",
    "ax3.figure.savefig(fig_dir / \"global_local_dys\" / \"IQGAP2_SWEPIC3.svg\", \n",
    "                   bbox_inches=\"tight\")"
   ]
  },
  {
   "cell_type": "code",
   "execution_count": null,
   "id": "9a307944",
   "metadata": {},
   "outputs": [],
   "source": [
    "ax1, ax2, ax3 = glob.get_full_cg_info_gene(epic_manifest=epic_manifest, \n",
    "                                           union_cpgs=union_cpgs,\n",
    "                          gene='HLA-F', \n",
    "                          binary1=binary1, \n",
    "                          binary2=binary2, \n",
    "                          binary3=binary3, \n",
    "                          EPIC2_b=EPIC2_b, \n",
    "                          EPIC3_b=EPIC3_b, \n",
    "                          EPIC4_b=EPIC4_b, promoter_only=True,)\n",
    "ax1.figure.savefig(fig_dir / \"global_local_dys\" / \"HLA-F_promoter_SWEPIC1.svg\", \n",
    "                   bbox_inches=\"tight\")\n",
    "ax2.figure.savefig(fig_dir / \"global_local_dys\" / \"HLA-F_promoter_SWEPIC2.svg\", \n",
    "                   bbox_inches=\"tight\")\n",
    "ax3.figure.savefig(fig_dir / \"global_local_dys\" / \"HLA-F_promoter_SWEPIC3.svg\", \n",
    "                   bbox_inches=\"tight\")"
   ]
  },
  {
   "cell_type": "code",
   "execution_count": null,
   "id": "e715bb20",
   "metadata": {},
   "outputs": [],
   "source": [
    "ax1, ax2, ax3 = glob.get_full_cg_info_gene(epic_manifest=epic_manifest, \n",
    "                                           union_cpgs=union_cpgs,\n",
    "                          gene='HLA-F', \n",
    "                          binary1=binary1, \n",
    "                          binary2=binary2, \n",
    "                          binary3=binary3, \n",
    "                          EPIC2_b=EPIC2_b, \n",
    "                          EPIC3_b=EPIC3_b, \n",
    "                          EPIC4_b=EPIC4_b, promoter_only=False,)\n",
    "ax1.figure.savefig(fig_dir / \"global_local_dys\" / \"HLA-F_SWEPIC1.svg\", \n",
    "                   bbox_inches=\"tight\")\n",
    "ax2.figure.savefig(fig_dir / \"global_local_dys\" / \"HLA-F_SWEPIC2.svg\", \n",
    "                   bbox_inches=\"tight\")\n",
    "ax3.figure.savefig(fig_dir / \"global_local_dys\" / \"HLA-F_SWEPIC3.svg\", \n",
    "                   bbox_inches=\"tight\")"
   ]
  },
  {
   "cell_type": "code",
   "execution_count": null,
   "id": "e97b6e8f",
   "metadata": {},
   "outputs": [],
   "source": [
    "ax1, ax2, ax3 = glob.get_full_cg_info_gene(epic_manifest=epic_manifest, \n",
    "                                           union_cpgs=union_cpgs,\n",
    "                          gene='SPIRE1', \n",
    "                          binary1=binary1, \n",
    "                          binary2=binary2, \n",
    "                          binary3=binary3, \n",
    "                          EPIC2_b=EPIC2_b, \n",
    "                          EPIC3_b=EPIC3_b, \n",
    "                          EPIC4_b=EPIC4_b, promoter_only=True,)\n",
    "ax1.figure.savefig(fig_dir / \"global_local_dys\" / \"SPIRE1_promoter_SWEPIC1.svg\", \n",
    "                   bbox_inches=\"tight\")\n",
    "ax2.figure.savefig(fig_dir / \"global_local_dys\" / \"SPIRE1_promoter_SWEPIC2.svg\", \n",
    "                   bbox_inches=\"tight\")\n",
    "ax3.figure.savefig(fig_dir / \"global_local_dys\" / \"SPIRE1_promoter_SWEPIC3.svg\", \n",
    "                   bbox_inches=\"tight\")"
   ]
  },
  {
   "cell_type": "code",
   "execution_count": null,
   "id": "18960006",
   "metadata": {},
   "outputs": [],
   "source": [
    "ax1, ax2, ax3 = glob.get_full_cg_info_gene(epic_manifest=epic_manifest, \n",
    "                                           union_cpgs=union_cpgs,\n",
    "                          gene='SPIRE1', \n",
    "                          binary1=binary1, \n",
    "                          binary2=binary2, \n",
    "                          binary3=binary3, \n",
    "                          EPIC2_b=EPIC2_b, \n",
    "                          EPIC3_b=EPIC3_b, \n",
    "                          EPIC4_b=EPIC4_b, promoter_only=False,)\n",
    "ax1.figure.savefig(fig_dir / \"global_local_dys\" / \"SPIRE1_SWEPIC1.svg\", \n",
    "                   bbox_inches=\"tight\")\n",
    "ax2.figure.savefig(fig_dir / \"global_local_dys\" / \"SPIRE1_SWEPIC2.svg\", \n",
    "                   bbox_inches=\"tight\")\n",
    "ax3.figure.savefig(fig_dir / \"global_local_dys\" / \"SPIRE1_SWEPIC3.svg\", \n",
    "                   bbox_inches=\"tight\")"
   ]
  },
  {
   "cell_type": "code",
   "execution_count": null,
   "id": "fa7584ed",
   "metadata": {},
   "outputs": [],
   "source": []
  }
 ],
 "metadata": {
  "kernelspec": {
   "display_name": "Python 3 (ipykernel)",
   "language": "python",
   "name": "python3"
  },
  "language_info": {
   "codemirror_mode": {
    "name": "ipython",
    "version": 3
   },
   "file_extension": ".py",
   "mimetype": "text/x-python",
   "name": "python",
   "nbconvert_exporter": "python",
   "pygments_lexer": "ipython3",
   "version": "3.9.16"
  }
 },
 "nbformat": 4,
 "nbformat_minor": 5
}
