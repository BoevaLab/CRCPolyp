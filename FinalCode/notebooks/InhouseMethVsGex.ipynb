{
 "cells": [
  {
   "cell_type": "code",
   "execution_count": null,
   "id": "4316b1bf",
   "metadata": {},
   "outputs": [],
   "source": [
    "import pandas as pd\n",
    "import numpy as np\n",
    "import seaborn as sns\n",
    "import matplotlib.pyplot as plt\n",
    "\n",
    "from statsmodels.stats.multitest import multipletests\n",
    "\n",
    "from scipy.stats import pearsonr, fisher_exact, kruskal, mannwhitneyu\n",
    "import scipy.cluster.hierarchy as hierarchy\n",
    "from sklearn.decomposition import PCA\n",
    "from sklearn.manifold import TSNE\n",
    "from gtfparse import read_gtf\n",
    "from typing import Dict\n",
    "from pydeseq2.dds import DeseqDataSet\n",
    "from pydeseq2.ds import DeseqStats\n",
    "from pydeseq2.utils import load_example_data\n",
    "\n",
    "from adjustText import adjust_text\n",
    "\n",
    "import pathlib as pl\n",
    "\n",
    "import sys\n",
    "sys.path.append(\"../../FinalCode/\")\n",
    "import download.download as dwnl\n",
    "import utils.plotting as plting\n",
    "import adVMP.adVMP_discovery as discov"
   ]
  },
  {
   "cell_type": "code",
   "execution_count": null,
   "id": "6f8c2fb2",
   "metadata": {},
   "outputs": [],
   "source": [
    "fig_dir = pl.Path(\"/add/path/here/\")"
   ]
  },
  {
   "cell_type": "code",
   "execution_count": null,
   "id": "97726f35",
   "metadata": {},
   "outputs": [],
   "source": [
    "base_dir = pl.Path(\"/add/path/here/\")\n",
    "\n",
    "data_dir = pl.Path(\"/add/path/here/\")\n",
    "\n",
    "bad_probes = pd.read_csv(data_dir / \"auxiliary\" / \"sketchy_probe_list_epic.csv\",index_col=0).values.ravel()\n",
    "sample_origin_path = pl.Path(data_dir / \"clinical\" / \"sample_origin_wbatch.csv\")\n",
    "\n",
    "clinical_path = pl.Path(data_dir / \"clinical\" / \"cleaned_clinical_reduced_diet.csv\")\n",
    "target_path = pl.Path(data_dir / \"clinical\" / \"targets.csv\")"
   ]
  },
  {
   "cell_type": "code",
   "execution_count": null,
   "id": "32a7486e",
   "metadata": {},
   "outputs": [],
   "source": [
    "sample_origin = pd.read_csv(sample_origin_path)\n",
    "sample_origin = sample_origin.astype(str)"
   ]
  },
  {
   "cell_type": "code",
   "execution_count": null,
   "id": "027827df",
   "metadata": {},
   "outputs": [],
   "source": [
    "EPIC2_b, EPIC2_clin, EPIC2_samples, EPIC2_phenotypes, EPIC3_b, EPIC3_clin, EPIC3_samples, EPIC3_phenotypes = dwnl.download_EPIC(sample_origin_path=sample_origin_path, \n",
    "                     base_dir=base_dir, clinical_path=clinical_path, target_path=target_path,\n",
    "                  bad_probes=bad_probes, EPIC4=False) "
   ]
  },
  {
   "cell_type": "code",
   "execution_count": null,
   "id": "4280875b",
   "metadata": {},
   "outputs": [],
   "source": [
    "union_cpgs = pd.read_csv(data_dir / \"adVMP\" / \"union_cpgs.csv\",index_col=0).values.ravel()"
   ]
  },
  {
   "cell_type": "markdown",
   "id": "16b33b6c",
   "metadata": {},
   "source": [
    "# Map the genes to official gene name using Gencode"
   ]
  },
  {
   "cell_type": "code",
   "execution_count": null,
   "id": "6cfbb16f",
   "metadata": {},
   "outputs": [],
   "source": [
    "def get_gex_df(path: pl.Path, sample_origin: pd.DataFrame, mapping: Dict) -> pd.DataFrame:\n",
    "    gex_results = pd.read_csv(path,index_col=0)\n",
    "    gex_results = gex_results.loc[gex_results.index.str.startswith(\"ENSG\")]\n",
    "    gex_results.index = gex_results.index.str.split(\".\").str[0]\n",
    "\n",
    "    gex_results = gex_results.rename(index=mapping)\n",
    "\n",
    "    gex_results.columns = gex_results.columns.str.split(\"_\").str[0]\n",
    "\n",
    "    df = sample_origin[[\"specimen_number\",\"patient_id\"]]\n",
    "    specimen_mapping = df[df.specimen_number.isin(EPIC2_b.index)].set_index(\"patient_id\").to_dict()[\"specimen_number\"]\n",
    "\n",
    "    gex_results = gex_results.rename(columns=specimen_mapping)\n",
    "\n",
    "    gex_results = gex_results.reset_index().groupby(by=\"index\").mean().T\n",
    "    return gex_results"
   ]
  },
  {
   "cell_type": "code",
   "execution_count": null,
   "id": "1621f6c5",
   "metadata": {},
   "outputs": [],
   "source": [
    "gencode_path = pl.Path(\"/add/path/here/\")\n",
    "\n",
    "processed_rna_path = pl.Path(\"/add/path/here\")\n",
    "\n",
    "tpm_path = pl.Path(processed_rna_path / \"txiScaledTPM.csv\")\n",
    "count_path = pl.Path(processed_rna_path / \"txiCounts.csv\")\n",
    "length_path = pl.Path(processed_rna_path / \"txiLength.csv\")"
   ]
  },
  {
   "cell_type": "code",
   "execution_count": null,
   "id": "b64fd894",
   "metadata": {
    "scrolled": true
   },
   "outputs": [],
   "source": [
    "gencode = read_gtf(gencode_path)\n",
    "\n",
    "gencode = gencode.to_pandas()\n",
    "gencode = gencode[gencode[\"feature\"]==\"gene\"]\n",
    "gene_id = gencode[\"gene_id\"]\n",
    "\n",
    "df = gencode[[\"gene_id\",\"gene_name\"]].set_index(\"gene_id\")\n",
    "df.index = df.index.str.split(\".\").str[0]\n",
    "mapping = df.to_dict()[\"gene_name\"]"
   ]
  },
  {
   "cell_type": "code",
   "execution_count": null,
   "id": "25260ca9",
   "metadata": {},
   "outputs": [],
   "source": [
    "gex_results = get_gex_df(path=tpm_path, sample_origin=sample_origin, mapping=mapping)\n",
    "\n",
    "gex_counts = get_gex_df(path=count_path, sample_origin=sample_origin, mapping=mapping)\n",
    "\n",
    "gex_length = get_gex_df(path=length_path, sample_origin=sample_origin, mapping=mapping)"
   ]
  },
  {
   "cell_type": "code",
   "execution_count": null,
   "id": "73dd083f",
   "metadata": {},
   "outputs": [],
   "source": [
    "batch_layout = pd.read_csv(data_dr / \"RNAseq\"/ \"batch_layout.csv\").set_index(\"specimen_number\")\n",
    "batch_layout.index = batch_layout.index.astype(str)"
   ]
  },
  {
   "cell_type": "code",
   "execution_count": null,
   "id": "aa058fb4",
   "metadata": {},
   "outputs": [],
   "source": [
    "mapping = batch_layout.reset_index().set_index(\"patient_id\")[\"specimen_number\"].to_dict()"
   ]
  },
  {
   "cell_type": "code",
   "execution_count": null,
   "id": "ce74474a",
   "metadata": {},
   "outputs": [],
   "source": [
    "institution = pd.read_csv(data_dir / \"clinical\" / \"institution_information.csv\")\n",
    "institution = institution.set_index(\"Patient ID\").loc[batch_layout.patient_id.ravel()]\n",
    "institution = institution.rename(index=mapping)"
   ]
  },
  {
   "cell_type": "markdown",
   "id": "4663493e",
   "metadata": {},
   "source": [
    "### Reads tagged low quality by FastQC"
   ]
  },
  {
   "cell_type": "code",
   "execution_count": null,
   "id": "6476db6f",
   "metadata": {},
   "outputs": [],
   "source": [
    "low_quality = [1149, 1179, 1340, 1520, 1666, 268, 362,\n",
    "               498, 548, 576, 766, 771, 772, ]\n",
    "low_quality = pd.Series(low_quality).replace(mapping).ravel()\n",
    "\n",
    "# filter out genes that are 0 in more than 75% of the data\n",
    "to_keep = gex_results.loc[:,((gex_counts.round(0)==0).sum()<=(gex_results.shape[0]*0.75))].columns\n",
    "red_gex = gex_results.loc[:,to_keep]\n",
    "\n",
    "adenoma = pd.Series(EPIC2_phenotypes,index=EPIC2_clin.index).loc[red_gex.index]"
   ]
  },
  {
   "cell_type": "markdown",
   "id": "0f4cfc0d",
   "metadata": {},
   "source": [
    "# General plotting"
   ]
  },
  {
   "cell_type": "code",
   "execution_count": null,
   "id": "540a664c",
   "metadata": {},
   "outputs": [],
   "source": [
    "std_red_gex = (red_gex - red_gex.mean())/red_gex.std()"
   ]
  },
  {
   "cell_type": "code",
   "execution_count": null,
   "id": "beadc04a",
   "metadata": {},
   "outputs": [],
   "source": [
    "pca = PCA(n_components=50)\n",
    "X_PCA = pca.fit_transform(std_red_gex)"
   ]
  },
  {
   "cell_type": "code",
   "execution_count": null,
   "id": "4599fb6c",
   "metadata": {},
   "outputs": [],
   "source": [
    "pca.explained_variance_ratio_"
   ]
  },
  {
   "cell_type": "code",
   "execution_count": null,
   "id": "583f6e94",
   "metadata": {},
   "outputs": [],
   "source": [
    "X_PCA = pd.DataFrame(X_PCA, index=std_red_gex.index, columns=[f\"PCA{i+1}\" for i in range(X_PCA.shape[1])])\n",
    "\n",
    "X_PCA = pd.concat([X_PCA,EPIC2_clin.loc[X_PCA.index],batch_layout[\"Given Plate Name\"],institution],axis=1)\n",
    "\n",
    "X_PCA[\"Adenoma\"] = adenoma\n",
    "\n",
    "X_PCA[\"Low quality\"] = False\n",
    "\n",
    "X_PCA.loc[low_quality,\"Low quality\"] = True"
   ]
  },
  {
   "cell_type": "code",
   "execution_count": null,
   "id": "21ecb345",
   "metadata": {},
   "outputs": [],
   "source": [
    "clin_params = [\"Age at visit\",\"BMI\",\"Ever smoked cigarettes\",\n",
    "               \"Metabolic syndrome\",\"Analgesic >=2 years (overall)\",\n",
    "               \"Pack years\",\"inflammatory_n\",\"anti-inflammatory_n\",\n",
    "               \"western_n\",\"prudent_n\",\"Adenoma\",\"Given Plate Name\",\"Institution\",\"Low quality\"]\n",
    "bin_params = [\"Adenoma\",\"Ever smoked cigarettes\",\"Metabolic syndrome\",\n",
    "              \"Analgesic >=2 years (overall)\",\"Given Plate Name\",\"Institution\",\"Low quality\"]\n",
    "cont_params = [\"Age at visit\",\"BMI\",\"Pack years\",\"inflammatory_n\",\n",
    "               \"anti-inflammatory_n\",\n",
    "               \"western_n\",\"prudent_n\"]"
   ]
  },
  {
   "cell_type": "code",
   "execution_count": null,
   "id": "fc4bf596",
   "metadata": {},
   "outputs": [],
   "source": [
    "df = X_PCA[[f\"PCA{i+1}\" for i in range(10)] + clin_params]\n",
    "\n",
    "df[\"Institution\"] = df[\"Institution\"].replace({\"e2\": 0, \"55\": 1})\n",
    "\n",
    "df[\"Given Plate Name\"] = df[\"Given Plate Name\"].replace({\"Plate 1\": 0, \"Plate 2\": 1})"
   ]
  },
  {
   "cell_type": "code",
   "execution_count": null,
   "id": "1e407ad8",
   "metadata": {
    "scrolled": true
   },
   "outputs": [],
   "source": [
    "associations = {}\n",
    "for pc in [f\"PCA{i+1}\" for i in range(10)]:\n",
    "    associations[pc] = {}\n",
    "    for col in bin_params:\n",
    "        neg = df[col]==0\n",
    "        pos = df[col]==1\n",
    "        pval = kruskal(df[neg][pc],df[pos][pc])[1]\n",
    "        associations[pc][col] = pval\n",
    "    for col in cont_params:\n",
    "        dfred = df[[pc,col]].dropna()\n",
    "        pval = pearsonr(dfred[pc],dfred[col])[1]\n",
    "        associations[pc][col] = pval\n",
    "associations = pd.DataFrame.from_dict(associations)\n",
    "associations = associations.applymap(lambda x: -np.log10(x))"
   ]
  },
  {
   "cell_type": "code",
   "execution_count": null,
   "id": "163e66eb",
   "metadata": {},
   "outputs": [],
   "source": [
    "association_q = []\n",
    "for col in associations.columns:\n",
    "    association_q.append(pd.DataFrame(multipletests(associations.loc[:,col].ravel(), method=\"fdr_bh\")[1],\n",
    "                  index=associations.index,\n",
    "                  columns=[col]))"
   ]
  },
  {
   "cell_type": "code",
   "execution_count": null,
   "id": "73a115fe",
   "metadata": {},
   "outputs": [],
   "source": [
    "association_q = pd.concat(association_q,axis=1)"
   ]
  },
  {
   "cell_type": "code",
   "execution_count": null,
   "id": "6da1f893",
   "metadata": {},
   "outputs": [],
   "source": [
    "fig, ax = plt.subplots(1,1,figsize=(12,4))\n",
    "alpha_bonf = 0.05/associations.shape[0]\n",
    "alpha_bonf = -np.log10(alpha_bonf)\n",
    "sns.heatmap(associations, mask=associations<alpha_bonf, cmap=\"vlag\", vmax=5,\n",
    "            center=0.9*alpha_bonf, ax=ax, cbar_kws={\"label\": \"-log10(p)\"})\n",
    "fig.savefig(fig_dir / \"PCA_heatmap_clin_associations.png\", dpi=250, bbox_inches=\"tight\")"
   ]
  },
  {
   "cell_type": "code",
   "execution_count": null,
   "id": "b96c6e5a",
   "metadata": {},
   "outputs": [],
   "source": [
    "ax = sns.scatterplot(data=X_PCA,x=\"PCA1\",y=\"PCA2\",hue=\"Adenoma\")\n",
    "plting.transform_plot_ax(ax, legend_title=\"Adenoma\", remove_ticks=True)\n",
    "ax.set_xlabel(f\"PCA1 ({pca.explained_variance_ratio_[0]*100:.1f}%)\")\n",
    "ax.set_ylabel(f\"PCA2 ({pca.explained_variance_ratio_[1]*100:.1f}%)\")\n",
    "ax.figure.savefig(fig_dir / \"PCA_gex_rnaseq.svg\", bbox_inches='tight')"
   ]
  },
  {
   "cell_type": "code",
   "execution_count": null,
   "id": "fa56fbe5",
   "metadata": {},
   "outputs": [],
   "source": [
    "ax = sns.scatterplot(data=X_PCA[X_PCA[\"Given Plate Name\"]==\"Plate 1\"],x=\"PCA1\",y=\"PCA2\",hue=\"Adenoma\")\n",
    "plting.transform_plot_ax(ax, legend_title=\"Adenoma\", remove_ticks=True)\n",
    "ax.set_xlabel(f\"PCA1 ({pca.explained_variance_ratio_[0]*100:.1f}%)\")\n",
    "ax.set_ylabel(f\"PCA2 ({pca.explained_variance_ratio_[1]*100:.1f}%)\")\n",
    "ax.figure.savefig(fig_dir / \"PCA_gex_rnaseq.svg\", bbox_inches='tight')"
   ]
  },
  {
   "cell_type": "code",
   "execution_count": null,
   "id": "f32c7ddd",
   "metadata": {},
   "outputs": [],
   "source": [
    "ax = sns.scatterplot(data=X_PCA,x=\"PCA1\",y=\"PCA2\",hue=\"Given Plate Name\")\n",
    "plting.transform_plot_ax(ax, legend_title=\"Given Plate Name\", remove_ticks=True)\n",
    "ax.set_xlabel(f\"PCA1 ({pca.explained_variance_ratio_[0]*100:.1f}%)\")\n",
    "ax.set_ylabel(f\"PCA2 ({pca.explained_variance_ratio_[1]*100:.1f}%)\")\n",
    "ax.figure.savefig(fig_dir / \"PCA_rnaseq_plate.svg\", bbox_inches='tight')"
   ]
  },
  {
   "cell_type": "markdown",
   "id": "1d708898",
   "metadata": {},
   "source": [
    "# Get differential expression using DESeq2"
   ]
  },
  {
   "cell_type": "code",
   "execution_count": null,
   "id": "45a0c5ce",
   "metadata": {},
   "outputs": [],
   "source": [
    "def get_volcano_plot(summary: pd.DataFrame, \n",
    "                     lim_fc: float=1, \n",
    "                     lim_sign: float=-np.log10(0.05), \n",
    "                     lim_fc_annot: float=1.5, \n",
    "                     lim_sign_annot: float=5) -> plt.Figure:\n",
    "    \n",
    "    summary[\"-log10(p)\"] = summary.pvalue.apply(lambda x: -np.log10(x))\n",
    "    summary[\"-log10(q)\"] = summary.padj.apply(lambda x: -np.log10(x))\n",
    "    summary[\"Significant\"] = summary[\"-log10(q)\"]>=lim_sign\n",
    "\n",
    "    genes_to_annotate = summary[(summary[\"log2FoldChange\"].abs()>np.log2(lim_fc_annot)) & (summary[\"-log10(q)\"]>=lim_sign_annot)]\n",
    "\n",
    "    pmin = summary[summary[\"Significant\"]][\"-log10(q)\"].min()\n",
    "    fig, ax = plt.subplots(1,1)\n",
    "    sns.scatterplot(data=summary, \n",
    "                    y=\"-log10(q)\", \n",
    "                    x=\"log2FoldChange\", \n",
    "                    hue=\"Significant\", \n",
    "                    palette = {True: \"red\", False: \"blue\"},\n",
    "                    ax=ax)\n",
    "    ax.hlines(xmin=ax.get_xlim()[0],xmax=ax.get_xlim()[1].max(),y=pmin,color=\"r\",linestyle='--')\n",
    "    plting.transform_plot_ax(ax, legend_title=\"Sign. diff. expressed\")\n",
    "    if genes_to_annotate.shape[0]==0:\n",
    "        print(\"No significant gene!\")\n",
    "        return fig\n",
    "        \n",
    "    texts = []\n",
    "    for g in genes_to_annotate.index:\n",
    "        x = genes_to_annotate.loc[g,\"log2FoldChange\"]\n",
    "        y = genes_to_annotate.loc[g,\"-log10(q)\"]\n",
    "        texts.append(ax.text(x,y,g,fontsize=10))\n",
    "\n",
    "    adjust_text(texts, only_move={'points':'y', 'texts':'y'}, arrowprops=dict(arrowstyle=\"-\", color='r', lw=0.5))\n",
    "    return fig"
   ]
  },
  {
   "cell_type": "code",
   "execution_count": null,
   "id": "e42bbb47",
   "metadata": {},
   "outputs": [],
   "source": [
    "metadata = pd.concat([batch_layout[\"Given Plate Name\"].loc[gex_counts.index],adenoma.to_frame().astype(int).astype(str)],axis=1)\n",
    "metadata.columns = [\"Plate\",\"Adenoma\"]"
   ]
  },
  {
   "cell_type": "code",
   "execution_count": null,
   "id": "a49e3d43",
   "metadata": {},
   "outputs": [],
   "source": [
    "dds = DeseqDataSet(\n",
    "    counts=gex_counts.loc[:,to_keep].round(0),\n",
    "    metadata=metadata.loc[gex_counts.index],\n",
    "    design_factors=[\"Adenoma\",\"Plate\"],\n",
    "    refit_cooks=True,\n",
    "    n_cpus=8,\n",
    ")\n",
    "\n",
    "dds.deseq2()"
   ]
  },
  {
   "cell_type": "code",
   "execution_count": null,
   "id": "130b9c71",
   "metadata": {},
   "outputs": [],
   "source": [
    "stat_res = DeseqStats(dds, contrast=[\"Adenoma\", \"1\", \"0\"], n_cpus=8)"
   ]
  },
  {
   "cell_type": "code",
   "execution_count": null,
   "id": "d2b442dc",
   "metadata": {
    "scrolled": true
   },
   "outputs": [],
   "source": [
    "stat_res.summary()\n",
    "\n",
    "summary = stat_res.results_df.copy()"
   ]
  },
  {
   "cell_type": "code",
   "execution_count": null,
   "id": "667ecef8",
   "metadata": {},
   "outputs": [],
   "source": [
    "stat_res.lfc_shrink(coeff=\"Adenoma_1_vs_0\")\n",
    "\n",
    "shrink_summary = stat_res.results_df.copy()"
   ]
  },
  {
   "cell_type": "code",
   "execution_count": null,
   "id": "0294d0ee",
   "metadata": {},
   "outputs": [],
   "source": [
    "df = shrink_summary.dropna()\n",
    "df.log2FoldChange = df.log2FoldChange.clip(-2,2)"
   ]
  },
  {
   "cell_type": "code",
   "execution_count": null,
   "id": "64220375",
   "metadata": {},
   "outputs": [],
   "source": [
    "df.padj = df.padj.clip(10**(-5),1)"
   ]
  },
  {
   "cell_type": "code",
   "execution_count": null,
   "id": "1d7b2fb2",
   "metadata": {},
   "outputs": [],
   "source": [
    "fig = get_volcano_plot(summary=df,\n",
    "                       lim_fc=1, lim_sign=-np.log10(0.05), lim_fc_annot=2, lim_sign_annot=2)\n",
    "fig.savefig(fig_dir / \"volcano_plot_naa_vs_healthy.svg\", bbox_inches=\"tight\")"
   ]
  },
  {
   "cell_type": "markdown",
   "id": "a376a811",
   "metadata": {},
   "source": [
    "# Get the unsupervised grouping of patients according to expression of aDVMC-related genes"
   ]
  },
  {
   "cell_type": "code",
   "execution_count": null,
   "id": "4cacbbe5",
   "metadata": {},
   "outputs": [],
   "source": [
    "def get_clustermap(df: pd.DataFrame, \n",
    "                   adenoma: pd.Series, \n",
    "                   filename: str = \"clustermap_advmc_related_genes.svg\"):\n",
    "    std_df = (df-df.mean())/df.std()\n",
    "\n",
    "    pred = hierarchy.fclusterdata(std_df, 2, criterion='maxclust', method='ward', metric='euclidean')\n",
    "    pred = pd.DataFrame(pred, index=std_df.index, columns=[\"Cluster\"])\n",
    "\n",
    "    pred = pred.sort_values(by=\"Cluster\")\n",
    "    conting = pd.crosstab(pred[\"Cluster\"],adenoma)\n",
    "    print(\"Fisher adenoma\",fisher_exact(conting))\n",
    "    print(conting)\n",
    "\n",
    "    cg = sns.clustermap(data=std_df.loc[pred.index], row_colors=[pred.replace({1: \"orange\", 2: \"grey\"}).values.ravel(),\n",
    "                                            adenoma.loc[pred.index].replace({0: \"blue\", 1: \"red\"}).ravel(),],\n",
    "                   row_cluster=True, method=\"ward\", cmap=\"vlag\", center=0, vmin=-2, vmax=3)\n",
    "    cg.ax_col_dendrogram.set_visible(False)\n",
    "    cg.ax_heatmap.axis(\"off\")\n",
    "    cg.figure.savefig(fig_dir / filename, bbox_inches=\"tight\")"
   ]
  },
  {
   "cell_type": "code",
   "execution_count": null,
   "id": "0505bbd1",
   "metadata": {},
   "outputs": [],
   "source": [
    "epic_manifest = pd.read_csv(data_dir / \"illumina_manifests\" / \"GPL21145_MethylationEPIC_15073387_v-1-0.csv.gz\",skiprows=7,index_col=0)"
   ]
  },
  {
   "cell_type": "code",
   "execution_count": null,
   "id": "2c85f45c",
   "metadata": {},
   "outputs": [],
   "source": [
    "mapping_roadmap = pd.read_csv(data_dir / \"NIH_Epigenomics_Roadmap\" / \"EPIC_to_state_mapping.csv\",index_col=0)"
   ]
  },
  {
   "cell_type": "code",
   "execution_count": null,
   "id": "e94a2a45",
   "metadata": {},
   "outputs": [],
   "source": [
    "epic_manifest = epic_manifest.loc[union_cpgs]\n",
    "epic_manifest = pd.concat([epic_manifest,mapping_roadmap],axis=1,join=\"inner\")"
   ]
  },
  {
   "cell_type": "code",
   "execution_count": null,
   "id": "02995c78",
   "metadata": {},
   "outputs": [],
   "source": [
    "red_manifest = epic_manifest[['CHR', 'MAPINFO',\n",
    "       'UCSC_RefGene_Name', \n",
    "       'UCSC_RefGene_Group', 'UCSC_CpG_Islands_Name',\n",
    "       'Relation_to_UCSC_CpG_Island', '450k_Enhancer',\"State\"]]"
   ]
  },
  {
   "cell_type": "code",
   "execution_count": null,
   "id": "f3fbbf1f",
   "metadata": {},
   "outputs": [],
   "source": [
    "tssA_manifest = red_manifest[red_manifest.State.isin([\"1_TssA\",\"2_TssAFlnk\",\"3_TxFlnk\"])]\n",
    "tss_unique_genes = np.unique(np.concatenate(tssA_manifest[\"UCSC_RefGene_Name\"].dropna().str.split(\";\").values))\n",
    "\n",
    "to_drop = [\"AGPAT9\", \"TUBA3FP\", 'LOC100996325', 'LOC101593348', 'LOC101929234', 'LOC101929512', 'LOC339874', 'LOC375196']\n",
    "to_replace = {\"HIST1H2BB\": \"H2BC3\", \"C1orf101\": \"CATSPERE\", \"HIST1H3C\": \"H3C3\", \"MB21D1\" : \"CGAS\"}\n",
    "tss_unique_genes = np.setdiff1d(tss_unique_genes, to_drop)\n",
    "\n",
    "tss_unique_genes = pd.Series(tss_unique_genes).replace(to_replace).ravel()\n",
    "tss_unique_genes = summary.index.intersection(tss_unique_genes).to_numpy()\n",
    "print(len(tss_unique_genes))"
   ]
  },
  {
   "cell_type": "code",
   "execution_count": null,
   "id": "2cc062a6",
   "metadata": {},
   "outputs": [],
   "source": [
    "heatmap_df1, hit_fraction1 = discov.get_heatmap_df(selcpgs=union_cpgs, EPIC_m=EPIC2_b, phenotypes=EPIC2_phenotypes, bal=True)"
   ]
  },
  {
   "cell_type": "code",
   "execution_count": null,
   "id": "504ac2fc",
   "metadata": {},
   "outputs": [],
   "source": [
    "df = red_gex.loc[:,red_gex.columns.intersection(tss_unique_genes)]\n",
    "get_clustermap(df, adenoma)"
   ]
  },
  {
   "cell_type": "code",
   "execution_count": null,
   "id": "352711d2",
   "metadata": {},
   "outputs": [],
   "source": [
    "selpat = batch_layout[batch_layout[\"Given Plate Name\"]==\"Plate 1\"].index\n",
    "df = red_gex.loc[selpat,red_gex.columns.intersection(tss_unique_genes)]\n",
    "get_clustermap(df, adenoma, filename=\"clustermap_advmc_related_genes_plate1.svg\")"
   ]
  },
  {
   "cell_type": "markdown",
   "id": "df746d02",
   "metadata": {},
   "source": [
    "# Get the paired relation between methylation and GEX"
   ]
  },
  {
   "cell_type": "code",
   "execution_count": null,
   "id": "6256e5b6",
   "metadata": {},
   "outputs": [],
   "source": [
    "outlier_matrix = (heatmap_df1.iloc[:,:-6].abs()>4).astype(int)\n",
    "baseline_matrix = (~(heatmap_df1.iloc[:,:-6].abs()<1)).astype(int)"
   ]
  },
  {
   "cell_type": "code",
   "execution_count": null,
   "id": "dce15fb6",
   "metadata": {
    "scrolled": true
   },
   "outputs": [],
   "source": [
    "invert_replace = {v: k for k,v in to_replace.items()}\n",
    "gene_ps = {}\n",
    "for gene in red_gex.columns.intersection(tss_unique_genes):\n",
    "    if gene in list(to_replace.values()):\n",
    "        gene2 = invert_replace[gene]\n",
    "    else:\n",
    "        gene2 = gene\n",
    "    cgs = tssA_manifest[tssA_manifest['UCSC_RefGene_Name'].str.contains(gene2).fillna(False)].index\n",
    "    \n",
    "    outlier_patient = outlier_matrix[outlier_matrix.loc[:,cgs].sum(axis=1)>0].index\n",
    "    baseline_patient = baseline_matrix[baseline_matrix.loc[:,cgs].sum(axis=1)==0].index\n",
    "    hit_patient = pd.DataFrame(np.zeros((outlier_matrix.shape[0],1)), index=outlier_matrix.index, columns=[\"Outlier\"])\n",
    "    hit_patient.loc[outlier_patient]=\"Outlier\"\n",
    "    hit_patient.loc[baseline_patient]=\"Baseline\"\n",
    "    \n",
    "    if len(outlier_patient)==0:\n",
    "        continue\n",
    "    plot_df = pd.concat([red_gex.loc[:,gene],hit_patient],axis=1).dropna()\n",
    "    plot_df.columns = [\"gene\",\"outlier\"]\n",
    "    _, p = mannwhitneyu(plot_df[plot_df.outlier==\"Outlier\"].gene.ravel(),plot_df[plot_df.outlier==\"Baseline\"].gene.ravel())\n",
    "    gene_ps[gene] = [p]"
   ]
  },
  {
   "cell_type": "code",
   "execution_count": null,
   "id": "5b6b1076",
   "metadata": {},
   "outputs": [],
   "source": [
    "gene_ps = pd.DataFrame(gene_ps).T\n",
    "gene_ps.columns = [\"p\"]\n",
    "\n",
    "qs = multipletests(gene_ps.p.ravel())[1]\n",
    "\n",
    "gene_ps[\"q\"] = qs"
   ]
  },
  {
   "cell_type": "code",
   "execution_count": null,
   "id": "abfed2dd",
   "metadata": {},
   "outputs": [],
   "source": [
    "fig, ax = plt.subplots(2,2, figsize=(8,6))\n",
    "flatax = ax.flatten()\n",
    "\n",
    "for i,gene in enumerate(gene_ps[gene_ps.q<0.1].index):\n",
    "\n",
    "    cgs = tssA_manifest[tssA_manifest['UCSC_RefGene_Name'].str.contains(gene).fillna(False)].index\n",
    "    outlier_patient = outlier_matrix[outlier_matrix.loc[:,cgs].sum(axis=1)>0].index\n",
    "    baseline_patient = baseline_matrix[baseline_matrix.loc[:,cgs].sum(axis=1)==0].index\n",
    "    hit_patient = pd.DataFrame(np.zeros((outlier_matrix.shape[0],1)), index=outlier_matrix.index, columns=[\"Outlier\"])\n",
    "    hit_patient.loc[outlier_patient]=\"Outlier\"\n",
    "    hit_patient.loc[baseline_patient]=\"Baseline\"\n",
    "    \n",
    "    if len(outlier_patient)==0:\n",
    "        continue\n",
    "    plot_df = pd.concat([red_gex.loc[:,gene],hit_patient],axis=1).dropna()\n",
    "    plot_df.columns = [\"gene\",\"outlier\"]\n",
    "    _, p = mannwhitneyu(plot_df[plot_df.outlier==\"Outlier\"].gene.ravel(),plot_df[plot_df.outlier==\"Baseline\"].gene.ravel())\n",
    "\n",
    "    sns.swarmplot(data=plot_df,x=\"outlier\",y=\"gene\", \n",
    "                  order=[\"Baseline\",\"Outlier\"], \n",
    "                  palette=[\"tab:blue\",\"indianred\"],ax=flatax[i])\n",
    "    sns.boxplot(data=plot_df,x=\"outlier\",y=\"gene\", order=[\"Baseline\",\"Outlier\"],\n",
    "                 showcaps=False,width=0.3,boxprops={'facecolor':'None','linewidth':1},\n",
    "                 showfliers=False,whiskerprops={'linewidth':1}, ax=flatax[i])\n",
    "    flatax[i].set_title(f\"{gene}, p={p:.2e}\", fontsize=15, style=\"italic\") \n",
    "    flatax[i].spines[[\"top\",\"right\"]].set_visible(False)\n",
    "    flatax[i].spines[[\"bottom\",\"left\"]].set_linewidth(4)\n",
    "    flatax[i].set_xticklabels(flatax[i].get_xticklabels(), fontsize=15)\n",
    "    flatax[i].set_xlabel(\"\")\n",
    "    flatax[i].set_yticklabels(flatax[i].get_yticklabels(), fontsize=15)\n",
    "    flatax[i].set_ylabel(\"scaledTPM\", fontsize=15)\n",
    "    \n",
    "fig.tight_layout()\n",
    "fig.savefig(fig_dir / f\"signgenes_swarmplot.svg\", bbox_inches=\"tight\")"
   ]
  },
  {
   "cell_type": "code",
   "execution_count": null,
   "id": "1c97c118",
   "metadata": {},
   "outputs": [],
   "source": [
    "redsum = summary.loc[summary.index.intersection(tss_unique_genes)].copy()"
   ]
  },
  {
   "cell_type": "code",
   "execution_count": null,
   "id": "58433676",
   "metadata": {},
   "outputs": [],
   "source": [
    "fig = get_volcano_plot(summary=redsum,\n",
    "                       lim_fc=1, lim_sign=-np.log10(0.1), lim_fc_annot=1, lim_sign_annot=-np.log10(0.2))\n",
    "fig.savefig(fig_dir / \"volcano_plot_naa_vs_healthy_advmc_genes.svg\")"
   ]
  },
  {
   "cell_type": "code",
   "execution_count": null,
   "id": "71477f8a",
   "metadata": {},
   "outputs": [],
   "source": []
  }
 ],
 "metadata": {
  "kernelspec": {
   "display_name": "Python 3 (ipykernel)",
   "language": "python",
   "name": "python3"
  },
  "language_info": {
   "codemirror_mode": {
    "name": "ipython",
    "version": 3
   },
   "file_extension": ".py",
   "mimetype": "text/x-python",
   "name": "python",
   "nbconvert_exporter": "python",
   "pygments_lexer": "ipython3",
   "version": "3.9.16"
  }
 },
 "nbformat": 4,
 "nbformat_minor": 5
}
