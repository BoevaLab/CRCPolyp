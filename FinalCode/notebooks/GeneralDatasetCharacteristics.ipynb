{
 "cells": [
  {
   "cell_type": "code",
   "execution_count": null,
   "id": "3839745d",
   "metadata": {},
   "outputs": [],
   "source": [
    "import pandas as pd\n",
    "import numpy as np\n",
    "import pathlib as pl\n",
    "\n",
    "from tqdm.notebook import tqdm\n",
    "import seaborn as sns\n",
    "import matplotlib.pyplot as plt\n",
    "from statannotations.Annotator import Annotator\n",
    "\n",
    "from scipy.stats import mannwhitneyu, fisher_exact, pearsonr, kruskal"
   ]
  },
  {
   "cell_type": "code",
   "execution_count": null,
   "id": "da9345c2",
   "metadata": {},
   "outputs": [],
   "source": [
    "import sys\n",
    "sys.path.append(\"../../FinalCode/\")\n",
    "import download.download as dwnl\n",
    "import utils.plotting as plting"
   ]
  },
  {
   "cell_type": "code",
   "execution_count": null,
   "id": "3adb536c",
   "metadata": {},
   "outputs": [],
   "source": [
    "# For figures\n",
    "colors = sns.color_palette(\"muted\")\n",
    "fig_dir = pl.Path(\"/add/path/here/\")"
   ]
  },
  {
   "cell_type": "code",
   "execution_count": null,
   "id": "9954698b",
   "metadata": {},
   "outputs": [],
   "source": [
    "def print_characteristic(EPIC_clin: pd.DataFrame, \n",
    "                         EPIC_phenotypes: np.ndarray, \n",
    "                         charac: str, count: bool) -> None:\n",
    "    print(\"Total\")\n",
    "    if count:\n",
    "        print(EPIC_clin[charac].sum(), EPIC_clin[charac].sum()/EPIC_clin.shape[0])\n",
    "    else:\n",
    "        print(EPIC_clin[charac].describe())\n",
    "    print(\"Healthy\")\n",
    "    healthy = EPIC_clin.iloc[EPIC_phenotypes==0][charac]\n",
    "    if count:\n",
    "        print(healthy.sum(), healthy.sum()/healthy.shape[0])\n",
    "    else:\n",
    "        print(healthy.describe())\n",
    "    print(\"Adenoma pat\")\n",
    "    adenoma = EPIC_clin.iloc[EPIC_phenotypes==1][charac]\n",
    "    if count:\n",
    "        print(adenoma.sum(), adenoma.sum()/adenoma.shape[0])\n",
    "    else:\n",
    "        print(adenoma.describe())\n",
    "    print(\"pval healthy vs adenoma\")\n",
    "    if count:\n",
    "        a = adenoma.sum()\n",
    "        b = healthy.sum()\n",
    "        c = adenoma.shape[0] - a\n",
    "        d = healthy.shape[0] - b\n",
    "        print(fisher_exact(np.array([[a,b],[c,d]])))\n",
    "    else:\n",
    "        print(mannwhitneyu(healthy.dropna().ravel(),adenoma.dropna().ravel()))"
   ]
  },
  {
   "cell_type": "code",
   "execution_count": null,
   "id": "92c43fe0",
   "metadata": {},
   "outputs": [],
   "source": [
    "base_dir = pl.Path(\"/add/path/here/\")\n",
    "base_dir4 = pl.Path(\"/add/path/here/\")\n",
    "\n",
    "data_dir = pl.Path(\"/add/path/here/\")\n",
    "\n",
    "bad_probes = pd.read_csv(data_dir / \"auxiliary\" / \"sketchy_probe_list_epic.csv\",index_col=0).values.ravel()\n",
    "sample_origin_path = pl.Path(data_dir / \"clinical\" / \"sample_origin_wbatch.csv\")\n",
    "\n",
    "clinical_path = pl.Path(data_dir / \"clinical\" /\"cleaned_clinical_reduced_diet.csv\")\n",
    "target_path = pl.Path(data_dir / \"clinical\" / \"targets.csv\")"
   ]
  },
  {
   "cell_type": "code",
   "execution_count": null,
   "id": "cff6106f",
   "metadata": {},
   "outputs": [],
   "source": [
    "EPIC2_b, EPIC2_clin, EPIC2_samples, EPIC2_phenotypes, EPIC3_b, EPIC3_clin, EPIC3_samples, EPIC3_phenotypes = dwnl.download_EPIC(sample_origin_path=sample_origin_path, \n",
    "                     base_dir=base_dir, clinical_path=clinical_path, target_path=target_path,\n",
    "                  bad_probes=bad_probes, EPIC4=False) "
   ]
  },
  {
   "cell_type": "code",
   "execution_count": null,
   "id": "c6efc10d",
   "metadata": {},
   "outputs": [],
   "source": [
    "EPIC4_b, EPIC4_clin, EPIC4_samples, EPIC4_phenotypes = dwnl.download_EPIC(sample_origin_path=sample_origin_path, \n",
    "                     base_dir=base_dir4, clinical_path=clinical_path, target_path=target_path, \n",
    "                  bad_probes=bad_probes, EPIC4=True) "
   ]
  },
  {
   "cell_type": "code",
   "execution_count": null,
   "id": "e0a18464",
   "metadata": {},
   "outputs": [],
   "source": []
  },
  {
   "cell_type": "code",
   "execution_count": null,
   "id": "cd8cd9ae",
   "metadata": {},
   "outputs": [],
   "source": [
    "def get_barplot_gender(df: pd.DataFrame, name: str, color) -> None:\n",
    "    fig, ax = plt.subplots(1,1,figsize=(2,3))\n",
    "    sns.barplot(data=df.T, color=color, ax=ax)\n",
    "    plting.transform_plot_ax(ax, legend_title=\"\")\n",
    "    ax.set_ylabel(\"%\",fontsize=15)\n",
    "    ax.bar_label(ax.containers[0], fmt='%.0f', fontsize=15)\n",
    "    ax.figure.savefig(fig_dir / \"clinical_barplots\" / name, bbox_inches=\"tight\") "
   ]
  },
  {
   "cell_type": "code",
   "execution_count": null,
   "id": "dda772c3",
   "metadata": {},
   "outputs": [],
   "source": [
    "df = pd.DataFrame(np.array([100,0]), index=[\"F\",\"M\"])\n",
    "get_barplot_gender(df,\"SWEPIC1_gender.svg\",colors[6])\n",
    "\n",
    "df = pd.DataFrame(np.array([100,0]), index=[\"F\",\"M\"])\n",
    "get_barplot_gender(df,\"SWEPIC2_gender.svg\",colors[7])\n",
    "\n",
    "df = pd.DataFrame(np.array([0,100]), index=[\"F\",\"M\"])\n",
    "get_barplot_gender(df,\"SWEPIC3_gender.svg\",colors[9])"
   ]
  },
  {
   "cell_type": "code",
   "execution_count": null,
   "id": "40d0fee8",
   "metadata": {},
   "outputs": [],
   "source": [
    "def get_barplot_ad_swepic(df: pd.DataFrame, name: str) -> None:\n",
    "    fig, ax = plt.subplots(1,1,figsize=(2,3))\n",
    "    sns.barplot(data=df.T, palette = [colors[0], colors[3]],ax=ax)\n",
    "    ax.set_ylim([0,100])\n",
    "    plting.transform_plot_ax(ax, legend_title=\"\")\n",
    "    ax.get_yaxis().set_visible(False)\n",
    "    ax.spines[\"left\"].set_visible(False)\n",
    "    ax.bar_label(ax.containers[0], fmt='%.0f', fontsize=15)\n",
    "    ax.figure.savefig(fig_dir / \"clinical_barplots\" / name, bbox_inches=\"tight\")"
   ]
  },
  {
   "cell_type": "code",
   "execution_count": null,
   "id": "941ad138",
   "metadata": {},
   "outputs": [],
   "source": [
    "percpos = np.sum(EPIC2_phenotypes.astype(int))/len(EPIC2_phenotypes)\n",
    "percneg = (len(EPIC2_phenotypes) - np.sum(EPIC2_phenotypes.astype(int)))/len(EPIC2_phenotypes)\n",
    "df = pd.DataFrame(np.array([percneg,percpos]), index=[\"No Ad\",\"Ad\"])*100\n",
    "\n",
    "get_barplot_ad_swepic(df=df, name=\"SWEPIC1_ad.svg\")\n",
    "\n",
    "percpos = np.sum(EPIC3_phenotypes.astype(int))/len(EPIC3_phenotypes)\n",
    "percneg = (len(EPIC3_phenotypes) - np.sum(EPIC3_phenotypes.astype(int)))/len(EPIC3_phenotypes)\n",
    "\n",
    "df = pd.DataFrame(np.array([percneg,percpos]), index=[\"No Ad\",\"Ad\"])*100\n",
    "get_barplot_ad_swepic(df=df, name=\"SWEPIC2_ad.svg\")\n",
    "\n",
    "percpos = np.sum(EPIC4_phenotypes.astype(int))/len(EPIC4_phenotypes)\n",
    "percneg = (len(EPIC4_phenotypes) - np.sum(EPIC4_phenotypes.astype(int)))/len(EPIC4_phenotypes)\n",
    "\n",
    "df = pd.DataFrame(np.array([percneg,percpos]), index=[\"No Ad\",\"Ad\"])*100\n",
    "get_barplot_ad_swepic(df=df, name=\"SWEPIC3_ad.svg\")"
   ]
  },
  {
   "cell_type": "code",
   "execution_count": null,
   "id": "59fc2958",
   "metadata": {},
   "outputs": [],
   "source": [
    "df = pd.concat([EPIC2_clin[[\"Age at visit\"]],\n",
    "                pd.DataFrame(EPIC2_phenotypes, index=EPIC2_clin.index, columns=[\"Ad\"]).replace({0: \"No Ad\", 1: \"Ad\"})],axis=1)\n",
    "\n",
    "fig, ax = plt.subplots(1,1,figsize=(2,3))\n",
    "sns.boxplot(data=df,y=\"Age at visit\",x=\"Ad\",palette={\"No Ad\": colors[0], \"Ad\": colors[3]},ax=ax)\n",
    "ax.set_ylim([30,90])\n",
    "plting.transform_plot_ax(ax, legend_title=\"\")\n",
    "ax.set_xlabel(\"\")\n",
    "ax.figure.savefig(fig_dir / \"clinical_barplots\" / \"SWEPIC1_age_ad_dist.svg\",bbox_inches=\"tight\")\n",
    "\n",
    "df = pd.concat([EPIC3_clin[[\"Age at visit\"]],\n",
    "                pd.DataFrame(EPIC3_phenotypes, index=EPIC3_clin.index, columns=[\"Ad\"]).replace({0: \"No Ad\", 1: \"Ad\"})],axis=1)\n",
    "\n",
    "fig, ax = plt.subplots(1,1,figsize=(2,3))\n",
    "sns.boxplot(data=df,y=\"Age at visit\",x=\"Ad\",palette={\"No Ad\": colors[0], \"Ad\": colors[3]},ax=ax)\n",
    "ax.set_ylim([30,90])\n",
    "plting.transform_plot_ax(ax, legend_title=\"\")\n",
    "ax.set_xlabel(\"\")\n",
    "ax.figure.savefig(fig_dir / \"clinical_barplots\" / \"SWEPIC2_age_ad_dist.svg\",bbox_inches=\"tight\")\n",
    "\n",
    "df = pd.concat([EPIC4_clin[[\"Age at visit\"]],\n",
    "                pd.DataFrame(EPIC4_phenotypes, index=EPIC4_clin.index, columns=[\"Ad\"]).replace({0: \"No Ad\", 1: \"Ad\"})],axis=1)\n",
    "\n",
    "fig, ax = plt.subplots(1,1,figsize=(2,3))\n",
    "sns.boxplot(data=df,y=\"Age at visit\",x=\"Ad\",palette={\"No Ad\": colors[0], \"Ad\": colors[3]},ax=ax)\n",
    "ax.set_ylim([30,90])\n",
    "plting.transform_plot_ax(ax, legend_title=\"\")\n",
    "ax.set_xlabel(\"\")\n",
    "ax.figure.savefig(fig_dir / \"clinical_barplots\" / \"SWEPIC3_age_ad_dist.svg\",bbox_inches=\"tight\")\n"
   ]
  },
  {
   "cell_type": "markdown",
   "id": "7560e263",
   "metadata": {},
   "source": [
    "# tSNE data"
   ]
  },
  {
   "cell_type": "code",
   "execution_count": null,
   "id": "e8f8976b",
   "metadata": {},
   "outputs": [],
   "source": [
    "full_EPIC_b = pd.concat([EPIC2_b,EPIC3_b,EPIC4_b]).dropna(axis=1)"
   ]
  },
  {
   "cell_type": "code",
   "execution_count": null,
   "id": "5b02e0ac",
   "metadata": {},
   "outputs": [],
   "source": [
    "full_EPIC_b.shape"
   ]
  },
  {
   "cell_type": "code",
   "execution_count": null,
   "id": "1e5471b7",
   "metadata": {},
   "outputs": [],
   "source": [
    "full_EPIC_clin = pd.concat([EPIC2_clin, EPIC3_clin, EPIC4_clin])\n",
    "full_EPIC_phenotypes = np.concatenate([EPIC2_phenotypes, EPIC3_phenotypes, EPIC4_phenotypes])"
   ]
  },
  {
   "cell_type": "code",
   "execution_count": null,
   "id": "287dbdca",
   "metadata": {},
   "outputs": [],
   "source": [
    "from sklearn.manifold import TSNE\n",
    "tsne = TSNE(n_components=2)\n",
    "X_tsne = tsne.fit_transform(full_EPIC_b)\n",
    "X_tsne = pd.DataFrame(X_tsne, index=full_EPIC_b.index, columns=[\"TSNE1\",\"TSNE2\"])\n",
    "\n",
    "X_tsne = pd.concat([X_tsne, full_EPIC_clin],axis=1)"
   ]
  },
  {
   "cell_type": "code",
   "execution_count": null,
   "id": "e3c8f0b3",
   "metadata": {},
   "outputs": [],
   "source": [
    "batch = np.concatenate([[\"SWEPIC1\"]*EPIC2_clin.shape[0],[\"SWEPIC2\"]*EPIC3_clin.shape[0],[\"SWEPIC3\"]*EPIC4_clin.shape[0]])\n",
    "\n",
    "X_tsne[\"Batch\"] = batch\n",
    "\n",
    "X_tsne[\"Adenoma\"] = full_EPIC_phenotypes\n",
    "X_tsne[\"Adenoma\"] = X_tsne[\"Adenoma\"].replace({0: \"No\", 1: \"Yes\"})\n",
    "\n",
    "X_tsne[\"Gender\"] = X_tsne[\"Gender\"].replace({1: \"F\", 0: \"M\"})\n",
    "\n",
    "X_tsne[\"Metabolic syndrome\"] = X_tsne[\"Metabolic syndrome\"].replace({0: \"No\", 1: \"Yes\"})\n",
    "\n",
    "X_tsne[\"Analgesic >=2 years (overall)\"] = X_tsne[\"Analgesic >=2 years (overall)\"].replace({0: \"No\", 1: \"Yes\"})"
   ]
  },
  {
   "cell_type": "code",
   "execution_count": null,
   "id": "ff66ed0d",
   "metadata": {},
   "outputs": [],
   "source": [
    "ax = sns.scatterplot(data=X_tsne,x=\"TSNE1\",y=\"TSNE2\",hue=\"Batch\", style=\"Gender\", palette={\"SWEPIC1\": colors[6], \n",
    "                                                                           \"SWEPIC2\": colors[7], \n",
    "                                                                           \"SWEPIC3\": colors[9]}, \n",
    "                     markers={\"F\": \"o\", \"M\": \"v\"}, edgecolor=\"black\")\n",
    "plting.tsne_plot_ax(ax=ax, legend_title=\"SWEPIC dataset\", leg_ftsize=10, ftsize=15, linew=4)\n",
    "ax.figure.savefig(fig_dir / \"TSNE_EPIC_batch.png\", dpi=250, bbox_inches=\"tight\")"
   ]
  },
  {
   "cell_type": "code",
   "execution_count": null,
   "id": "ebd2b8b8",
   "metadata": {},
   "outputs": [],
   "source": [
    "ax = sns.scatterplot(data=X_tsne,x=\"TSNE1\",y=\"TSNE2\",hue=\"Age at visit\", palette=sns.light_palette(colors[0], as_cmap=True))\n",
    "plting.tsne_plot_ax(ax=ax, legend_title=\"Age at visit\", leg_ftsize=12, ftsize=15, linew=4)\n",
    "ax.figure.savefig(fig_dir / \"TSNE_EPIC_age.png\", dpi=250, bbox_inches=\"tight\")"
   ]
  },
  {
   "cell_type": "code",
   "execution_count": null,
   "id": "22f886b6",
   "metadata": {},
   "outputs": [],
   "source": [
    "ax = sns.scatterplot(data=X_tsne,x=\"TSNE1\",y=\"TSNE2\",hue=\"Adenoma\", palette = {\"Yes\": colors[3], \"No\": colors[0]})\n",
    "plting.tsne_plot_ax(ax=ax, legend_title=\"Adenoma (right)\", leg_ftsize=12, ftsize=15, linew=4)\n",
    "ax.figure.savefig(fig_dir / \"TSNE_EPIC_adenoma.png\", dpi=250, bbox_inches=\"tight\")"
   ]
  },
  {
   "cell_type": "code",
   "execution_count": null,
   "id": "59531852",
   "metadata": {},
   "outputs": [],
   "source": [
    "ax = sns.scatterplot(data=X_tsne,x=\"TSNE1\",y=\"TSNE2\",hue=\"Metabolic syndrome\", palette={\"No\": colors[7], \"Yes\": colors[8]})\n",
    "plting.tsne_plot_ax(ax=ax, legend_title=\"Metabolic syndrome\", leg_ftsize=12, ftsize=15, linew=4)\n",
    "ax.figure.savefig(fig_dir / \"TSNE_EPIC_Metabolic syndrome.png\", dpi=250, bbox_inches=\"tight\")"
   ]
  },
  {
   "cell_type": "code",
   "execution_count": null,
   "id": "7e562976",
   "metadata": {},
   "outputs": [],
   "source": [
    "ax = sns.scatterplot(data=X_tsne,x=\"TSNE1\",y=\"TSNE2\",hue=\"Analgesic >=2 years (overall)\", palette={\"No\": colors[7], \"Yes\": colors[8]})\n",
    "plting.tsne_plot_ax(ax=ax, legend_title=\"Analgesic use (over 2 years)\", leg_ftsize=12, ftsize=15, linew=4)\n",
    "ax.figure.savefig(fig_dir / \"TSNE_EPIC_Analgesic >=2 years (overall).png\", dpi=250, bbox_inches=\"tight\")"
   ]
  },
  {
   "cell_type": "code",
   "execution_count": null,
   "id": "98daa2ef",
   "metadata": {},
   "outputs": [],
   "source": [
    "ax = sns.scatterplot(data=X_tsne,x=\"TSNE1\",y=\"TSNE2\",hue=\"inflammatory_n\", palette=sns.light_palette(colors[0], as_cmap=True))\n",
    "plting.tsne_plot_ax(ax=ax, legend_title=\"Inflammatory diet index\", leg_ftsize=12, ftsize=15, linew=4)\n",
    "ax.figure.savefig(fig_dir / \"TSNE_EPIC_inflammatory_n.png\", dpi=250, bbox_inches=\"tight\")"
   ]
  },
  {
   "cell_type": "markdown",
   "id": "0eb028b6",
   "metadata": {},
   "source": [
    "# PCA data"
   ]
  },
  {
   "cell_type": "code",
   "execution_count": null,
   "id": "935d754d",
   "metadata": {},
   "outputs": [],
   "source": [
    "from sklearn.decomposition import PCA\n",
    "pca = PCA(n_components=50)\n",
    "X_pca = pca.fit_transform(full_EPIC_b)\n",
    "X_pca = pd.DataFrame(X_pca, index=full_EPIC_b.index, columns=[f\"PCA{i+1}\" for i in range(X_pca.shape[1])])\n",
    "\n",
    "X_pca = pd.concat([X_pca, full_EPIC_clin],axis=1)"
   ]
  },
  {
   "cell_type": "code",
   "execution_count": null,
   "id": "fa9dad9c",
   "metadata": {},
   "outputs": [],
   "source": [
    "fig, ax = plt.subplots(1,1,figsize=(2,2))\n",
    "sns.scatterplot(x=np.arange(10),y=pca.explained_variance_ratio_[:10])\n",
    "plting.pretty_ax(ax)\n",
    "ax.set_ylabel(\"% variance explained\")\n",
    "ax.set_xlabel(\"PC\")\n",
    "ax.set_xticks(np.arange(10))\n",
    "fig.savefig(fig_dir / \"PCA_variance_explained.png\", dpi=200, bbox_inches=\"tight\")"
   ]
  },
  {
   "cell_type": "code",
   "execution_count": null,
   "id": "46812d2d",
   "metadata": {},
   "outputs": [],
   "source": [
    "batch = np.concatenate([[\"SWEPIC1\"]*EPIC2_clin.shape[0],[\"SWEPIC2\"]*EPIC3_clin.shape[0],[\"SWEPIC3\"]*EPIC4_clin.shape[0]])\n",
    "\n",
    "X_pca[\"Batch\"] = batch\n",
    "X_pca[\"Adenoma\"] = full_EPIC_phenotypes"
   ]
  },
  {
   "cell_type": "code",
   "execution_count": null,
   "id": "3866f5fb",
   "metadata": {},
   "outputs": [],
   "source": [
    "clin_params = [\"Age at visit\",\"Gender\",\"BMI\",\"Ever smoked cigarettes\",\n",
    "               \"Metabolic syndrome\",\"Analgesic >=2 years (overall)\",\n",
    "               \"Pack years\",\"inflammatory_n\",\"anti-inflammatory_n\",\n",
    "               \"western_n\",\"prudent_n\",\"Adenoma\"]\n",
    "bin_params = [\"Adenoma\",\"Gender\",\"Ever smoked cigarettes\",\"Metabolic syndrome\",\n",
    "              \"Analgesic >=2 years (overall)\",]\n",
    "cont_params = [\"Age at visit\",\"BMI\",\"Pack years\",\"inflammatory_n\",\n",
    "               \"anti-inflammatory_n\",\n",
    "               \"western_n\",\"prudent_n\"]"
   ]
  },
  {
   "cell_type": "code",
   "execution_count": null,
   "id": "51021453",
   "metadata": {},
   "outputs": [],
   "source": [
    "df = X_pca[[f\"PCA{i+1}\" for i in range(50)] + clin_params + [\"Batch\"]]"
   ]
  },
  {
   "cell_type": "code",
   "execution_count": null,
   "id": "14f170e3",
   "metadata": {},
   "outputs": [],
   "source": [
    "associations = {}\n",
    "for pc in [f\"PCA{i+1}\" for i in range(50)]:\n",
    "    associations[pc] = {}\n",
    "    pval = kruskal(df[df.Batch==\"SWEPIC1\"][pc],df[df.Batch==\"SWEPIC2\"][pc],df[df.Batch==\"SWEPIC3\"][pc])[1]\n",
    "    associations[pc][\"Batch\"] = pval\n",
    "    for col in bin_params:\n",
    "        neg = df[col]==0\n",
    "        pos = df[col]==1\n",
    "        pval = kruskal(df[neg][pc],df[pos][pc])[1]\n",
    "        associations[pc][col] = pval\n",
    "    for col in cont_params:\n",
    "        dfred = df[[pc,col]].dropna()\n",
    "        pval = pearsonr(dfred[pc],dfred[col])[1]\n",
    "        associations[pc][col] = pval\n",
    "associations = pd.DataFrame.from_dict(associations)\n",
    "associations = associations.applymap(lambda x: -np.log10(x))"
   ]
  },
  {
   "cell_type": "code",
   "execution_count": null,
   "id": "524f4557",
   "metadata": {},
   "outputs": [],
   "source": [
    "fig, ax = plt.subplots(1,1,figsize=(12,4))\n",
    "alpha_bonf = 0.05/associations.shape[0]\n",
    "alpha_bonf = -np.log10(alpha_bonf)\n",
    "sns.heatmap(associations, mask=associations<alpha_bonf, cmap=\"vlag\", vmax=5,\n",
    "            center=0.9*alpha_bonf, ax=ax, cbar_kws={\"label\": \"-log10(p)\"})\n",
    "fig.savefig(fig_dir / \"PCA_heatmap_clin_associations.png\", dpi=250, bbox_inches=\"tight\")"
   ]
  },
  {
   "cell_type": "code",
   "execution_count": null,
   "id": "6ec89617",
   "metadata": {},
   "outputs": [],
   "source": [
    "X_pca[\"Adenoma\"] = full_EPIC_phenotypes\n",
    "X_pca[\"Adenoma\"] = X_pca[\"Adenoma\"].replace({0: \"No\", 1: \"Yes\"})\n",
    "\n",
    "X_pca[\"Gender\"] = X_pca[\"Gender\"].replace({1: \"F\", 0: \"M\"})\n",
    "\n",
    "X_pca[\"Metabolic syndrome\"] = X_pca[\"Metabolic syndrome\"].replace({0: \"No\", 1: \"Yes\"})\n",
    "\n",
    "X_pca[\"Analgesic >=2 years (overall)\"] = X_pca[\"Analgesic >=2 years (overall)\"].replace({0: \"No\", 1: \"Yes\"})"
   ]
  },
  {
   "cell_type": "code",
   "execution_count": null,
   "id": "4c117d07",
   "metadata": {},
   "outputs": [],
   "source": [
    "ax = sns.scatterplot(data=X_pca,x=\"PCA1\",y=\"PCA2\",hue=\"Batch\", style=\"Gender\", palette={\"SWEPIC1\": colors[6], \n",
    "                                                                           \"SWEPIC2\": colors[7], \n",
    "                                                                           \"SWEPIC3\": colors[9]}, \n",
    "                     markers={\"F\": \"o\", \"M\": \"v\"}, edgecolor=\"black\")\n",
    "plting.tsne_plot_ax(ax=ax, legend_title=\"SWEPIC dataset\", leg_ftsize=10, ftsize=15, linew=4)\n",
    "ax.figure.savefig(fig_dir / \"pca_EPIC_batch.png\", dpi=250, bbox_inches=\"tight\")"
   ]
  },
  {
   "cell_type": "code",
   "execution_count": null,
   "id": "50488a4d",
   "metadata": {},
   "outputs": [],
   "source": [
    "ax = sns.scatterplot(data=X_pca, x=\"PCA1\",y=\"PCA2\",hue=\"Age at visit\", palette=sns.light_palette(colors[0], as_cmap=True))\n",
    "plting.tsne_plot_ax(ax=ax, legend_title=\"Age at visit\", leg_ftsize=12, ftsize=15, linew=4)\n",
    "ax.figure.savefig(fig_dir / \"pca_EPIC_age.png\", dpi=250, bbox_inches=\"tight\")"
   ]
  },
  {
   "cell_type": "code",
   "execution_count": null,
   "id": "c1c5b31d",
   "metadata": {},
   "outputs": [],
   "source": [
    "ax = sns.scatterplot(data=X_pca,x=\"PCA1\",y=\"PCA2\",hue=\"Adenoma\", palette = {\"Yes\": colors[3], \"No\": colors[0]})\n",
    "plting.tsne_plot_ax(ax=ax, legend_title=\"Adenoma (right)\", leg_ftsize=12, ftsize=15, linew=4)\n",
    "ax.figure.savefig(fig_dir / \"pca_EPIC_adenoma.png\", dpi=250, bbox_inches=\"tight\")"
   ]
  },
  {
   "cell_type": "markdown",
   "id": "3d008009",
   "metadata": {},
   "source": [
    "# General values"
   ]
  },
  {
   "cell_type": "code",
   "execution_count": null,
   "id": "08ba5c2d",
   "metadata": {},
   "outputs": [],
   "source": [
    "(n2, ncpg2), (n3, ncpg3), (n4, ncpg4)= EPIC2_b.shape, EPIC3_b.shape, EPIC4_b.shape"
   ]
  },
  {
   "cell_type": "code",
   "execution_count": null,
   "id": "e3eb03b6",
   "metadata": {},
   "outputs": [],
   "source": [
    "(n2, ncpg2), (n3, ncpg3), (n4, ncpg4)"
   ]
  },
  {
   "cell_type": "code",
   "execution_count": null,
   "id": "ac43749e",
   "metadata": {},
   "outputs": [],
   "source": [
    "ad2, ad3, ad4 = np.sum(EPIC2_phenotypes.astype(int)), np.sum(EPIC3_phenotypes.astype(int)), np.sum(EPIC4_phenotypes.astype(int))"
   ]
  },
  {
   "cell_type": "code",
   "execution_count": null,
   "id": "2a7ad2d4",
   "metadata": {
    "scrolled": true
   },
   "outputs": [],
   "source": [
    "(ad2, ad2/n2*100), (ad3, ad3/n3*100), (ad4, ad4/n4*100)"
   ]
  },
  {
   "cell_type": "code",
   "execution_count": null,
   "id": "64e7a581",
   "metadata": {
    "scrolled": true
   },
   "outputs": [],
   "source": [
    "print_characteristic(EPIC_clin=full_EPIC_clin, EPIC_phenotypes=full_EPIC_phenotypes, charac=\"Age at visit\", count=False)"
   ]
  },
  {
   "cell_type": "code",
   "execution_count": null,
   "id": "c5f97412",
   "metadata": {
    "scrolled": true
   },
   "outputs": [],
   "source": [
    "print_characteristic(EPIC_clin=full_EPIC_clin, EPIC_phenotypes=full_EPIC_phenotypes, charac=\"BMI\", count=False)"
   ]
  },
  {
   "cell_type": "code",
   "execution_count": null,
   "id": "6830729e",
   "metadata": {
    "scrolled": true
   },
   "outputs": [],
   "source": [
    "print_characteristic(EPIC_clin=full_EPIC_clin, EPIC_phenotypes=full_EPIC_phenotypes, charac=\"Metabolic syndrome\", count=True)"
   ]
  },
  {
   "cell_type": "code",
   "execution_count": null,
   "id": "db732827",
   "metadata": {
    "scrolled": true
   },
   "outputs": [],
   "source": [
    "print_characteristic(EPIC_clin=full_EPIC_clin, EPIC_phenotypes=full_EPIC_phenotypes, charac=\"Ever smoked cigarettes\", count=True)"
   ]
  },
  {
   "cell_type": "code",
   "execution_count": null,
   "id": "ff6a8f1b",
   "metadata": {
    "scrolled": true
   },
   "outputs": [],
   "source": [
    "print_characteristic(EPIC_clin=full_EPIC_clin, EPIC_phenotypes=full_EPIC_phenotypes, charac=\"Pack years\", count=False)"
   ]
  },
  {
   "cell_type": "code",
   "execution_count": null,
   "id": "bd9942ae",
   "metadata": {
    "scrolled": true
   },
   "outputs": [],
   "source": [
    "print_characteristic(EPIC_clin=full_EPIC_clin, EPIC_phenotypes=full_EPIC_phenotypes, charac=\"Analgesic >=2 years (overall)\", count=True)"
   ]
  },
  {
   "cell_type": "code",
   "execution_count": null,
   "id": "3c4774b2",
   "metadata": {
    "scrolled": true
   },
   "outputs": [],
   "source": [
    "print_characteristic(EPIC_clin=full_EPIC_clin, EPIC_phenotypes=full_EPIC_phenotypes, charac=\"western_n\", count=False)"
   ]
  },
  {
   "cell_type": "code",
   "execution_count": null,
   "id": "d20b3f39",
   "metadata": {
    "scrolled": true
   },
   "outputs": [],
   "source": [
    "print_characteristic(EPIC_clin=full_EPIC_clin, EPIC_phenotypes=full_EPIC_phenotypes, charac=\"prudent_n\", count=False)"
   ]
  },
  {
   "cell_type": "code",
   "execution_count": null,
   "id": "ab9caf12",
   "metadata": {
    "scrolled": true
   },
   "outputs": [],
   "source": [
    "print_characteristic(EPIC_clin=full_EPIC_clin, EPIC_phenotypes=full_EPIC_phenotypes, charac=\"inflammatory_n\", count=False)"
   ]
  },
  {
   "cell_type": "code",
   "execution_count": null,
   "id": "9356176e",
   "metadata": {
    "scrolled": true
   },
   "outputs": [],
   "source": [
    "print_characteristic(EPIC_clin=full_EPIC_clin, EPIC_phenotypes=full_EPIC_phenotypes, charac=\"anti-inflammatory_n\", count=False)"
   ]
  },
  {
   "cell_type": "code",
   "execution_count": null,
   "id": "60bdd25d",
   "metadata": {},
   "outputs": [],
   "source": []
  },
  {
   "cell_type": "markdown",
   "id": "92048023",
   "metadata": {},
   "source": [
    "# EPIC dataset-specific values"
   ]
  },
  {
   "cell_type": "code",
   "execution_count": null,
   "id": "5b1f6aef",
   "metadata": {},
   "outputs": [],
   "source": [
    "print_characteristic(EPIC_clin=EPIC4_clin, EPIC_phenotypes=EPIC4_phenotypes, charac=\"Age at visit\", count=False)"
   ]
  },
  {
   "cell_type": "code",
   "execution_count": null,
   "id": "b24aaf5d",
   "metadata": {},
   "outputs": [],
   "source": [
    "print_characteristic(EPIC_clin=EPIC4_clin, EPIC_phenotypes=EPIC4_phenotypes, charac=\"BMI\", count=False)"
   ]
  },
  {
   "cell_type": "code",
   "execution_count": null,
   "id": "14130831",
   "metadata": {},
   "outputs": [],
   "source": [
    "print_characteristic(EPIC_clin=EPIC4_clin, EPIC_phenotypes=EPIC4_phenotypes, charac=\"Metabolic syndrome\", count=True)"
   ]
  },
  {
   "cell_type": "code",
   "execution_count": null,
   "id": "6e3db3f8",
   "metadata": {},
   "outputs": [],
   "source": [
    "print_characteristic(EPIC_clin=EPIC3_clin, EPIC_phenotypes=EPIC3_phenotypes, charac=\"Ever smoked cigarettes\", count=True)"
   ]
  },
  {
   "cell_type": "code",
   "execution_count": null,
   "id": "778a8df5",
   "metadata": {},
   "outputs": [],
   "source": [
    "print_characteristic(EPIC_clin=EPIC4_clin, EPIC_phenotypes=EPIC4_phenotypes, charac=\"Pack years\", count=False)"
   ]
  },
  {
   "cell_type": "code",
   "execution_count": null,
   "id": "180eec83",
   "metadata": {},
   "outputs": [],
   "source": [
    "print_characteristic(EPIC_clin=EPIC4_clin, EPIC_phenotypes=EPIC4_phenotypes, charac=\"Analgesic >=2 years (overall)\", count=True)"
   ]
  },
  {
   "cell_type": "code",
   "execution_count": null,
   "id": "3d4b96e2",
   "metadata": {},
   "outputs": [],
   "source": [
    "print_characteristic(EPIC_clin=EPIC4_clin, EPIC_phenotypes=EPIC4_phenotypes, charac=\"western_n\", count=False)"
   ]
  },
  {
   "cell_type": "code",
   "execution_count": null,
   "id": "887e411a",
   "metadata": {},
   "outputs": [],
   "source": [
    "print_characteristic(EPIC_clin=EPIC2_clin, EPIC_phenotypes=EPIC2_phenotypes, charac=\"prudent_n\", count=False)"
   ]
  },
  {
   "cell_type": "code",
   "execution_count": null,
   "id": "3251c432",
   "metadata": {},
   "outputs": [],
   "source": [
    "print_characteristic(EPIC_clin=EPIC3_clin, EPIC_phenotypes=EPIC3_phenotypes, charac=\"inflammatory_n\", count=False)"
   ]
  },
  {
   "cell_type": "code",
   "execution_count": null,
   "id": "1fbb8b1d",
   "metadata": {},
   "outputs": [],
   "source": [
    "print_characteristic(EPIC_clin=EPIC4_clin, EPIC_phenotypes=EPIC4_phenotypes, charac=\"anti-inflammatory_n\", count=False)"
   ]
  },
  {
   "cell_type": "code",
   "execution_count": null,
   "id": "67e2694f",
   "metadata": {},
   "outputs": [],
   "source": []
  }
 ],
 "metadata": {
  "kernelspec": {
   "display_name": "Python 3 (ipykernel)",
   "language": "python",
   "name": "python3"
  },
  "language_info": {
   "codemirror_mode": {
    "name": "ipython",
    "version": 3
   },
   "file_extension": ".py",
   "mimetype": "text/x-python",
   "name": "python",
   "nbconvert_exporter": "python",
   "pygments_lexer": "ipython3",
   "version": "3.9.16"
  }
 },
 "nbformat": 4,
 "nbformat_minor": 5
}
