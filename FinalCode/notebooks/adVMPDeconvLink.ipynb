{
 "cells": [
  {
   "cell_type": "code",
   "execution_count": 1,
   "id": "3839745d",
   "metadata": {},
   "outputs": [],
   "source": [
    "import pandas as pd\n",
    "import numpy as np\n",
    "import pathlib as pl\n",
    "\n",
    "from tqdm.notebook import tqdm\n",
    "import seaborn as sns\n",
    "import matplotlib.pyplot as plt\n",
    "from statannotations.Annotator import Annotator\n",
    "\n",
    "from scipy.stats import mannwhitneyu, fisher_exact, pearsonr, kruskal"
   ]
  },
  {
   "cell_type": "code",
   "execution_count": 2,
   "id": "da9345c2",
   "metadata": {},
   "outputs": [],
   "source": [
    "import sys\n",
    "sys.path.append(\"../../FinalCode/\")\n",
    "import download.download as dwnl\n",
    "import utils.plotting as plting\n",
    "import adVMP.adVMP_discovery as discov\n",
    "import adVMP.adVMP_plots as advmpplt"
   ]
  },
  {
   "cell_type": "code",
   "execution_count": 9,
   "id": "da443f4a",
   "metadata": {},
   "outputs": [
    {
     "name": "stderr",
     "output_type": "stream",
     "text": [
      "INFO:biothings.client:querying 1-104...\n",
      "INFO:biothings.client:done.\n"
     ]
    }
   ],
   "source": [
    "import mygene"
   ]
  },
  {
   "cell_type": "code",
   "execution_count": 3,
   "id": "3adb536c",
   "metadata": {},
   "outputs": [],
   "source": [
    "# For figures\n",
    "colors = sns.color_palette(\"muted\")\n",
    "palette = {\"Normal\": colors[0], \"NADJ-A\": colors[3], \"NADJ-C\": colors[2], \"Adenoma\": colors[3], \"SSL\": colors[4], \"Cancer\": colors[5]}\n",
    "fig_dir = pl.Path(\"/Users/josephineyates/Documents/CRC_polyp/ArticleFigures/unit\")"
   ]
  },
  {
   "cell_type": "code",
   "execution_count": 4,
   "id": "92c43fe0",
   "metadata": {},
   "outputs": [],
   "source": [
    "base_dir = pl.Path(\"/Users/josephineyates/Documents/CRC_polyp/sesame_processed_EPIC/\")\n",
    "base_dir4 = pl.Path(\"/Users/josephineyates/Documents/CRC_polyp/sesame_processed_EPIC4/\")\n",
    "\n",
    "data_dir = pl.Path(\"/Users/josephineyates/Documents/CRC_polyp/FinalData/\")\n",
    "\n",
    "bad_probes = pd.read_csv(data_dir / \"auxiliary\" / \"sketchy_probe_list_epic.csv\",index_col=0).values.ravel()\n",
    "sample_origin_path = pl.Path(data_dir / \"clinical\" / \"sample_origin_wbatch.csv\")\n",
    "\n",
    "clinical_path = pl.Path(data_dir / \"clinical\" / \"cleaned_clinical_reduced_diet.csv\")\n",
    "target_path = pl.Path(data_dir / \"clinical\" / \"targets.csv\")"
   ]
  },
  {
   "cell_type": "code",
   "execution_count": 5,
   "id": "cff6106f",
   "metadata": {},
   "outputs": [
    {
     "name": "stderr",
     "output_type": "stream",
     "text": [
      "30it [00:03,  7.59it/s]\n"
     ]
    }
   ],
   "source": [
    "EPIC2_b, EPIC2_clin, EPIC2_samples, EPIC2_phenotypes, EPIC3_b, EPIC3_clin, EPIC3_samples, EPIC3_phenotypes = dwnl.download_EPIC(sample_origin_path=sample_origin_path, \n",
    "                     base_dir=base_dir, clinical_path=clinical_path, target_path=target_path,\n",
    "                  bad_probes=bad_probes, EPIC4=False) "
   ]
  },
  {
   "cell_type": "code",
   "execution_count": 6,
   "id": "c6efc10d",
   "metadata": {},
   "outputs": [
    {
     "name": "stderr",
     "output_type": "stream",
     "text": [
      "18it [00:03,  5.68it/s]\n"
     ]
    }
   ],
   "source": [
    "EPIC4_b, EPIC4_clin, EPIC4_samples, EPIC4_phenotypes = dwnl.download_EPIC(sample_origin_path=sample_origin_path, \n",
    "                     base_dir=base_dir4, clinical_path=clinical_path, target_path=target_path, \n",
    "                  bad_probes=bad_probes, EPIC4=True) "
   ]
  },
  {
   "cell_type": "markdown",
   "id": "402eefbe",
   "metadata": {},
   "source": [
    "# Deconvolve"
   ]
  },
  {
   "cell_type": "code",
   "execution_count": 7,
   "id": "d350cfd8",
   "metadata": {},
   "outputs": [],
   "source": [
    "atlas = pd.read_csv(\"/Users/josephineyates/Documents/CRC_polyp/FinalData/auxiliary/Colon_highlevel_ref.csv\",index_col=0)\n",
    "mg = mygene.MyGeneInfo()\n",
    "mapping_genes = mg.getgenes(atlas.index.to_numpy(), fields='name,symbol,entrezgene,taxid', as_dataframe=True)\n",
    "atlas[\"GeneID\"] = mapping_genes[\"symbol\"].ravel()"
   ]
  },
  {
   "cell_type": "code",
   "execution_count": 13,
   "id": "d1966823",
   "metadata": {},
   "outputs": [],
   "source": [
    "from typing import Dict\n",
    "import statsmodels.api as sm\n",
    "def get_patient_values(beta_values: pd.DataFrame, gene_to_promoter_cpg: Dict[str, np.ndarray]) -> pd.DataFrame:\n",
    "    \n",
    "    values = []\n",
    "    for gn in gene_to_promoter_cpg:\n",
    "        common_cpgs = beta_values.columns.intersection(gene_to_promoter_cpg[gn])\n",
    "        if len(common_cpgs)==0:\n",
    "            print(f\"No common cpgs for gene {gn}, skipping\")\n",
    "        avg = beta_values.loc[:,common_cpgs]\n",
    "        avg = avg.fillna(avg.median())\n",
    "        avg = avg.mean(axis=1)\n",
    "        avg.name = gn\n",
    "        values.append(avg)\n",
    "\n",
    "    values = pd.concat(values,axis=1).dropna(axis=1)\n",
    "    return values\n",
    "\n",
    "def get_patient_deconvolution(atlas: pd.DataFrame, values: pd.DataFrame) -> pd.DataFrame:\n",
    "    \n",
    "\n",
    "    red_atlas = atlas.set_index(\"GeneID\")\n",
    "    red_atlas = red_atlas.loc[values.columns]\n",
    "\n",
    "    sqrt_weight = red_atlas[\"weight\"].apply(np.sqrt)\n",
    "    diag_sqrt_weight = np.diag(sqrt_weight)\n",
    "\n",
    "    ref = red_atlas.iloc[:,:-1]\n",
    "    \n",
    "    all_est = []\n",
    "    for i,pat in tqdm(enumerate(values.index)):\n",
    "        y = values.iloc[i].ravel()\n",
    "        y = sqrt_weight*y\n",
    "        \n",
    "        X = np.dot(diag_sqrt_weight,ref)\n",
    "        \n",
    "        beta_hat = sm.RLM(y, X).fit().params\n",
    "        beta_hat = beta_hat.clip(0,None)\n",
    "        est_frac = beta_hat/beta_hat.sum()\n",
    "        est_frac.name = pat\n",
    "        all_est.append(est_frac)\n",
    "    all_est = pd.concat(all_est,axis=1)\n",
    "    all_est.index = ref.columns\n",
    "    return all_est.T"
   ]
  },
  {
   "cell_type": "code",
   "execution_count": 14,
   "id": "136d6090",
   "metadata": {},
   "outputs": [],
   "source": [
    "#mapping = pd.read_csv(\"/Users/josephineyates/Documents/CRC_polyp/sesame_processed_EPIC4/sample_sheet_EPIC4.csv\")\n",
    "mapping = pd.read_csv(\"/Users/josephineyates/Documents/CRC_polyp/sesame_processed_EPIC/SWEPIC_full_sample_sheet.csv\")\n",
    "idx = (mapping[\"Sentrix_ID\"].astype(str) + \"_\" + mapping[\"Sentrix_Position\"]).ravel()\n",
    "mapping.index = idx\n",
    "mapping = mapping[\"Sample_Name\"].astype(str).to_dict()"
   ]
  },
  {
   "cell_type": "code",
   "execution_count": 15,
   "id": "45e24a59",
   "metadata": {},
   "outputs": [],
   "source": [
    "#base_dir = pl.Path(\"/Users/josephineyates/Documents/CRC_polyp/sesame_processed_EPIC4/beta_values/\")\n",
    "base_dir = pl.Path(\"/Users/josephineyates/Documents/CRC_polyp/sesame_processed_EPIC/beta_values/\")"
   ]
  },
  {
   "cell_type": "code",
   "execution_count": null,
   "id": "263a3194",
   "metadata": {},
   "outputs": [],
   "source": [
    "all_frac_estimates = []\n",
    "for f in base_dir.iterdir():\n",
    "    beta_values = pd.read_pickle(f).T\n",
    "    beta_values = beta_values.rename(index=mapping)\n",
    "    values = get_patient_values(beta_values=beta_values, gene_to_promoter_cpg=gene_to_promoter_cpg)\n",
    "    frac_estimates = get_patient_deconvolution(atlas=atlas, values=values)\n",
    "    all_frac_estimates.append(frac_estimates)"
   ]
  },
  {
   "cell_type": "code",
   "execution_count": null,
   "id": "87d284ab",
   "metadata": {},
   "outputs": [],
   "source": [
    "all_frac_estimates = pd.concat(all_frac_estimates)"
   ]
  },
  {
   "cell_type": "code",
   "execution_count": null,
   "id": "afd020e4",
   "metadata": {},
   "outputs": [],
   "source": [
    "all_frac_estimates.to_csv(\"/Users/josephineyates/Documents/CRC_polyp/FinalData/EpiSCORE_results/epic123_estimates.csv\")\n",
    "#all_frac_estimates.to_csv(\"/Users/josephineyates/Documents/CRC_polyp/FinalData/EpiSCORE_results/epic4_estimates.csv\")"
   ]
  }
 ],
 "metadata": {
  "kernelspec": {
   "display_name": "Python 3 (ipykernel)",
   "language": "python",
   "name": "python3"
  },
  "language_info": {
   "codemirror_mode": {
    "name": "ipython",
    "version": 3
   },
   "file_extension": ".py",
   "mimetype": "text/x-python",
   "name": "python",
   "nbconvert_exporter": "python",
   "pygments_lexer": "ipython3",
   "version": "3.9.16"
  }
 },
 "nbformat": 4,
 "nbformat_minor": 5
}
