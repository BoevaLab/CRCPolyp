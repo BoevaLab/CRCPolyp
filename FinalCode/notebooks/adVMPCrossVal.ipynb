{
 "cells": [
  {
   "cell_type": "code",
   "execution_count": null,
   "id": "3839745d",
   "metadata": {},
   "outputs": [],
   "source": [
    "import pandas as pd\n",
    "import numpy as np\n",
    "import pathlib as pl\n",
    "\n",
    "from tqdm.notebook import tqdm\n",
    "import seaborn as sns\n",
    "import matplotlib.pyplot as plt\n",
    "from statannotations.Annotator import Annotator\n",
    "\n",
    "from scipy.stats import mannwhitneyu, fisher_exact, pearsonr, kruskal"
   ]
  },
  {
   "cell_type": "code",
   "execution_count": null,
   "id": "da9345c2",
   "metadata": {},
   "outputs": [],
   "source": [
    "import sys\n",
    "sys.path.append(\"../../FinalCode/\")\n",
    "import download.download as dwnl\n",
    "import utils.plotting as plting\n",
    "import adVMP.adVMP_discovery as discov\n",
    "import adVMP.adVMP_plots as advmpplt\n",
    "import adVMP.adVMP_crossval as advmpcross\n",
    "import adVMP.comparison_random as rdn"
   ]
  },
  {
   "cell_type": "code",
   "execution_count": null,
   "id": "3adb536c",
   "metadata": {},
   "outputs": [],
   "source": [
    "# For figures\n",
    "colors = sns.color_palette(\"muted\")\n",
    "fig_dir = pl.Path(\"/add/path/here\")"
   ]
  },
  {
   "cell_type": "code",
   "execution_count": null,
   "id": "92c43fe0",
   "metadata": {},
   "outputs": [],
   "source": [
    "base_dir = pl.Path(\"/add/path/here\")\n",
    "base_dir4 = pl.Path(\"/add/path/here\")\n",
    "\n",
    "data_dir = pl.Path(\"/add/path/here\")\n",
    "\n",
    "bad_probes = pd.read_csv(data_dir / \"auxiliary\" / \"sketchy_probe_list_epic.csv\",index_col=0).values.ravel()\n",
    "sample_origin_path = pl.Path(data_dir / \"clinical\" / \"sample_origin_wbatch.csv\")\n",
    "\n",
    "clinical_path = pl.Path(data_dir / \"clinical\" / \"cleaned_clinical_reduced_diet.csv\")\n",
    "target_path = pl.Path(data_dir / \"clinical\" / \"targets.csv\")"
   ]
  },
  {
   "cell_type": "code",
   "execution_count": null,
   "id": "cff6106f",
   "metadata": {},
   "outputs": [],
   "source": [
    "EPIC2_b, EPIC2_clin, EPIC2_samples, EPIC2_phenotypes, EPIC3_b, EPIC3_clin, EPIC3_samples, EPIC3_phenotypes = dwnl.download_EPIC(sample_origin_path=sample_origin_path, \n",
    "                     base_dir=base_dir, clinical_path=clinical_path, target_path=target_path,\n",
    "                  bad_probes=bad_probes, EPIC4=False) "
   ]
  },
  {
   "cell_type": "code",
   "execution_count": null,
   "id": "c6efc10d",
   "metadata": {},
   "outputs": [],
   "source": [
    "EPIC4_b, EPIC4_clin, EPIC4_samples, EPIC4_phenotypes = dwnl.download_EPIC(sample_origin_path=sample_origin_path, \n",
    "                     base_dir=base_dir4, clinical_path=clinical_path, target_path=target_path, \n",
    "                  bad_probes=bad_probes, EPIC4=True) "
   ]
  },
  {
   "cell_type": "markdown",
   "id": "a7a7f52f",
   "metadata": {},
   "source": [
    "# Find adVMP"
   ]
  },
  {
   "cell_type": "code",
   "execution_count": null,
   "id": "613bc24e",
   "metadata": {},
   "outputs": [],
   "source": [
    "advmpcross.get_stratified_hyper_DMC(y=EPIC2_phenotypes.astype(int), \n",
    "                             EPIC_m=EPIC2_b, \n",
    "                             result_dir=data_dir / \"adVMP_crossvalidation_4fold\" / \"SWEPIC1\",\n",
    "                             n_splits=4, \n",
    "                             rs=1)"
   ]
  },
  {
   "cell_type": "code",
   "execution_count": null,
   "id": "0ef85185",
   "metadata": {},
   "outputs": [],
   "source": [
    "advmpcross.get_stratified_hyper_DMC(y=EPIC3_phenotypes.astype(int), \n",
    "                             EPIC_m=EPIC3_b, \n",
    "                             result_dir=data_dir / \"adVMP_crossvalidation_4fold\" / \"SWEPIC2\",\n",
    "                            n_splits=4, \n",
    "                             rs=10)"
   ]
  },
  {
   "cell_type": "code",
   "execution_count": null,
   "id": "4e63b1e9",
   "metadata": {},
   "outputs": [],
   "source": [
    "advmpcross.get_stratified_hyper_DMC(y=EPIC4_phenotypes.astype(int), \n",
    "                             EPIC_m=EPIC4_b, \n",
    "                             result_dir=data_dir / \"adVMP_crossvalidation_4fold\" / \"SWEPIC3\",\n",
    "                             n_splits=4, \n",
    "                             rs=1)"
   ]
  },
  {
   "cell_type": "markdown",
   "id": "4fa7e50e",
   "metadata": {},
   "source": [
    "# Ensembling probes"
   ]
  },
  {
   "cell_type": "code",
   "execution_count": null,
   "id": "aa2835fe",
   "metadata": {},
   "outputs": [],
   "source": [
    "test_results = {}\n",
    "for i in ['1','2','3']:\n",
    "    direc = data_dir / \"adVMP_crossvalidation_4fold\" / f\"SWEPIC{i}\"\n",
    "    test_results[i] = {}\n",
    "    for fold in direc.iterdir():\n",
    "        if fold.stem==\".DS_Store\":\n",
    "            continue\n",
    "        test_results[i][fold.stem]  = pd.read_csv(fold / \"adVMP_right.csv\", index_col=0)"
   ]
  },
  {
   "cell_type": "code",
   "execution_count": null,
   "id": "c49a5dc6",
   "metadata": {},
   "outputs": [],
   "source": [
    "common_sign_probes = {}\n",
    "for ds in test_results:\n",
    "    common_sign_probes[ds] = []\n",
    "    for i,fold in enumerate(test_results[ds]):\n",
    "        df = test_results[ds][fold]\n",
    "        sign = df[(df[\"q\"]<0.05) & (df[\"ttest_p\"]<0.05) & (df.diffV>0)]\n",
    "        if i==0:\n",
    "            common_sign_probes[ds] = sign.index\n",
    "        else:\n",
    "            common_sign_probes[ds] = np.intersect1d(common_sign_probes[ds], sign.index)"
   ]
  },
  {
   "cell_type": "code",
   "execution_count": null,
   "id": "6bf83701",
   "metadata": {},
   "outputs": [],
   "source": [
    "len(common_sign_probes[\"1\"]),len(common_sign_probes[\"2\"]),len(common_sign_probes[\"3\"])"
   ]
  },
  {
   "cell_type": "code",
   "execution_count": null,
   "id": "30f281c3",
   "metadata": {},
   "outputs": [],
   "source": [
    "# retrieve the results of the variability/diff meth analysis performed on the entire SWEPIC cohorts \n",
    "fullset_test_results = {}\n",
    "for i in ['1','2','3']:\n",
    "    fullset_test_results[i]  = pd.read_csv(data_dir / \"adVMP\" / f\"adVMP_SWEPIC{i}_right.csv\", index_col=0)"
   ]
  },
  {
   "cell_type": "code",
   "execution_count": null,
   "id": "a061d80b",
   "metadata": {},
   "outputs": [],
   "source": [
    "# keep only the significant probes for each cohort\n",
    "fullset_sign_probes = {}\n",
    "for i in fullset_test_results:\n",
    "    fullset_sign_probes[i] = fullset_test_results[i][(fullset_test_results[i][\"q\"]<0.05) & (fullset_test_results[i][\"ttest_p\"]<0.05) & (fullset_test_results[i][\"diffV\"]>0)]"
   ]
  },
  {
   "cell_type": "code",
   "execution_count": null,
   "id": "b262ff7c",
   "metadata": {},
   "outputs": [],
   "source": [
    "# get the intersection of significant probes for each pair of cohorts. \n",
    "# this will be useful to get the aDVMCs associated with each fold\n",
    "# e.g., for the folds on SWEPIC1, we will use the intersection of significant probes of SWEPIC2 and SWEPIC3\n",
    "ext_intersection = {}\n",
    "list_cohorts = ['1','2','3']\n",
    "for i in list_cohorts:\n",
    "    intersect = []\n",
    "    for j in list_cohorts:\n",
    "        if i==j:\n",
    "            continue\n",
    "        else:\n",
    "            intersect.append(fullset_sign_probes[j].index.to_numpy())\n",
    "    ext_intersection[i] = np.unique(np.intersect1d(*intersect))"
   ]
  },
  {
   "cell_type": "code",
   "execution_count": null,
   "id": "a188b60a",
   "metadata": {},
   "outputs": [],
   "source": [
    "from typing import Dict\n",
    "def get_fold_specific_ensembling_cpgs(test_results: Dict, fullset_sign_probes: Dict, q_lim: float=0.05) -> Dict:\n",
    "    \n",
    "    sel_probes = {}\n",
    "    for i in test_results:\n",
    "        sel_probes[i] = {}\n",
    "        for fold in test_results[i]:\n",
    "            # for a fold, get the probes that are diff variable, diff methylated, and more variable in adenoma tissue\n",
    "                signprobes = test_results[i][fold][(test_results[i][fold][\"q\"]<0.05) & (test_results[i][fold][\"ttest_p\"]<0.05) & (test_results[i][fold][\"diffV\"]>0)].index.to_numpy()\n",
    "                intersect = []\n",
    "                for j in fullset_sign_probes:\n",
    "                    if i==j:\n",
    "                        continue\n",
    "                    else: \n",
    "                        # get the intersectin of these probes with the intersection of probes from the two other cohorts, computed previously \n",
    "                        # e.g., if the fold comes from SWEPIC1, get the intersection between the fold probes and those of SWEPIC2 and SWEPIC3.\n",
    "                        intersect.append(np.intersect1d(signprobes,fullset_sign_probes[j].index.to_numpy()))\n",
    "                intersect = np.unique(np.append(*intersect))\n",
    "                sel_probes[i][fold] = np.unique(np.append(intersect, ext_intersection[i]))\n",
    "    return sel_probes"
   ]
  },
  {
   "cell_type": "code",
   "execution_count": null,
   "id": "2ca8819a",
   "metadata": {},
   "outputs": [],
   "source": [
    "union_cpgs_fold = get_fold_specific_ensembling_cpgs(test_results=test_results, \n",
    "                                                    fullset_sign_probes=fullset_sign_probes, \n",
    "                                                    q_lim=0.05)"
   ]
  },
  {
   "cell_type": "markdown",
   "id": "4653c2d3",
   "metadata": {},
   "source": [
    "# Visualize probe performance"
   ]
  },
  {
   "cell_type": "code",
   "execution_count": null,
   "id": "ccd0ee9b",
   "metadata": {},
   "outputs": [],
   "source": [
    "ds_dir = data_dir / \"adVMP_crossvalidation_4fold\" / \"SWEPIC1\"\n",
    "all_stats1, crossval_hit_fraction1 = advmpcross.get_crossval_performance(ds_dir=ds_dir, EPIC_b=EPIC2_b, \n",
    "                             union_cpgs_fold_spec=union_cpgs_fold[\"1\"], EPIC_phenotypes=EPIC2_phenotypes, \n",
    "                             estimate_copa=True, order=\"Mixed Order\")"
   ]
  },
  {
   "cell_type": "code",
   "execution_count": null,
   "id": "1116e296",
   "metadata": {},
   "outputs": [],
   "source": [
    "all_stats1"
   ]
  },
  {
   "cell_type": "code",
   "execution_count": null,
   "id": "8d408238",
   "metadata": {},
   "outputs": [],
   "source": [
    "fig, ax = plt.subplots(1,1,figsize=(15,5))\n",
    "sns.scatterplot(data=crossval_hit_fraction1, x=\"Mixed Order\", y=\"Hit fraction\", hue=\"Ad_plot\", \n",
    "                palette={\"No\": colors[0], \"Yes\": colors[3]})\n",
    "plting.transform_plot_ax(ax, legend_title=\"Adenoma\")\n",
    "fig.savefig(fig_dir / \"SWEPIC1\" / \"crossval_worm_plot.svg\", bbox_inches=\"tight\")"
   ]
  },
  {
   "cell_type": "code",
   "execution_count": null,
   "id": "3e493da7",
   "metadata": {},
   "outputs": [],
   "source": [
    "ds_dir = data_dir / \"adVMP_crossvalidation_4fold\" / \"SWEPIC2\"\n",
    "all_stats2, crossval_hit_fraction2 = advmpcross.get_crossval_performance(ds_dir=ds_dir, EPIC_b=EPIC3_b, \n",
    "                             union_cpgs_fold_spec=union_cpgs_fold[\"2\"], EPIC_phenotypes=EPIC3_phenotypes,\n",
    "                             estimate_copa=True, order=\"Mixed Order\")"
   ]
  },
  {
   "cell_type": "code",
   "execution_count": null,
   "id": "33052067",
   "metadata": {},
   "outputs": [],
   "source": [
    "all_stats2"
   ]
  },
  {
   "cell_type": "code",
   "execution_count": null,
   "id": "5fa815ca",
   "metadata": {},
   "outputs": [],
   "source": [
    "fig, ax = plt.subplots(1,1,figsize=(15,5))\n",
    "sns.scatterplot(data=crossval_hit_fraction2, x=\"Mixed Order\", y=\"Hit fraction\", hue=\"Ad_plot\", \n",
    "                palette={\"No\": colors[0], \"Yes\": colors[3]})\n",
    "plting.transform_plot_ax(ax, legend_title=\"Adenoma\")\n",
    "fig.savefig(fig_dir / \"SWEPIC2\" / \"crossval_worm_plot.svg\", bbox_inches=\"tight\")"
   ]
  },
  {
   "cell_type": "code",
   "execution_count": null,
   "id": "08cfcc2d",
   "metadata": {},
   "outputs": [],
   "source": [
    "ds_dir = data_dir / \"adVMP_crossvalidation_4fold\" / \"SWEPIC3\"\n",
    "all_stats3, crossval_hit_fraction3 = advmpcross.get_crossval_performance(ds_dir=ds_dir, EPIC_b=EPIC4_b, \n",
    "                             union_cpgs_fold_spec=union_cpgs_fold[\"3\"], EPIC_phenotypes=EPIC4_phenotypes, \n",
    "                             estimate_copa=True, order=\"Mixed Order\")"
   ]
  },
  {
   "cell_type": "code",
   "execution_count": null,
   "id": "49bac8d6",
   "metadata": {},
   "outputs": [],
   "source": [
    "all_stats3"
   ]
  },
  {
   "cell_type": "code",
   "execution_count": null,
   "id": "4c19705c",
   "metadata": {},
   "outputs": [],
   "source": [
    "fig, ax = plt.subplots(1,1,figsize=(15,5))\n",
    "sns.scatterplot(data=crossval_hit_fraction3, x=\"Mixed Order\", y=\"Hit fraction\", hue=\"Ad_plot\", \n",
    "                palette={\"No\": colors[0], \"Yes\": colors[3]})\n",
    "plting.transform_plot_ax(ax, legend_title=\"Adenoma\")\n",
    "fig.savefig(fig_dir / \"SWEPIC3\" / \"crossval_worm_plot.svg\", bbox_inches=\"tight\")"
   ]
  },
  {
   "cell_type": "code",
   "execution_count": null,
   "id": "70a12598",
   "metadata": {},
   "outputs": [],
   "source": [
    "from sklearn.metrics import RocCurveDisplay, PrecisionRecallDisplay"
   ]
  },
  {
   "cell_type": "code",
   "execution_count": null,
   "id": "2bfd02ff",
   "metadata": {},
   "outputs": [],
   "source": [
    "fig, ax = plt.subplots(1, 1, figsize=(7, 5))\n",
    "RocCurveDisplay.from_predictions(\n",
    "    crossval_hit_fraction1[\"Ad\"].astype(int).ravel(),\n",
    "    crossval_hit_fraction1[\"Hit fraction\"].ravel(),\n",
    "    ax=ax,\n",
    "    c=colors[6],\n",
    "    name='SWEPIC1',\n",
    ")\n",
    "RocCurveDisplay.from_predictions(\n",
    "    crossval_hit_fraction2[\"Ad\"].astype(int).ravel(),\n",
    "    crossval_hit_fraction2[\"Hit fraction\"].ravel(),\n",
    "    ax=ax,\n",
    "    c=colors[7],\n",
    "    name='SWEPIC2',\n",
    ")\n",
    "RocCurveDisplay.from_predictions(\n",
    "    crossval_hit_fraction3[\"Ad\"].astype(int).ravel(),\n",
    "    crossval_hit_fraction3[\"Hit fraction\"].ravel(),\n",
    "    ax=ax, \n",
    "    c=colors[9],\n",
    "    name='SWEPIC3',\n",
    ")\n",
    "plt.plot(np.linspace(0, 1, 100), np.linspace(0, 1, 100), c=colors[3])\n",
    "plting.transform_plot_ax(ax, legend_title=\"\", ftsize=17, leg_ftsize=17, linew=3)\n",
    "fig.savefig(fig_dir / \"ROC_AUC_curve_crossval.svg\", bbox_inches=\"tight\")"
   ]
  },
  {
   "cell_type": "markdown",
   "id": "adcf4f00",
   "metadata": {},
   "source": [
    "# Hit fraction crossval"
   ]
  },
  {
   "cell_type": "code",
   "execution_count": null,
   "id": "b2f070fc",
   "metadata": {},
   "outputs": [],
   "source": [
    "dfs = []\n",
    "df1 = crossval_hit_fraction1[[\"Hit fraction\",\"Ad_plot\",\"Mixed Order\"]]\n",
    "df1 = pd.concat([df1,pd.DataFrame([\"SWEPIC1\"]*df1.shape[0],\n",
    "                                      index=df1.index,columns=[\"Batch\"])],axis=1)\n",
    "vc1 = df1.Ad_plot.value_counts()\n",
    "dfs.append(df1)\n",
    "df2 = crossval_hit_fraction2[[\"Hit fraction\",\"Ad_plot\",\"Mixed Order\"]]\n",
    "df2 = pd.concat([df2,pd.DataFrame([\"SWEPIC2\"]*df2.shape[0],\n",
    "                                      index=df2.index,columns=[\"Batch\"])],axis=1)\n",
    "vc2 = df2.Ad_plot.value_counts()\n",
    "dfs.append(df2)\n",
    "df3 = crossval_hit_fraction3[[\"Hit fraction\",\"Ad_plot\",\"Mixed Order\"]]\n",
    "df3 = pd.concat([df3,pd.DataFrame([\"SWEPIC3\"]*df3.shape[0],\n",
    "                                      index=df3.index,columns=[\"Batch\"])],axis=1)\n",
    "vc3 = df3.Ad_plot.value_counts()\n",
    "dfs.append(df3)\n",
    "df = pd.concat(dfs)"
   ]
  },
  {
   "cell_type": "code",
   "execution_count": null,
   "id": "cc6c2dd3",
   "metadata": {},
   "outputs": [],
   "source": [
    "fig, ax= plt.subplots(1,1, figsize=(8,4))\n",
    "sns.boxplot(data=df, x=\"Batch\", y=\"Hit fraction\", hue=\"Ad_plot\", palette={\"No\": colors[0], \"Yes\": colors[3]})\n",
    "annot = Annotator(\n",
    "        ax,\n",
    "        pairs=[((\"SWEPIC1\", \"No\"),(\"SWEPIC1\", \"Yes\")),\n",
    "               ((\"SWEPIC2\", \"No\"),(\"SWEPIC2\", \"Yes\")),\n",
    "               ((\"SWEPIC3\", \"No\"),(\"SWEPIC3\", \"Yes\"))],\n",
    "        data=df, x=\"Batch\", y=\"Hit fraction\", hue=\"Ad_plot\",\n",
    "    )\n",
    "annot.configure(\n",
    "        test=\"Mann-Whitney\",\n",
    "        loc=\"inside\",\n",
    "    text_format=\"simple\",\n",
    "        show_test_name=False,\n",
    "        verbose=2,\n",
    "        comparisons_correction=None,\n",
    "        correction_format=\"replace\",\n",
    "    )\n",
    "annot.apply_test()\n",
    "ax, _ = annot.annotate()\n",
    "plting.transform_plot_ax(ax, legend_title=\"Adenoma (right)\",linew=2.5)\n",
    "ax.set_xticklabels([\"SWEPIC1\\n$N_{No}$=\"+f\"{vc1.loc['No']}\\n\"+\"$N_{Yes}$=\"+f\"{vc1.loc['Yes']}\",\n",
    "                    \"SWEPIC2\\n$N_{No}$=\"+f\"{vc2.loc['No']}\\n\"+\"$N_{Yes}$=\"+f\"{vc2.loc['Yes']}\",\n",
    "                    \"SWEPIC3\\n$N_{No}$=\"+f\"{vc3.loc['No']}\\n\"+\"$N_{Yes}$=\"+f\"{vc3.loc['Yes']}\"], size=12)\n",
    "ax.set_xlabel(\"\")\n",
    "fig.savefig(fig_dir / \"crossval_hit_fraction_dist.svg\", bbox_inches=\"tight\")"
   ]
  },
  {
   "cell_type": "markdown",
   "id": "1d2f98f6",
   "metadata": {},
   "source": [
    "# Hit fraction crossval per age category"
   ]
  },
  {
   "cell_type": "code",
   "execution_count": null,
   "id": "17f6760a",
   "metadata": {},
   "outputs": [],
   "source": [
    "from typing import List\n",
    "def get_plot_by_age_group(EPIC_clin: pd.DataFrame, \n",
    "                          age_bins: List, age_cat_labels: List, \n",
    "                          heatmap_df: pd.DataFrame, title: str) -> plt.Axes:\n",
    "    age_cat = pd.cut(EPIC_clin[\"Age at visit\"],\n",
    "       bins=age_bins, labels=age_cat_labels)\n",
    "\n",
    "    df = pd.concat([heatmap_df[[\"Hit fraction\",\"Ad_plot\"]],age_cat],axis=1)\n",
    "    \n",
    "    print(df.groupby([\"Age at visit\",\"Ad_plot\"]).median())\n",
    "    \n",
    "    vc = df.value_counts([\"Age at visit\",\"Ad_plot\"])\n",
    "    xticklabs = [f\"{cat}\\n\"+\"$N_{No}$=\"+f\"{vc.loc[cat,'No']}\\n\"+\"$N_{Yes}$=\"+f\"{vc.loc[cat,'Yes']}\" for cat in age_cat_labels]\n",
    "    \n",
    "    pairs = [((cat,\"No\"),(cat,\"Yes\")) for cat in age_cat_labels]\n",
    "    fig, ax = plt.subplots(1,1)\n",
    "    sns.boxplot(data=df, x=\"Age at visit\",y=\"Hit fraction\",hue=\"Ad_plot\",\n",
    "                palette={\"No\": colors[0], \"Yes\": colors[3]},\n",
    "                ax=ax)\n",
    "\n",
    "    annot = Annotator(\n",
    "            ax,\n",
    "            pairs=pairs,\n",
    "            data=df, x=\"Age at visit\", y=\"Hit fraction\", hue=\"Ad_plot\",\n",
    "        )\n",
    "    annot.configure(\n",
    "            test=\"Mann-Whitney\",\n",
    "            loc=\"inside\",\n",
    "        text_format=\"simple\",\n",
    "            show_test_name=False,\n",
    "            verbose=2,\n",
    "            comparisons_correction=None,\n",
    "            correction_format=\"replace\",\n",
    "        )\n",
    "    annot.apply_test()\n",
    "    ax, _ = annot.annotate()\n",
    "    \n",
    "    ax.set_ylim([0,0.65])\n",
    "    plting.transform_plot_ax(ax, legend_title=\"Adenoma\")\n",
    "    ax.set_xticklabels(xticklabs)\n",
    "    ax.set_xlabel(\"\")\n",
    "    ax.set_title(title)\n",
    "    \n",
    "    \n",
    "    return ax"
   ]
  },
  {
   "cell_type": "code",
   "execution_count": null,
   "id": "aa067890",
   "metadata": {},
   "outputs": [],
   "source": [
    "age_bins = [0,55,65,120]\n",
    "age_cat_labels = [\"<55\",\"55-65\",\">=65\"]"
   ]
  },
  {
   "cell_type": "code",
   "execution_count": null,
   "id": "2c80b025",
   "metadata": {},
   "outputs": [],
   "source": [
    "ax = get_plot_by_age_group(EPIC_clin=EPIC2_clin, \n",
    "                          age_bins=age_bins, age_cat_labels=age_cat_labels, \n",
    "                          heatmap_df=crossval_hit_fraction1, title=\"SWEPIC1\")\n",
    "ax.figure.savefig(fig_dir / \"crossval_SWEPIC1_age_cat_hit_fraction_dist.svg\", bbox_inches=\"tight\")"
   ]
  },
  {
   "cell_type": "code",
   "execution_count": null,
   "id": "f57ca4ce",
   "metadata": {},
   "outputs": [],
   "source": [
    "ax = get_plot_by_age_group(EPIC_clin=EPIC3_clin, \n",
    "                          age_bins=age_bins, age_cat_labels=age_cat_labels, \n",
    "                          heatmap_df=crossval_hit_fraction2, title=\"SWEPIC2\")\n",
    "ax.figure.savefig(fig_dir / \"crossval_SWEPIC2_age_cat_hit_fraction_dist.svg\", bbox_inches=\"tight\")"
   ]
  },
  {
   "cell_type": "code",
   "execution_count": null,
   "id": "92478a4d",
   "metadata": {},
   "outputs": [],
   "source": [
    "ax = get_plot_by_age_group(EPIC_clin=EPIC4_clin, \n",
    "                          age_bins=age_bins, age_cat_labels=age_cat_labels, \n",
    "                          heatmap_df=crossval_hit_fraction3, title=\"SWEPIC3\")\n",
    "ax.figure.savefig(fig_dir / \"crossval_SWEPIC3_age_cat_hit_fraction_dist.svg\", bbox_inches=\"tight\")"
   ]
  },
  {
   "cell_type": "markdown",
   "id": "a099fe43",
   "metadata": {},
   "source": [
    "# Compare to Horvath "
   ]
  },
  {
   "cell_type": "code",
   "execution_count": null,
   "id": "77f8ae0d",
   "metadata": {},
   "outputs": [],
   "source": [
    "horvath_age = pd.read_csv(\"../../FinalData/auxiliary/horvath_age.csv\",index_col=0)\n",
    "\n",
    "horvath_age = horvath_age[~horvath_age.index.duplicated()]\n",
    "horvath_age.index = horvath_age.index.astype(str)\n",
    "horvath_age.columns = [\"Horvath age\"]"
   ]
  },
  {
   "cell_type": "code",
   "execution_count": null,
   "id": "81060a0e",
   "metadata": {},
   "outputs": [],
   "source": [
    "age_bins = [0,55,65,120]\n",
    "age_cat_labels = [\"<55\",\"55-65\",\">=65\"]\n",
    "\n",
    "\n",
    "from typing import List\n",
    "def get_plots_per_agecat(EPIC_clin: pd.DataFrame, \n",
    "                         df: pd.DataFrame, \n",
    "                         age_cat_labels: List, \n",
    "                         age_bins: List, fig_dir: pl.Path,\n",
    "                         name: str) -> None:\n",
    "\n",
    "    age_cat = pd.cut(EPIC_clin[\"Age at visit\"],\n",
    "           bins=age_bins, labels=age_cat_labels)\n",
    "    dfage = pd.concat([df,age_cat],axis=1)\n",
    "\n",
    "    fig, ax = plt.subplots(1,3,figsize=(15,3))\n",
    "    for i,cat in enumerate(age_cat_labels):\n",
    "        sub_df = dfage[dfage[\"Age at visit\"]==cat]\n",
    "        corr = sub_df[[\"Hit fraction\",\"Horvath age\"]].corr().iloc[0,1]\n",
    "        sns.scatterplot(data=sub_df,x=\"Hit fraction\",y=\"Horvath age\",ax=ax[i],s=10)\n",
    "        ax[i].set_ylim([35,85])\n",
    "        ax[i].set_title(f\"Age {cat}\",fontsize=15)\n",
    "        ax[i].text(0.7*sub_df[\"Hit fraction\"].max(),40,f'r={corr:.2f}',fontsize=15)\n",
    "        plting.transform_plot_ax(ax[i], legend_title=\"\")\n",
    "    fig.savefig(fig_dir / f\"horvath_age_hit_fraction_age_cat_{name}.svg\",bbox_inches=\"tight\")"
   ]
  },
  {
   "cell_type": "code",
   "execution_count": null,
   "id": "1819d7c6",
   "metadata": {},
   "outputs": [],
   "source": [
    "fig, ax = plt.subplots(1,3,figsize=(15,3))\n",
    "for i,cv in enumerate([crossval_hit_fraction1,crossval_hit_fraction2,crossval_hit_fraction3]):\n",
    "    df = pd.concat([cv,horvath_age],axis=1,join=\"inner\")\n",
    "    print(f\"SWEPIC{i+1}\")\n",
    "    print(df[[\"Hit fraction\",\"Horvath age\",\"Ad\"]].corr())\n",
    "    corr = df[[\"Hit fraction\",\"Horvath age\"]].corr().iloc[0,1]\n",
    "    sns.scatterplot(data=df,x=\"Hit fraction\",y=\"Horvath age\",ax=ax[i],s=10)\n",
    "    ax[i].set_ylim([35,85])\n",
    "    ax[i].set_title(f\"SWEPIC{i+1}\",fontsize=15)\n",
    "    ax[i].text(0.7*df[\"Hit fraction\"].max(),40,f'r={corr:.2f}',fontsize=15)\n",
    "    plting.transform_plot_ax(ax[i], legend_title=\"\")\n",
    "    \n",
    "fig.savefig(fig_dir / \"horvath_age_hit_fraction_link.svg\",bbox_inches=\"tight\")"
   ]
  },
  {
   "cell_type": "code",
   "execution_count": null,
   "id": "949d5d5a",
   "metadata": {
    "scrolled": true
   },
   "outputs": [],
   "source": [
    "list_clin = [EPIC2_clin, EPIC3_clin, EPIC4_clin]\n",
    "for i,cv in enumerate([crossval_hit_fraction1,crossval_hit_fraction2,crossval_hit_fraction3]):\n",
    "    df = pd.concat([cv,horvath_age],axis=1,join=\"inner\")\n",
    "    name=f\"SWEPIC{i+1}\"\n",
    "    \n",
    "    get_plots_per_agecat(EPIC_clin=list_clin[i], \n",
    "                         df=df, \n",
    "                         age_cat_labels=age_cat_labels, \n",
    "                         age_bins=age_bins, fig_dir=fig_dir,\n",
    "                         name=name)"
   ]
  },
  {
   "cell_type": "markdown",
   "id": "2f2d4801",
   "metadata": {},
   "source": [
    "# Compare to random probes"
   ]
  },
  {
   "cell_type": "code",
   "execution_count": null,
   "id": "1167f7be",
   "metadata": {},
   "outputs": [],
   "source": [
    "swepic1_ref = 0.82\n",
    "\n",
    "background_cpgs = pd.read_csv(\"../../FinalData/variable_probes/union_cpgs_5_pct_most_variable_onlyhealthy.csv\",index_col=0).values.ravel()\n",
    "ds_dir = pl.Path(\"/Users/josephineyates/Documents/CRC_polyp/FinalData/adVMP_crossvalidation_4fold/SWEPIC1/\")\n",
    "\n",
    "advmpcross.get_comparison_rdn(background_cpgs=background_cpgs, \n",
    "                       figdir=fig_dir / \"SWEPIC1\",\n",
    "                       ref=swepic1_ref,\n",
    "                       ds_dir=ds_dir, \n",
    "                       phenotypes=EPIC2_phenotypes,\n",
    "                       union_cpgs_fold_spec=union_cpgs_fold[\"1\"], \n",
    "                       data=EPIC2_b, \n",
    "                       clin=EPIC2_clin,\n",
    "                       n_iter=200, order=\"Mixed Order\")"
   ]
  },
  {
   "cell_type": "code",
   "execution_count": null,
   "id": "ced9f71b",
   "metadata": {},
   "outputs": [],
   "source": [
    "swepic2_ref = 0.63\n",
    "\n",
    "background_cpgs = pd.read_csv(\"../../FinalData/variable_probes/union_cpgs_5_pct_most_variable_onlyhealthy.csv\",index_col=0).values.ravel()\n",
    "ds_dir = pl.Path(\"/Users/josephineyates/Documents/CRC_polyp/FinalData/adVMP_crossvalidation_4fold/SWEPIC2/\")\n",
    "\n",
    "advmpcross.get_comparison_rdn(background_cpgs=background_cpgs, \n",
    "                       figdir=fig_dir / \"SWEPIC2\",\n",
    "                       ref=swepic2_ref,\n",
    "                       ds_dir=ds_dir, \n",
    "                       phenotypes=EPIC3_phenotypes,\n",
    "                       union_cpgs_fold_spec=union_cpgs_fold[\"2\"], \n",
    "                       data=EPIC3_b, \n",
    "                       clin=EPIC3_clin,\n",
    "                       n_iter=200, order=\"Mixed Order\")"
   ]
  },
  {
   "cell_type": "code",
   "execution_count": null,
   "id": "29dc5089",
   "metadata": {},
   "outputs": [],
   "source": [
    "swepic3_ref = 0.66\n",
    "\n",
    "background_cpgs = pd.read_csv(\"../../FinalData/variable_probes/union_cpgs_5_pct_most_variable_onlyhealthy.csv\",index_col=0).values.ravel()\n",
    "ds_dir = pl.Path(\"/Users/josephineyates/Documents/CRC_polyp/FinalData/adVMP_crossvalidation_4fold/SWEPIC3/\")\n",
    "\n",
    "advmpcross.get_comparison_rdn(background_cpgs=background_cpgs, \n",
    "                       figdir=fig_dir / \"SWEPIC3\",\n",
    "                       ref=swepic3_ref,\n",
    "                       ds_dir=ds_dir, \n",
    "                       phenotypes=EPIC4_phenotypes,\n",
    "                       union_cpgs_fold_spec=union_cpgs_fold[\"3\"], \n",
    "                       data=EPIC4_b, \n",
    "                       clin=EPIC4_clin,\n",
    "                       n_iter=200, order=\"Mixed Order\")"
   ]
  },
  {
   "cell_type": "code",
   "execution_count": null,
   "id": "6e161b8d",
   "metadata": {},
   "outputs": [],
   "source": []
  }
 ],
 "metadata": {
  "kernelspec": {
   "display_name": "Python 3 (ipykernel)",
   "language": "python",
   "name": "python3"
  },
  "language_info": {
   "codemirror_mode": {
    "name": "ipython",
    "version": 3
   },
   "file_extension": ".py",
   "mimetype": "text/x-python",
   "name": "python",
   "nbconvert_exporter": "python",
   "pygments_lexer": "ipython3",
   "version": "3.9.16"
  }
 },
 "nbformat": 4,
 "nbformat_minor": 5
}
