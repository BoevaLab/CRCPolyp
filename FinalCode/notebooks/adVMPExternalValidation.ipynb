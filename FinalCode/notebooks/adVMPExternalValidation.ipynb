{
 "cells": [
  {
   "cell_type": "code",
   "execution_count": null,
   "id": "3839745d",
   "metadata": {},
   "outputs": [],
   "source": [
    "import pandas as pd\n",
    "import numpy as np\n",
    "import pathlib as pl\n",
    "\n",
    "from tqdm.notebook import tqdm\n",
    "import seaborn as sns\n",
    "import matplotlib.pyplot as plt\n",
    "from statannotations.Annotator import Annotator\n",
    "\n",
    "from scipy.stats import mannwhitneyu, fisher_exact, pearsonr, kruskal"
   ]
  },
  {
   "cell_type": "code",
   "execution_count": null,
   "id": "da9345c2",
   "metadata": {},
   "outputs": [],
   "source": [
    "import sys\n",
    "sys.path.append(\"../../FinalCode/\")\n",
    "import download.download as dwnl\n",
    "import utils.plotting as plting\n",
    "import adVMP.adVMP_discovery as discov\n",
    "import adVMP.adVMP_plots as advmpplt"
   ]
  },
  {
   "cell_type": "code",
   "execution_count": null,
   "id": "3adb536c",
   "metadata": {},
   "outputs": [],
   "source": [
    "# For figures\n",
    "colors = sns.color_palette(\"muted\")\n",
    "fig_dir = pl.Path(\"/add/path/here/\")"
   ]
  },
  {
   "cell_type": "code",
   "execution_count": null,
   "id": "37866f83",
   "metadata": {},
   "outputs": [],
   "source": [
    "colors"
   ]
  },
  {
   "cell_type": "markdown",
   "id": "a7a7f52f",
   "metadata": {},
   "source": [
    "# Download adVMP"
   ]
  },
  {
   "cell_type": "code",
   "execution_count": null,
   "id": "eca89821",
   "metadata": {},
   "outputs": [],
   "source": [
    "data_dir = pl.Path(\"/add/path/here/\")"
   ]
  },
  {
   "cell_type": "code",
   "execution_count": null,
   "id": "d05f0108",
   "metadata": {},
   "outputs": [],
   "source": [
    "# get aDVMCs\n",
    "union_cpgs = pd.read_csv(data_dir / \"adVMP\" / \"union_cpgs.csv\", index_col=0).values.ravel()"
   ]
  },
  {
   "cell_type": "code",
   "execution_count": null,
   "id": "e7ec6e96",
   "metadata": {},
   "outputs": [],
   "source": [
    "# get the most variable probes present in healthy tissue\n",
    "background_cpgs = pd.read_csv(data_dir / \"variable_probes\" / \"union_cpgs_5_pct_most_variable_onlyhealthy.csv\",index_col=0).values.ravel()"
   ]
  },
  {
   "cell_type": "markdown",
   "id": "cbd3388b",
   "metadata": {},
   "source": [
    "# Download GSE199057"
   ]
  },
  {
   "cell_type": "code",
   "execution_count": null,
   "id": "92036c52",
   "metadata": {},
   "outputs": [],
   "source": [
    "# download and preprocess external data \n",
    "data_dir_GSE199057 = pl.Path(\"/add/path/here/\")\n",
    "test_ext_data = pd.read_pickle(data_dir_GSE199057 / \"GPL21145\" / \"beta_values.pkl\").T\n",
    "\n",
    "test_ext_data = test_ext_data.dropna(axis=1)\n",
    "test_ext_clin = pd.read_pickle(data_dir_GSE199057 / \"GPL21145\" / \"GSE199057_GPL21145_meta_data.pkl\").set_index(\"Sample_ID\")\n",
    "test_ext_clin[\"Ad_risk\"] = test_ext_clin[\"tissue type\"].replace({\"normal colon tissue from non-CRC patient\": 0, \n",
    "                            \"normal colon tissue from CRC patient\": 1, \n",
    "                            \"colon tumor sample from CRC patient\": 2})\n",
    "test_ext_data = test_ext_data.loc[test_ext_clin.index]"
   ]
  },
  {
   "cell_type": "code",
   "execution_count": null,
   "id": "2e4bd591",
   "metadata": {},
   "outputs": [],
   "source": [
    "heatmap_df1, hit_fraction1 = discov.get_heatmap_df(selcpgs=union_cpgs, \n",
    "                                            EPIC_m=test_ext_data, \n",
    "                                            phenotypes=test_ext_clin[\"Ad_risk\"].ravel(), \n",
    "                                            bal=True)\n",
    "\n",
    "heatmap_df1[\"Ad_plot\"] = heatmap_df1[\"Ad\"].replace({0: \"Healthy\", 1: \"NAC\", 2: \"Cancer\"})"
   ]
  },
  {
   "cell_type": "code",
   "execution_count": null,
   "id": "3008b55a",
   "metadata": {},
   "outputs": [],
   "source": [
    "advmpplt.get_performance_plots(\n",
    "    heatmap_df=heatmap_df1,\n",
    "    fig_dir=fig_dir / \"testtodelete\", hue_worm=\"Ad_plot\",\n",
    "    hue_palette_worm={\"Healthy\": colors[0], \"NAC\": colors[1], \"Cancer\": colors[5]}, \n",
    "    ftsize=15, leg_ftsize=15, figsize=5, rocauc=False, leg_title=\"Tissue type\", \n",
    "    hue_order=[\"Healthy\",\"NAC\",\"Cancer\"], order=\"Mixed Order\",\n",
    ")"
   ]
  },
  {
   "cell_type": "code",
   "execution_count": null,
   "id": "cd3a70ab",
   "metadata": {},
   "outputs": [],
   "source": [
    "plot_df = test_ext_clin[[\"age\",\"Ad_risk\"]].astype(float)\n",
    "plot_df[\"Ad_risk\"] = plot_df[\"Ad_risk\"].replace({0: \"Healthy\", 1: \"NAC\", 2: \"Cancer\"})\n",
    "\n",
    "fig, ax = plt.subplots(1,1)\n",
    "sns.boxplot(data=plot_df,x=\"Ad_risk\",y=\"age\",order=[\"Healthy\",\"NAC\",\"Cancer\"],ax=ax)\n",
    "annot = Annotator(\n",
    "        ax,\n",
    "        pairs=[(\"Healthy\",\"NAC\"),(\"Healthy\",\"Cancer\"),(\"NAC\",\"Cancer\")],\n",
    "        data=plot_df,x=\"Ad_risk\",y=\"age\", order=[\"Healthy\",\"NAC\",\"Cancer\"],\n",
    "    )\n",
    "annot.configure(\n",
    "        test=\"Mann-Whitney\",\n",
    "        loc=\"inside\", text_format=\"simple\",\n",
    "        show_test_name=False,\n",
    "        verbose=2,\n",
    "        comparisons_correction=None,\n",
    "    )\n",
    "annot.apply_test()\n",
    "ax, _ = annot.annotate()\n",
    "plting.transform_plot_ax(ax, legend_title=\"\",linew=2.5)"
   ]
  },
  {
   "cell_type": "markdown",
   "id": "486e6b3f",
   "metadata": {},
   "source": [
    "# Download GSE132804"
   ]
  },
  {
   "cell_type": "code",
   "execution_count": null,
   "id": "1467b026",
   "metadata": {},
   "outputs": [],
   "source": [
    "data_dir_GSE132804 = pl.Path(\"/add/path/here/\")\n",
    "data1 = pd.read_pickle(data_dir_GSE132804 / \"GPL21145\" / \"beta_values.pkl\").T\n",
    "data1 = data1.dropna(axis=1)\n",
    "ext_clin1 = pd.read_pickle(data_dir_GSE132804 / \"GPL21145\" / \"GSE132804_GPL21145_meta_data.pkl\").set_index(\"Sample_ID\")\n",
    "ext_clin1[\"Ad_risk\"] = ext_clin1[\"crc risk\"].replace({\"High\": 2, \"Medium\": 1, \"Low\": 0})\n",
    "\n",
    "red_clin = ext_clin1\n",
    "data1 = data1.loc[ext_clin1.index]"
   ]
  },
  {
   "cell_type": "code",
   "execution_count": null,
   "id": "afeedd1a",
   "metadata": {},
   "outputs": [],
   "source": [
    "heatmap_df2, hit_fraction2 = discov.get_heatmap_df(selcpgs=union_cpgs, EPIC_m=data1, \n",
    "                                                   phenotypes=red_clin[\"Ad_risk\"].ravel(), \n",
    "                                                  bal=True)\n",
    "\n",
    "heatmap_df2[\"Ad_plot\"] = heatmap_df2[\"Ad\"].replace({0: \"Healthy\", 1: \"NAA\", 2: \"NAC\"})"
   ]
  },
  {
   "cell_type": "code",
   "execution_count": null,
   "id": "0803c510",
   "metadata": {},
   "outputs": [],
   "source": [
    "advmpplt.get_performance_plots(\n",
    "    heatmap_df=heatmap_df2,\n",
    "    fig_dir=fig_dir / \"GSE132804\", hue_worm=\"Ad_plot\",\n",
    "    hue_palette_worm={\"Healthy\": colors[0], \"NAA\": colors[3], \"NAC\": colors[1]}, \n",
    "    ftsize=15, leg_ftsize=15, figsize=5, rocauc=False, leg_title=\"Tissue type\", \n",
    "    hue_order=[\"Healthy\",\"NAA\",\"NAC\"], order=\"Mixed Order\",\n",
    ")"
   ]
  },
  {
   "cell_type": "code",
   "execution_count": null,
   "id": "fcfafca5",
   "metadata": {},
   "outputs": [],
   "source": [
    "plot_df = ext_clin1[[\"age\",\"Ad_risk\"]].astype(float)\n",
    "plot_df[\"Ad_risk\"] = plot_df[\"Ad_risk\"].replace({0: \"Healthy\", 1: \"NAA\", 2: \"NAC\"})\n",
    "\n",
    "fig, ax = plt.subplots(1,1)\n",
    "sns.boxplot(data=plot_df,x=\"Ad_risk\",y=\"age\",order=[\"Healthy\",\"NAA\",\"NAC\"],ax=ax)\n",
    "annot = Annotator(\n",
    "        ax,\n",
    "        pairs=[(\"Healthy\",\"NAA\"),(\"Healthy\",\"NAC\"),(\"NAC\",\"NAA\")],\n",
    "        data=plot_df,x=\"Ad_risk\",y=\"age\", order=[\"Healthy\",\"NAA\",\"NAC\"],\n",
    "    )\n",
    "annot.configure(\n",
    "        test=\"Mann-Whitney\",\n",
    "        loc=\"inside\", text_format=\"simple\",\n",
    "        show_test_name=False,\n",
    "        verbose=2,\n",
    "        comparisons_correction=None,\n",
    "    )\n",
    "annot.apply_test()\n",
    "ax, _ = annot.annotate()\n",
    "plting.transform_plot_ax(ax, legend_title=\"\",linew=2.5)"
   ]
  },
  {
   "cell_type": "markdown",
   "id": "730507b2",
   "metadata": {},
   "source": [
    "# Download GSE48684"
   ]
  },
  {
   "cell_type": "code",
   "execution_count": null,
   "id": "85a02999",
   "metadata": {},
   "outputs": [],
   "source": [
    "data_dir_GSE48684 = pl.Path(\"/add/path/here/\")\n",
    "data = pd.read_pickle(data_dir_GSE48684 / \"methylation.pkl\")\n",
    "\n",
    "data = data.set_index(\"Unnamed: 0\")\n",
    "\n",
    "data = data.dropna(axis=1)\n",
    "\n",
    "ext_clin = pd.read_csv(data_dir_GSE48684 / \"metadata.csv\",index_col=0)\n",
    "\n",
    "ext_clin[\"Location\"] = ext_clin.region.replace({'colon': \"Unknown\", \"Retum\": \"Rectum\", \n",
    "                         \"Distal\": \"Left\", \"Proximal\": \"Right\", \"right\": \"Right\", \"left\": \"Left\"})\n",
    "\n",
    "ext_clin[\"Ad_risk\"] = ext_clin.disease.replace({\"cancer\": 3, \"adenoma\": 2, \"normal-C\": 1, \"normal-H\": 0})\n",
    "data = data.loc[ext_clin.index]"
   ]
  },
  {
   "cell_type": "code",
   "execution_count": null,
   "id": "889ae0c2",
   "metadata": {},
   "outputs": [],
   "source": [
    "heatmap_df3, hit_fraction3 = discov.get_heatmap_df(selcpgs=union_cpgs, \n",
    "                                            EPIC_m=data, \n",
    "                                            phenotypes=ext_clin[\"Ad_risk\"].ravel(), \n",
    "                                                   bal=True)\n",
    "\n",
    "heatmap_df3[\"Ad_plot\"] = heatmap_df3[\"Ad\"].replace({0: \"Healthy\", 1: \"NAC\", 2: \"Adenoma\", 3: \"Cancer\"})"
   ]
  },
  {
   "cell_type": "code",
   "execution_count": null,
   "id": "777da47a",
   "metadata": {},
   "outputs": [],
   "source": [
    "advmpplt.get_performance_plots(\n",
    "    heatmap_df=heatmap_df3,\n",
    "    fig_dir=fig_dir / \"GSE48684\", hue_worm=\"Ad_plot\",\n",
    "    hue_palette_worm={\"Healthy\": colors[0], \"NAC\": colors[1], \"Adenoma\": colors[7], \"Cancer\": colors[5]}, \n",
    "    ftsize=15, leg_ftsize=15, figsize=5, rocauc=False, leg_title=\"Tissue type\", \n",
    "    hue_order=[\"Healthy\",\"NAC\",\"Adenoma\",\"Cancer\"], order=\"Mixed Order\",\n",
    ")"
   ]
  },
  {
   "cell_type": "markdown",
   "id": "9fa6c336",
   "metadata": {},
   "source": [
    "# Hit fraction"
   ]
  },
  {
   "cell_type": "code",
   "execution_count": null,
   "id": "f526c20b",
   "metadata": {},
   "outputs": [],
   "source": [
    "dfs = []\n",
    "df1 = heatmap_df1[heatmap_df1[\"Ad\"].isin([0,1])].copy()\n",
    "df1 = df1[[\"Hit fraction\",\"Ad_plot\",\"Ad\",\"Mean meth score\"]]\n",
    "df1 = pd.concat([df1,pd.DataFrame([\"GSE199057\"]*df1.shape[0],\n",
    "                                      index=df1.index,columns=[\"Batch\"])],axis=1)\n",
    "df1[\"Order\"] = np.arange(df1.shape[0])\n",
    "df1 = df1.sort_values(by=[\"Hit fraction\",\"Mean meth score\"])\n",
    "df1[\"Mixed Order\"] = np.arange(df1.shape[0])\n",
    "vc1 = df1.Ad_plot.value_counts()\n",
    "dfs.append(df1)\n",
    "\n",
    "df2 = heatmap_df2[heatmap_df2[\"Ad\"].isin([0,2])].copy()\n",
    "df2[\"Ad\"] = df2[\"Ad\"].replace({2: 1})\n",
    "df2 = df2[[\"Hit fraction\",\"Ad_plot\",\"Ad\",\"Mean meth score\"]]\n",
    "df2 = pd.concat([df2,pd.DataFrame([\"GSE132804\"]*df2.shape[0],\n",
    "                                      index=df2.index,columns=[\"Batch\"])],axis=1)\n",
    "df2[\"Order\"] = np.arange(df2.shape[0])\n",
    "df2 = df2.sort_values(by=[\"Hit fraction\",\"Mean meth score\"])\n",
    "df2[\"Mixed Order\"] = np.arange(df2.shape[0])\n",
    "vc2 = df2.Ad_plot.value_counts()\n",
    "dfs.append(df2)\n",
    "\n",
    "df3 = heatmap_df3[heatmap_df3[\"Ad\"].isin([0,1])].copy()\n",
    "df3 = df3[[\"Hit fraction\",\"Ad_plot\",\"Ad\",\"Mean meth score\"]]\n",
    "df3 = pd.concat([df3,pd.DataFrame([\"GSE48684\"]*df3.shape[0],\n",
    "                                      index=df3.index,columns=[\"Batch\"])],axis=1)\n",
    "df3[\"Order\"] = np.arange(df3.shape[0])\n",
    "df3 = df3.sort_values(by=[\"Hit fraction\",\"Mean meth score\"])\n",
    "df3[\"Mixed Order\"] = np.arange(df3.shape[0])\n",
    "vc3 = df3.Ad_plot.value_counts()\n",
    "dfs.append(df3)"
   ]
  },
  {
   "cell_type": "code",
   "execution_count": null,
   "id": "9785cfb1",
   "metadata": {},
   "outputs": [],
   "source": [
    "df = pd.concat(dfs)"
   ]
  },
  {
   "cell_type": "code",
   "execution_count": null,
   "id": "e411d3b7",
   "metadata": {},
   "outputs": [],
   "source": [
    "fig, ax= plt.subplots(1,1, figsize=(8,4))\n",
    "sns.boxplot(data=df, x=\"Batch\", y=\"Hit fraction\", \n",
    "            hue=\"Ad_plot\", palette={\"Healthy\": colors[0], \"NAC\": colors[1]}, hue_order=[\"Healthy\",\"NAC\"],)\n",
    "annot = Annotator(\n",
    "        ax,\n",
    "        pairs=[((\"GSE199057\", \"Healthy\"),(\"GSE199057\", \"NAC\")),\n",
    "               ((\"GSE132804\", \"Healthy\"),(\"GSE132804\", \"NAC\")),\n",
    "               ((\"GSE48684\", \"Healthy\"),(\"GSE48684\", \"NAC\"))],\n",
    "        data=df, x=\"Batch\", y=\"Hit fraction\", hue=\"Ad_plot\", hue_order=[\"Healthy\",\"NAC\"],\n",
    "    )\n",
    "annot.configure(\n",
    "        test=\"Mann-Whitney\",\n",
    "        loc=\"inside\",\n",
    "        show_test_name=False,\n",
    "        verbose=2,\n",
    "        text_format=\"simple\",\n",
    "        comparisons_correction=None,\n",
    "        correction_format=\"replace\",\n",
    "    )\n",
    "annot.apply_test()\n",
    "ax, _ = annot.annotate()\n",
    "plting.transform_plot_ax(ax, legend_title=\"Tissue type\",linew=2.5)\n",
    "ax.set_xticklabels([\"GSE199057\\n$N_{Healthy}$=\"+f\"{vc1.loc['Healthy']}\\n\"+\"$N_{NAC}$=\"+f\"{vc1.loc['NAC']}\",\n",
    "                    \"GSE132804\\n$N_{Healthy}$=\"+f\"{vc2.loc['Healthy']}\\n\"+\"$N_{NAC}$=\"+f\"{vc2.loc['NAC']}\",\n",
    "                    \"GSE48684\\n$N_{Healthy}$=\"+f\"{vc3.loc['Healthy']}\\n\"+\"$N_{NAC}$=\"+f\"{vc3.loc['NAC']}\"], size=12)\n",
    "ax.set_xlabel(\"\")\n",
    "fig.savefig(fig_dir / \"validationCohorts_hit_fraction_dist.svg\", bbox_inches=\"tight\")"
   ]
  },
  {
   "cell_type": "code",
   "execution_count": null,
   "id": "938c240c",
   "metadata": {},
   "outputs": [],
   "source": [
    "fig, ax = plt.subplots(3, 1, figsize=(16,10))\n",
    "flatax = ax.flatten()\n",
    "gsenames = [\"GSE199057\",\"GSE132804\",\"GSE48684\"]\n",
    "for i in range(len(flatax)):\n",
    "    \n",
    "    sns.scatterplot(\n",
    "        data=dfs[i],\n",
    "        x=\"Mixed Order\",\n",
    "        y=\"Hit fraction\",\n",
    "        hue=\"Ad_plot\", s=50,\n",
    "        palette={\"Healthy\": colors[0], \"NAC\": colors[1]}, ax=flatax[i],\n",
    "    )\n",
    "    plting.transform_plot_ax(flatax[i], legend_title=\"Tissue\", ftsize=20, leg_ftsize=20)\n",
    "    flatax[i].set_xlabel(gsenames[i], fontsize=20)\n",
    "fig.tight_layout()\n",
    "fig.savefig(fig_dir / \"worm_plot_full_validationCohorts.svg\", bbox_inches=\"tight\")"
   ]
  },
  {
   "cell_type": "code",
   "execution_count": null,
   "id": "d22a9311",
   "metadata": {},
   "outputs": [],
   "source": [
    "from sklearn.metrics import RocCurveDisplay, PrecisionRecallDisplay"
   ]
  },
  {
   "cell_type": "code",
   "execution_count": null,
   "id": "ca09efd0",
   "metadata": {
    "scrolled": true
   },
   "outputs": [],
   "source": [
    "fig, ax = plt.subplots(1, 1, figsize=(7, 5))\n",
    "RocCurveDisplay.from_predictions(\n",
    "    df1[\"Ad\"].astype(int).ravel(),\n",
    "    df1[\"Mixed Order\"].ravel(),\n",
    "    ax=ax,\n",
    "    c=colors[0],\n",
    "    name='GSE199057',\n",
    ")\n",
    "RocCurveDisplay.from_predictions(\n",
    "    df2[\"Ad\"].astype(int).ravel(),\n",
    "    df2[\"Mixed Order\"].ravel(),\n",
    "    ax=ax,\n",
    "    c=colors[1],\n",
    "    name='GSE132804',\n",
    ")\n",
    "RocCurveDisplay.from_predictions(\n",
    "    df3[\"Ad\"].astype(int).ravel(),\n",
    "    df3[\"Mixed Order\"].ravel(),\n",
    "    ax=ax, \n",
    "    c=colors[5],\n",
    "    name='GSE48684',\n",
    ")\n",
    "plt.plot(np.linspace(0, 1, 100), np.linspace(0, 1, 100), c=colors[3])\n",
    "plting.transform_plot_ax(ax, legend_title=\"\", ftsize=17, leg_ftsize=17, linew=3)\n",
    "fig.savefig(fig_dir / \"validationCohorts_ROC_AUC_curve_crossval.svg\", bbox_inches=\"tight\")"
   ]
  },
  {
   "cell_type": "code",
   "execution_count": null,
   "id": "8fc7e4ec",
   "metadata": {},
   "outputs": [],
   "source": [
    "import adVMP.comparison_random as cprdn"
   ]
  },
  {
   "cell_type": "code",
   "execution_count": null,
   "id": "b5d2507f",
   "metadata": {},
   "outputs": [],
   "source": [
    "gse199057_ref = 0.82\n",
    "\n",
    "background_cpgs = pd.read_csv(data_dir / \"variable_probes\" / \"union_cpgs_5_pct_most_variable_onlyhealthy.csv\",index_col=0).values.ravel()\n",
    "\n",
    "cprdn.get_comparison_rdn_val(\n",
    "    background_cpgs=background_cpgs,\n",
    "    figdir=fig_dir / \"GSE199057\",\n",
    "    ref=gse199057_ref,\n",
    "    phenotypes=test_ext_clin[\"Ad_risk\"].ravel(),\n",
    "    union_cpgs=union_cpgs,\n",
    "    data=test_ext_data,\n",
    "    clin=test_ext_clin,\n",
    "    n_iter=200,\n",
    "    nadj=True,\n",
    "    hit_limit=4,\n",
    "    risk_col=\"Ad_risk\",\n",
    "    exclude_one=True,\n",
    "    age_col=\"age\", \n",
    "    order=\"Mixed Order\")\n"
   ]
  },
  {
   "cell_type": "code",
   "execution_count": null,
   "id": "ebbcc553",
   "metadata": {},
   "outputs": [],
   "source": [
    "gse132804_ref = 0.88\n",
    "\n",
    "background_cpgs = pd.read_csv(data_dir / \"variable_probes\" / \"union_cpgs_5_pct_most_variable_onlyhealthy.csv\",index_col=0).values.ravel()\n",
    "\n",
    "cprdn.get_comparison_rdn_val(\n",
    "    background_cpgs=background_cpgs,\n",
    "    figdir=fig_dir / \"GSE132804\",\n",
    "    ref=gse132804_ref,\n",
    "    phenotypes=red_clin[\"Ad_risk\"].ravel(),\n",
    "    union_cpgs=union_cpgs,\n",
    "    data=data1,\n",
    "    clin=red_clin,\n",
    "    n_iter=200,\n",
    "    nadj=False,\n",
    "    hit_limit=4,\n",
    "    risk_col=\"Ad_risk\",\n",
    "    exclude_one=True,\n",
    "    age_col=\"age\", \n",
    "    order=\"Mixed Order\")\n"
   ]
  },
  {
   "cell_type": "code",
   "execution_count": null,
   "id": "e06f4600",
   "metadata": {},
   "outputs": [],
   "source": [
    "gse48684_ref = 0.82\n",
    "\n",
    "background_cpgs = pd.read_csv(data_dir / \"variable_probes\" / \"union_cpgs_5_pct_most_variable_onlyhealthy.csv\",index_col=0).values.ravel()\n",
    "\n",
    "cprdn.get_comparison_rdn_val(\n",
    "    background_cpgs=background_cpgs,\n",
    "    figdir=fig_dir / \"GSE48684\",\n",
    "    ref=gse48684_ref,\n",
    "    phenotypes=ext_clin[\"Ad_risk\"].ravel(),\n",
    "    union_cpgs=union_cpgs,\n",
    "    data=data,\n",
    "    clin=ext_clin,\n",
    "    n_iter=200,\n",
    "    nadj=True,\n",
    "    hit_limit=4,\n",
    "    risk_col=\"Ad_risk\",\n",
    "    exclude_one=True,\n",
    "    age_col=None, \n",
    "    order=\"Mixed Order\")\n"
   ]
  },
  {
   "cell_type": "markdown",
   "id": "0c088972",
   "metadata": {},
   "source": [
    "# How about vs neoplastic tissue?"
   ]
  },
  {
   "cell_type": "code",
   "execution_count": null,
   "id": "cfbc31d2",
   "metadata": {},
   "outputs": [],
   "source": [
    "dfs = []\n",
    "df1 = heatmap_df1[[\"Hit fraction\",\"Ad_plot\",\"Ad\",\"Mean meth score\"]]\n",
    "df1 = pd.concat([df1,pd.DataFrame([\"GSE199057\"]*df1.shape[0],\n",
    "                                      index=df1.index,columns=[\"Batch\"])],axis=1)\n",
    "df1[\"Order\"] = np.arange(df1.shape[0])\n",
    "df1 = df1.sort_values(by=[\"Hit fraction\",\"Mean meth score\"])\n",
    "df1[\"Mixed Order\"] = np.arange(df1.shape[0])\n",
    "vc1 = df1.Ad_plot.value_counts()\n",
    "dfs.append(df1)\n",
    "\n",
    "df3 = heatmap_df3[[\"Hit fraction\",\"Ad_plot\",\"Ad\",\"Mean meth score\"]]\n",
    "df3 = pd.concat([df3,pd.DataFrame([\"GSE48684\"]*df3.shape[0],\n",
    "                                      index=df3.index,columns=[\"Batch\"])],axis=1)\n",
    "df3[\"Order\"] = np.arange(df3.shape[0])\n",
    "df3 = df3.sort_values(by=[\"Hit fraction\",\"Mean meth score\"])\n",
    "df3[\"Mixed Order\"] = np.arange(df3.shape[0])\n",
    "vc3 = df3.Ad_plot.value_counts()\n",
    "dfs.append(df3)"
   ]
  },
  {
   "cell_type": "code",
   "execution_count": null,
   "id": "30efa8ba",
   "metadata": {},
   "outputs": [],
   "source": [
    "df = pd.concat(dfs)"
   ]
  },
  {
   "cell_type": "code",
   "execution_count": null,
   "id": "d14ba707",
   "metadata": {},
   "outputs": [],
   "source": [
    "fig, ax= plt.subplots(1,1, figsize=(8,4))\n",
    "sns.boxplot(data=df, x=\"Batch\", y=\"Hit fraction\", \n",
    "            hue=\"Ad_plot\", palette={\"Healthy\": colors[0], \n",
    "                                    \"NAC\": colors[1],\n",
    "                                    \"Adenoma\": colors[7], \n",
    "                                    \"Cancer\": colors[5]}, \n",
    "            hue_order=[\"Healthy\",\"NAC\",\"Adenoma\",\"Cancer\"],)\n",
    "annot = Annotator(\n",
    "        ax,\n",
    "        pairs=[((\"GSE199057\", \"Healthy\"),(\"GSE199057\", \"NAC\")),\n",
    "               ((\"GSE199057\", \"NAC\"),(\"GSE199057\", \"Cancer\")),\n",
    "               ((\"GSE199057\", \"Healthy\"),(\"GSE199057\", \"Cancer\")),\n",
    "               ((\"GSE48684\", \"Healthy\"),(\"GSE48684\", \"NAC\")),\n",
    "               ((\"GSE48684\", \"Healthy\"),(\"GSE48684\", \"Adenoma\")),\n",
    "               ((\"GSE48684\", \"Healthy\"),(\"GSE48684\", \"Cancer\")),\n",
    "               ((\"GSE48684\", \"NAC\"),(\"GSE48684\", \"Adenoma\")),\n",
    "               ((\"GSE48684\", \"NAC\"),(\"GSE48684\", \"Cancer\")),\n",
    "              ((\"GSE48684\", \"Adenoma\"),(\"GSE48684\", \"Cancer\")),],\n",
    "        data=df, x=\"Batch\", y=\"Hit fraction\", hue=\"Ad_plot\", hue_order=[\"Healthy\",\"NAC\",\"Adenoma\",\"Cancer\"],\n",
    "    )\n",
    "annot.configure(\n",
    "        test=\"Mann-Whitney\",\n",
    "        loc=\"inside\",\n",
    "        show_test_name=False,\n",
    "        text_format=\"simple\",\n",
    "        verbose=2,\n",
    "        comparisons_correction=None,\n",
    "        correction_format=\"replace\",\n",
    "    )\n",
    "annot.apply_test()\n",
    "ax, _ = annot.annotate()\n",
    "plting.transform_plot_ax(ax, legend_title=\"Tissue type\",linew=2.5)\n",
    "ax.set_xticklabels([\"GSE199057\\n$N_{Healthy}$=\"+f\"{vc1.loc['Healthy']}\\n\"+\"$N_{NAC}$=\"+f\"{vc1.loc['NAC']}\\n\"+\"$N_{Cancer}$=\"+f\"{vc1.loc['Cancer']}\",\n",
    "                    \"GSE48684\\n$N_{Healthy}$=\"+f\"{vc3.loc['Healthy']}\\n\"+\"$N_{NAC}$=\"+f\"{vc3.loc['NAC']}\\n\"+\"$N_{Adenoma}$=\"+f\"{vc3.loc['Adenoma']}\\n\"+\"$N_{Cancer}$=\"+f\"{vc3.loc['Cancer']}\"], size=12)\n",
    "fig.savefig(fig_dir / \"validationCohorts_WNeoplastic_hit_fraction_dist.svg\", bbox_inches=\"tight\")"
   ]
  },
  {
   "cell_type": "code",
   "execution_count": null,
   "id": "4dc908b6",
   "metadata": {},
   "outputs": [],
   "source": [
    "from sklearn.metrics import RocCurveDisplay, PrecisionRecallDisplay"
   ]
  },
  {
   "cell_type": "code",
   "execution_count": null,
   "id": "4918af29",
   "metadata": {
    "scrolled": true
   },
   "outputs": [],
   "source": [
    "# compute the ROC AUC necessitates a binary indicator\n",
    "# we thus transform the indicator as being neoplastic or not\n",
    "red_df1 = df1[df1[\"Ad\"].isin([0,2])]\n",
    "red_df1[\"Ad\"] = red_df1[\"Ad\"].replace({2: 1})\n",
    "\n",
    "red_df3_ad = df3[df3[\"Ad\"].isin([0,2])]\n",
    "red_df3_ad[\"Ad\"] = red_df3_ad[\"Ad\"].replace({2: 1})\n",
    "\n",
    "red_df3_cr = df3[df3[\"Ad\"].isin([0,3])]\n",
    "red_df3_cr[\"Ad\"] = red_df3_cr[\"Ad\"].replace({3: 1})"
   ]
  },
  {
   "cell_type": "code",
   "execution_count": null,
   "id": "db602642",
   "metadata": {
    "scrolled": true
   },
   "outputs": [],
   "source": [
    "fig, ax = plt.subplots(1, 1, figsize=(7, 5))\n",
    "RocCurveDisplay.from_predictions(\n",
    "    red_df1[\"Ad\"].astype(int).ravel(),\n",
    "    red_df1[\"Mixed Order\"].ravel(),\n",
    "    ax=ax,\n",
    "    c=colors[0],\n",
    "    name='GSE199057',\n",
    ")\n",
    "RocCurveDisplay.from_predictions(\n",
    "    red_df3_ad[\"Ad\"].astype(int).ravel(),\n",
    "    red_df3_ad[\"Mixed Order\"].ravel(),\n",
    "    ax=ax,\n",
    "    c=colors[1],\n",
    "    name='GSE48684\\n(Adenoma)',\n",
    ")\n",
    "RocCurveDisplay.from_predictions(\n",
    "    red_df3_cr[\"Ad\"].astype(int).ravel(),\n",
    "    red_df3_cr[\"Mixed Order\"].ravel(),\n",
    "    ax=ax, \n",
    "    c=colors[5],\n",
    "    name='GSE48684\\n(Cancer)',\n",
    ")\n",
    "plt.plot(np.linspace(0, 1, 100), np.linspace(0, 1, 100), c=colors[3])\n",
    "plting.transform_plot_ax(ax, legend_title=\"\", ftsize=17, leg_ftsize=17, linew=3)\n",
    "fig.savefig(fig_dir / \"validationCohorts_WNeoplastic_ROC_AUC_curve_crossval.svg\", bbox_inches=\"tight\")"
   ]
  },
  {
   "cell_type": "markdown",
   "id": "f050b285",
   "metadata": {},
   "source": [
    "# Adenoma on the left"
   ]
  },
  {
   "cell_type": "code",
   "execution_count": null,
   "id": "0948d079",
   "metadata": {},
   "outputs": [],
   "source": [
    "df2 = heatmap_df2.copy()\n",
    "df2 = df2[[\"Hit fraction\",\"Ad_plot\",\"Ad\",\"Mean meth score\"]]\n",
    "df2 = pd.concat([df2,pd.DataFrame([\"GSE132804\"]*df2.shape[0],\n",
    "                                      index=df2.index,columns=[\"Batch\"])],axis=1)\n",
    "df2[\"Order\"] = np.arange(df2.shape[0])\n",
    "df2 = df2.sort_values(by=[\"Hit fraction\",\"Mean meth score\"])\n",
    "df2[\"Mixed Order\"] = np.arange(df2.shape[0])\n",
    "vc2 = df2.Ad_plot.value_counts()"
   ]
  },
  {
   "cell_type": "code",
   "execution_count": null,
   "id": "dffa6f8e",
   "metadata": {},
   "outputs": [],
   "source": [
    "fig, ax= plt.subplots(1,1, figsize=(8,4))\n",
    "sns.boxplot(data=df2, x=\"Batch\",\n",
    "            y=\"Hit fraction\", \n",
    "            hue=\"Ad_plot\",\n",
    "            palette={\"Healthy\": colors[0], \"NAA\": colors[3], \"NAC\": colors[1]}, \n",
    "            hue_order=[\"Healthy\",\"NAA\",'NAC'],)\n",
    "annot = Annotator(\n",
    "        ax,\n",
    "        pairs=[((\"GSE132804\",\"Healthy\"), (\"GSE132804\",\"NAA\")),\n",
    "               ((\"GSE132804\",\"Healthy\"), (\"GSE132804\",\"NAC\")),\n",
    "               ((\"GSE132804\",\"NAA\"), (\"GSE132804\",\"NAC\"))],\n",
    "        data=df2, x=\"Batch\", y=\"Hit fraction\", hue=\"Ad_plot\", hue_order=[\"Healthy\",\"NAA\",\"NAC\"],\n",
    "    )\n",
    "annot.configure(\n",
    "        test=\"Mann-Whitney\",\n",
    "        loc=\"inside\",\n",
    "        show_test_name=False,\n",
    "        text_format=\"simple\",\n",
    "        verbose=2,\n",
    "        comparisons_correction=\"BH\",\n",
    "        correction_format=\"replace\",\n",
    "    )\n",
    "annot.apply_test()\n",
    "ax, _ = annot.annotate()\n",
    "plting.transform_plot_ax(ax, legend_title=\"Tissue type\",linew=2.5)\n",
    "ax.set_xticklabels([\"GSE132804\\n$N_{Healthy}$=\"+f\"{vc2.loc['Healthy']}\\n\"+\"$N_{NAA}$=\"+f\"{vc2.loc['NAA']}\\n\"+\"$N_{NAC}$=\"+f\"{vc2.loc['NAC']}\",], size=12)\n",
    "fig.savefig(fig_dir / \"validationCohorts_NACA_hit_fraction_dist.svg\", bbox_inches=\"tight\")"
   ]
  },
  {
   "cell_type": "code",
   "execution_count": null,
   "id": "82b4cbca",
   "metadata": {},
   "outputs": [],
   "source": [
    "red_df2_ad = df2[df2[\"Ad\"].isin([0,1])]\n",
    "\n",
    "red_df2_cr = df2[df2[\"Ad\"].isin([0,2])]\n",
    "red_df2_cr[\"Ad\"] = red_df2_cr[\"Ad\"].replace({2: 1})"
   ]
  },
  {
   "cell_type": "code",
   "execution_count": null,
   "id": "1e729efa",
   "metadata": {},
   "outputs": [],
   "source": [
    "fig, ax = plt.subplots(1, 1, figsize=(7, 5))\n",
    "RocCurveDisplay.from_predictions(\n",
    "    red_df2_ad[\"Ad\"].astype(int).ravel(),\n",
    "    red_df2_ad[\"Mixed Order\"].ravel(),\n",
    "    ax=ax,\n",
    "    c=colors[1],\n",
    "    name='GSE132804\\n(NAA)',\n",
    ")\n",
    "RocCurveDisplay.from_predictions(\n",
    "    red_df2_cr[\"Ad\"].astype(int).ravel(),\n",
    "    red_df2_cr[\"Mixed Order\"].ravel(),\n",
    "    ax=ax, \n",
    "    c=colors[5],\n",
    "    name='GSE132804\\n(NAC)',\n",
    ")\n",
    "plt.plot(np.linspace(0, 1, 100), np.linspace(0, 1, 100), c=colors[3])\n",
    "plting.transform_plot_ax(ax, legend_title=\"\", ftsize=17, leg_ftsize=17, linew=3)\n",
    "fig.savefig(fig_dir / \"validationCohorts_NACA_ROC_AUC_curve_crossval.svg\", bbox_inches=\"tight\")"
   ]
  },
  {
   "cell_type": "markdown",
   "id": "12ec85b5",
   "metadata": {},
   "source": [
    "# Manhattan distances for stochastic to coordinated regime"
   ]
  },
  {
   "cell_type": "code",
   "execution_count": null,
   "id": "7b7381f7",
   "metadata": {},
   "outputs": [],
   "source": [
    "from sklearn.metrics.pairwise import manhattan_distances\n",
    "from sklearn.utils import shuffle\n",
    "from scipy.stats import ks_2samp\n",
    "\n",
    "def manhattan_distance_plot(heatmap_df: pd.DataFrame, \n",
    "                            hit_limit: int=4, \n",
    "                            ad_col: str=\"Ad_plot\", \n",
    "                            n_iter: int=100) -> None:\n",
    "\n",
    "    cols = heatmap_df.columns.str.startswith(\"cg\") + heatmap_df.columns.str.startswith(\n",
    "        \"chr\"\n",
    "    )\n",
    "    \n",
    "    # get the binarized matrix, 1 if the probe is a \"hit\"\n",
    "    deviation_distance = (heatmap_df.loc[:,cols].abs()>hit_limit).astype(int)\n",
    "\n",
    "    true_manh_distances = {i: [] for i in heatmap_df[ad_col].unique()}\n",
    "    # compute the manhattan distance on the binarized matrix\n",
    "    manh_dist = manhattan_distances(deviation_distance.values)\n",
    "\n",
    "    manh_dist = pd.DataFrame(manh_dist,index=deviation_distance.index,columns=deviation_distance.index)\n",
    "\n",
    "    for risk in sorted(heatmap_df[ad_col].unique()):\n",
    "        # get the manhattan distances between each pair of a specific category\n",
    "        # e.g., get the manhattan distance between all normal samples or all adenoma samples\n",
    "        normal_dist = manh_dist.loc[(heatmap_df[ad_col]==risk).values,(heatmap_df[ad_col]==risk).values].values\n",
    "        true_manh_distances[risk] = normal_dist[np.triu_indices(normal_dist.shape[0], k = 1)]\n",
    "\n",
    "    random_manh_distances = {h: [] for h in heatmap_df[ad_col].unique()}\n",
    "    # to create random matrix, we randomly permute for each patient the hit assignment (so that the total number of hits stays similar between patients)\n",
    "    for i in range(n_iter):\n",
    "        matrix = deviation_distance.copy()\n",
    "        for i in range(matrix.shape[0]):\n",
    "            matrix.iloc[i,:] = matrix.iloc[i,:].sample(frac=1).ravel()\n",
    "        rdn_manh_dist = manhattan_distances(matrix)    \n",
    "\n",
    "        for risk in heatmap_df[ad_col].unique():\n",
    "            risk_idx = np.where((heatmap_df[ad_col]==risk).values.ravel())[0]\n",
    "            risk_dist = rdn_manh_dist[np.ix_(risk_idx,risk_idx)]\n",
    "            rdn_dist = risk_dist[np.triu_indices(risk_dist.shape[0], k = 1)]\n",
    "            random_manh_distances[risk].append(rdn_dist)\n",
    "\n",
    "    for i in random_manh_distances:\n",
    "        # compare the random and true manhattan distances with the KS test \n",
    "        print(i,ks_2samp(np.concatenate(random_manh_distances[i]),true_manh_distances[i]))\n",
    "        print(np.mean(np.concatenate(random_manh_distances[i])),np.mean(true_manh_distances[i]))\n",
    "    \n",
    "    fig, ax = plt.subplots(1,1)\n",
    "    colors = ['r','b','g','y']\n",
    "    for i,tp in enumerate(random_manh_distances):\n",
    "        sns.kdeplot(np.concatenate(random_manh_distances[tp]),c=colors[i],linestyle=\"--\",\n",
    "                    ax=ax,label=f\"Null-{tp}\")\n",
    "        plt.axvline(np.mean(np.concatenate(random_manh_distances[tp])),c=colors[i],linestyle=\"--\")\n",
    "    for i,tp in enumerate(true_manh_distances):\n",
    "        sns.kdeplot(true_manh_distances[tp],c=colors[i],label=f\"{tp}\")\n",
    "        plt.axvline(np.mean(true_manh_distances[tp]),c=colors[i])\n",
    "    plting.transform_plot_ax(ax=ax, legend_title=\"\")\n",
    "    ax.set_xlabel(\"Manhattan distance\")\n",
    "    return fig"
   ]
  },
  {
   "cell_type": "code",
   "execution_count": null,
   "id": "70b9d830",
   "metadata": {},
   "outputs": [],
   "source": [
    "fig = manhattan_distance_plot(heatmap_df=heatmap_df1, hit_limit=4, ad_col=\"Ad_plot\", n_iter=200)\n",
    "fig.savefig(fig_dir / \"GSE199057\" / \"manhattan_plot_GSE199057.svg\", bbox_inches=\"tight\")"
   ]
  },
  {
   "cell_type": "code",
   "execution_count": null,
   "id": "885b779d",
   "metadata": {
    "scrolled": true
   },
   "outputs": [],
   "source": [
    "fig = manhattan_distance_plot(heatmap_df=heatmap_df3, hit_limit=4, ad_col=\"Ad_plot\", n_iter=200)\n",
    "fig.savefig(fig_dir / \"GSE48684\" / \"manhattan_plot_GSE48684.svg\", bbox_inches=\"tight\")"
   ]
  },
  {
   "cell_type": "code",
   "execution_count": null,
   "id": "58ef61bb",
   "metadata": {},
   "outputs": [],
   "source": []
  }
 ],
 "metadata": {
  "kernelspec": {
   "display_name": "Python 3 (ipykernel)",
   "language": "python",
   "name": "python3"
  },
  "language_info": {
   "codemirror_mode": {
    "name": "ipython",
    "version": 3
   },
   "file_extension": ".py",
   "mimetype": "text/x-python",
   "name": "python",
   "nbconvert_exporter": "python",
   "pygments_lexer": "ipython3",
   "version": "3.9.16"
  }
 },
 "nbformat": 4,
 "nbformat_minor": 5
}
