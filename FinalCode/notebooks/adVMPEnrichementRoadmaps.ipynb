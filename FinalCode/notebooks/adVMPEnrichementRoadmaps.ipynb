{
 "cells": [
  {
   "cell_type": "code",
   "execution_count": null,
   "id": "3839745d",
   "metadata": {},
   "outputs": [],
   "source": [
    "import pandas as pd\n",
    "import numpy as np\n",
    "import pathlib as pl\n",
    "\n",
    "\n",
    "from tqdm.notebook import tqdm\n",
    "import seaborn as sns\n",
    "import matplotlib.pyplot as plt\n",
    "from statannotations.Annotator import Annotator\n",
    "from statsmodels.stats.multitest import multipletests\n",
    "\n",
    "from scipy.stats import mannwhitneyu, fisher_exact, pearsonr, kruskal"
   ]
  },
  {
   "cell_type": "code",
   "execution_count": null,
   "id": "da9345c2",
   "metadata": {},
   "outputs": [],
   "source": [
    "import sys\n",
    "import os\n",
    "sys.path.append(\"../../FinalCode/\")\n",
    "import download.download as dwnl\n",
    "import utils.plotting as plting\n",
    "import adVMP.adVMP_discovery as discov\n",
    "import adVMP.adVMP_plots as advmpplt"
   ]
  },
  {
   "cell_type": "code",
   "execution_count": null,
   "id": "3adb536c",
   "metadata": {},
   "outputs": [],
   "source": [
    "# For figures\n",
    "colors = sns.color_palette(\"muted\")\n",
    "fig_dir = pl.Path(\"/add/path/here/\")"
   ]
  },
  {
   "cell_type": "code",
   "execution_count": null,
   "id": "92c43fe0",
   "metadata": {},
   "outputs": [],
   "source": [
    "base_dir = pl.Path(\"/add/path/here/\")\n",
    "base_dir4 = pl.Path(\"/add/path/here/\")\n",
    "\n",
    "data_dir = pl.Path(\"/add/path/here/\")\n",
    "\n",
    "bad_probes = pd.read_csv(data_dir / \"auxiliary\" / \"sketchy_probe_list_epic.csv\",index_col=0).values.ravel()\n",
    "sample_origin_path = pl.Path(data_dir / \"clinical\" / \"sample_origin_wbatch.csv\")\n",
    "\n",
    "clinical_path = pl.Path(data_dir / \"clinical\" / \"cleaned_clinical_reduced_diet.csv\")\n",
    "target_path = pl.Path(data_dir / \"clinical\" / \"targets.csv\")"
   ]
  },
  {
   "cell_type": "code",
   "execution_count": null,
   "id": "cff6106f",
   "metadata": {},
   "outputs": [],
   "source": [
    "EPIC2_b, EPIC2_clin, EPIC2_samples, EPIC2_phenotypes, EPIC3_b, EPIC3_clin, EPIC3_samples, EPIC3_phenotypes = dwnl.download_EPIC(sample_origin_path=sample_origin_path, \n",
    "                     base_dir=base_dir, clinical_path=clinical_path, target_path=target_path,\n",
    "                  bad_probes=bad_probes, EPIC4=False) "
   ]
  },
  {
   "cell_type": "code",
   "execution_count": null,
   "id": "c6efc10d",
   "metadata": {},
   "outputs": [],
   "source": [
    "EPIC4_b, EPIC4_clin, EPIC4_samples, EPIC4_phenotypes = dwnl.download_EPIC(sample_origin_path=sample_origin_path, \n",
    "                     base_dir=base_dir4, clinical_path=clinical_path, target_path=target_path, \n",
    "                  bad_probes=bad_probes, EPIC4=True) "
   ]
  },
  {
   "cell_type": "markdown",
   "id": "0e80bec1",
   "metadata": {},
   "source": [
    "# Load CpGs"
   ]
  },
  {
   "cell_type": "code",
   "execution_count": null,
   "id": "e285ee4c",
   "metadata": {},
   "outputs": [],
   "source": [
    "union_cpgs = pd.read_csv(data_dir / \"adVMP\"/ \"union_cpgs_q005.csv\", index_col=0).values.ravel()"
   ]
  },
  {
   "cell_type": "markdown",
   "id": "96b32ee8",
   "metadata": {},
   "source": [
    "# Map Roadmap Epigenomics to EPIC array"
   ]
  },
  {
   "cell_type": "code",
   "execution_count": null,
   "id": "92ed35e5",
   "metadata": {},
   "outputs": [],
   "source": [
    "roadmap = pd.read_csv(data_dir / \"NIH_Epigenomics_Roadmap\" / \"E075_15_coreMarks_dense.bed.gz\",sep=\"\\t\",skiprows=1,header=None)\n",
    "\n",
    "roadmap = roadmap.iloc[:,:4]\n",
    "\n",
    "roadmap.columns = [\"chrom\",\"start\",\"end\",\"state\"]"
   ]
  },
  {
   "cell_type": "code",
   "execution_count": null,
   "id": "cd8f4a00",
   "metadata": {
    "scrolled": true
   },
   "outputs": [],
   "source": [
    "epic_manifest = pd.read_csv(data_dir / \"illumina_manifests\" / \"GPL21145_MethylationEPIC_15073387_v-1-0.csv.gz\",skiprows=7,index_col=0)"
   ]
  },
  {
   "cell_type": "code",
   "execution_count": null,
   "id": "298e1fd1",
   "metadata": {
    "scrolled": true
   },
   "outputs": [],
   "source": [
    "probes = epic_manifest[['CHR', 'MAPINFO']].dropna()\n",
    "probes = probes.loc[~probes.index.duplicated()]\n",
    "\n",
    "# get a probe df for each chromosome\n",
    "probes_pc = {}\n",
    "for chrom in sorted(probes.CHR.unique()):\n",
    "    probes_pc[chrom] = probes[probes[\"CHR\"]==chrom].sort_values(by=\"MAPINFO\")\n",
    "\n",
    "# find probes that are located in the roadmap annotated regions for each chromosome\n",
    "mapping = {}\n",
    "for i in tqdm(probes_pc):\n",
    "    chromosome = f'chr{i}'\n",
    "    if chromosome==\"chr0\":\n",
    "        continue\n",
    "    print(chromosome)\n",
    "    roadmap_chrom = roadmap[roadmap[\"chrom\"]==chromosome]\n",
    "    for cg in tqdm(probes_pc[i].index):\n",
    "        pos = probes_pc[i].loc[cg,\"MAPINFO\"]\n",
    "        found = roadmap_chrom[(roadmap_chrom[\"start\"]<=pos) & (roadmap_chrom[\"end\"]>pos)]\n",
    "        if found.shape[0]==0:\n",
    "            # some probes will fall outside of annotated regions\n",
    "            print(f\"No mapping for {cg}\")\n",
    "            mapping[cg] = [\"None\"]\n",
    "        else:\n",
    "            mapping[cg] = found[\"state\"].values\n",
    "\n",
    "mapping_dict = pd.DataFrame.from_dict(mapping).T\n",
    "\n",
    "mapping_dict.columns = [\"State\"]\n",
    "\n",
    "mapping_dict = pd.concat([probes,mapping_dict],axis=1)"
   ]
  },
  {
   "cell_type": "code",
   "execution_count": null,
   "id": "80a2bfa1",
   "metadata": {},
   "outputs": [],
   "source": [
    "mapping_dict = mapping_dict.dropna()"
   ]
  },
  {
   "cell_type": "code",
   "execution_count": null,
   "id": "a0886d51",
   "metadata": {},
   "outputs": [],
   "source": [
    "mapping_dict.to_csv(data_dir / \"NIH_Epigenomics_Roadmap\" / \"EPIC_to_state_mapping.csv\")"
   ]
  },
  {
   "cell_type": "markdown",
   "id": "0c40cb65",
   "metadata": {},
   "source": [
    "# Get enrichment"
   ]
  },
  {
   "cell_type": "code",
   "execution_count": null,
   "id": "647411fb",
   "metadata": {},
   "outputs": [],
   "source": [
    "mapping_dict = pd.read_csv(data_dir / \"NIH_Epigenomics_Roadmap\" / \"EPIC_to_state_mapping.csv\",index_col=0)"
   ]
  },
  {
   "cell_type": "code",
   "execution_count": null,
   "id": "4d391782",
   "metadata": {},
   "outputs": [],
   "source": [
    "# rename the Roadmap Epigenomics states into 8 main categories\n",
    "meaningful_groups = {\"1_TssA\": \"Active promoter\", \"2_TssAFlnk\": \"Active promoter\", \"3_TxFlnk\": \"Active promoter\", \n",
    "                     \"4_Tx\": \"Transcription (body)\", \"5_TxWk\": \"Transcription (body)\", \n",
    "                     \"6_EnhG\": \"Enhancer\", \"7_Enh\": \"Enhancer\", \"8_ZNF/Rpts\": \"ZNF/Repeats\", \n",
    "                     \"10_TssBiv\": \"Bivalent promoter\", \"11_BivFlnk\": \"Bivalent promoter\", \n",
    "                     \"12_EnhBiv\": \"Bivalent enhancer\", \"13_ReprPC\": \"Repressed polycomb\", \n",
    "                     \"14_ReprPCWk\": \"Repressed polycomb\", \"15_Quies\": \"Quiescent\"}"
   ]
  },
  {
   "cell_type": "code",
   "execution_count": null,
   "id": "1296fac9",
   "metadata": {},
   "outputs": [],
   "source": [
    "mapping_dict[\"Red_State\"] = mapping_dict[\"State\"].replace(meaningful_groups)"
   ]
  },
  {
   "cell_type": "code",
   "execution_count": null,
   "id": "68c5e74e",
   "metadata": {},
   "outputs": [],
   "source": [
    "df = mapping_dict.loc[union_cpgs].Red_State.value_counts()\n",
    "dict_states = df.to_dict()"
   ]
  },
  {
   "cell_type": "code",
   "execution_count": null,
   "id": "f86056b2",
   "metadata": {},
   "outputs": [],
   "source": [
    "# create data\n",
    "names = list(dict_states.keys())\n",
    "size = list(dict_states.values())\n",
    " \n",
    "# Create a circle at the center of the plot\n",
    "my_circle = plt.Circle( (0,0), 0.7, color='white')\n",
    "\n",
    "def func(pct, allvals):\n",
    "    absolute = int(np.round(pct/100.*np.sum(allvals)))\n",
    "    return f\"{pct:.1f}%\"\n",
    "\n",
    "# Custom wedges\n",
    "plt.pie(size, labels=names, \n",
    "        wedgeprops = { 'linewidth' : 7, 'edgecolor' : 'white' }, autopct=lambda pct: func(pct, size), \n",
    "        textprops=dict(color=\"black\", size=12))\n",
    "p = plt.gcf()\n",
    "p.gca().add_artist(my_circle)\n",
    "p.savefig(fig_dir / \"donut_plot_enrichment_roadmap.svg\", bbox_inches=\"tight\")"
   ]
  },
  {
   "cell_type": "code",
   "execution_count": null,
   "id": "8be9ff77",
   "metadata": {},
   "outputs": [],
   "source": [
    "cl_bright = sns.color_palette()\n",
    "# make sure the colors correspond\n",
    "pl = {\"Active promoter\": cl_bright[0], \"Bivalent promoter\": cl_bright[1], \n",
    "      \"Quiescent\": cl_bright[2], \"Transcription (body)\": cl_bright[3], \n",
    "      \"Repressed polycomb\": cl_bright[4], \"Enhancer\": cl_bright[5], \n",
    "      \"Bivalent enhancer\": cl_bright[6], \"ZNF/Repeats\": cl_bright[7]}"
   ]
  },
  {
   "cell_type": "code",
   "execution_count": null,
   "id": "2d68294e",
   "metadata": {},
   "outputs": [],
   "source": [
    "background_cpgs = EPIC4_b.columns.intersection(EPIC2_b.columns).to_numpy()"
   ]
  },
  {
   "cell_type": "code",
   "execution_count": null,
   "id": "961def5b",
   "metadata": {},
   "outputs": [],
   "source": [
    "def get_fisher_enrichment(mapping_dict: pd.DataFrame, \n",
    "                          background: np.ndarray, \n",
    "                          union_cpgs: np.ndarray, state_col: str=\"State\") -> pd.DataFrame:\n",
    "    \n",
    "    common_probes = mapping_dict.index.intersection(background)\n",
    "    mapping_background = mapping_dict.loc[common_probes]\n",
    "\n",
    "    # get the value counts of the probes present in the mapping that are also aDVMCs \n",
    "    vc_uc = mapping_background.loc[mapping_background.index.isin(union_cpgs)][state_col].value_counts()\n",
    "\n",
    "    # get the value counts of the probes present in the mapping that are not aDVMCs \n",
    "    vc_nuc = mapping_background.loc[~mapping_background.index.isin(union_cpgs)][state_col].value_counts()\n",
    "\n",
    "    fisher_enrichment = {}\n",
    "    for state in vc_uc.index:\n",
    "        # aDVMCs in the mapping in a specific state\n",
    "        a = vc_uc.loc[state]\n",
    "        # non-aDVMCs in the mapping in a specific state\n",
    "        b = vc_nuc.loc[state]\n",
    "        # aDVMCs in the mapping not in that specific state\n",
    "        c = vc_uc.sum() - a\n",
    "        # non-aDVMCs in the mapping not in that specific state\n",
    "        d = vc_nuc.sum() - b\n",
    "        # compute the Fisher exact test on the contingency table\n",
    "        OR, p = fisher_exact(np.array([[a,c],[b,d]]))\n",
    "        fisher_enrichment[state] = [OR,p]\n",
    "\n",
    "    fisher_enrichment = pd.DataFrame.from_dict(fisher_enrichment).T\n",
    "    fisher_enrichment.columns = [\"OR\",\"p\"]\n",
    "\n",
    "    # FDR correction\n",
    "    q = multipletests(fisher_enrichment[\"p\"],method=\"fdr_bh\")[1]\n",
    "\n",
    "    fisher_enrichment[\"q\"] = q\n",
    "    fisher_enrichment[\"log2(OR)\"] = fisher_enrichment[\"OR\"].apply(np.log2)\n",
    "    \n",
    "    return fisher_enrichment"
   ]
  },
  {
   "cell_type": "code",
   "execution_count": null,
   "id": "95fcface",
   "metadata": {},
   "outputs": [],
   "source": [
    "def convert_pvalue_to_asterisks(pvalue):\n",
    "    if pvalue <= 0.0001:\n",
    "        return \"****\"\n",
    "    elif pvalue <= 0.001:\n",
    "        return \"***\"\n",
    "    elif pvalue <= 0.01:\n",
    "        return \"**\"\n",
    "    elif pvalue <= 0.05:\n",
    "        return \"*\"\n",
    "    return \"ns\""
   ]
  },
  {
   "cell_type": "code",
   "execution_count": null,
   "id": "00ebce12",
   "metadata": {},
   "outputs": [],
   "source": [
    "fisher_enrichment = get_fisher_enrichment(mapping_dict=mapping_dict, \n",
    "                                          background=background_cpgs, \n",
    "                                          union_cpgs=union_cpgs, state_col=\"Red_State\")\n",
    "fisher_enrichment = fisher_enrichment.sort_values(by=\"log2(OR)\",ascending=False)"
   ]
  },
  {
   "cell_type": "code",
   "execution_count": null,
   "id": "e77a8988",
   "metadata": {},
   "outputs": [],
   "source": [
    "annotations = fisher_enrichment['q'].apply(convert_pvalue_to_asterisks).ravel()"
   ]
  },
  {
   "cell_type": "code",
   "execution_count": null,
   "id": "8cd0edc0",
   "metadata": {},
   "outputs": [],
   "source": [
    "fig, ax = plt.subplots(1,1)\n",
    "sns.barplot(data=fisher_enrichment.sort_values(by=\"log2(OR)\",ascending=False).reset_index(),\n",
    "            palette = pl, x=\"index\",y=\"log2(OR)\",ax=ax)\n",
    "ax.spines[['right', 'top']].set_visible(False)\n",
    "ax.spines[[\"bottom\", \"left\"]].set_linewidth(4)\n",
    "ax.set_xticklabels(ax.get_xticklabels(),\n",
    "                   rotation=45,horizontalalignment=\"right\",fontsize=15)\n",
    "ax.set_ylim(bottom=-2.1, top=2.1)\n",
    "ax.set_yticklabels(ax.get_yticklabels(),fontsize=15)\n",
    "ax.set_xlabel(\"\")\n",
    "ax.set_ylabel(\"log2(OR)\",fontsize=15)\n",
    "\n",
    "\n",
    "y_positions = fisher_enrichment[\"log2(OR)\"]\n",
    "y_positions= y_positions.apply(lambda x: x+0.1 if x>0 else x-0.1)\n",
    "y_positions = y_positions.ravel()\n",
    "for idx, pval in enumerate(annotations):\n",
    "    plt.text(x=idx, y=y_positions[idx], s=pval, ha=\"center\", va=\"center\", fontsize=12)\n",
    "fig.savefig(fig_dir / \"adVMP_roadmap_enrichment.svg\", bbox_inches=\"tight\")"
   ]
  },
  {
   "cell_type": "code",
   "execution_count": null,
   "id": "c2b0cef5",
   "metadata": {},
   "outputs": [],
   "source": []
  }
 ],
 "metadata": {
  "kernelspec": {
   "display_name": "Python 3 (ipykernel)",
   "language": "python",
   "name": "python3"
  },
  "language_info": {
   "codemirror_mode": {
    "name": "ipython",
    "version": 3
   },
   "file_extension": ".py",
   "mimetype": "text/x-python",
   "name": "python",
   "nbconvert_exporter": "python",
   "pygments_lexer": "ipython3",
   "version": "3.9.16"
  }
 },
 "nbformat": 4,
 "nbformat_minor": 5
}
