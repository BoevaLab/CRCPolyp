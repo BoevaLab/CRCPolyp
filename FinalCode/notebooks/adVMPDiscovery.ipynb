{
 "cells": [
  {
   "cell_type": "code",
   "execution_count": null,
   "id": "3839745d",
   "metadata": {},
   "outputs": [],
   "source": [
    "import pandas as pd\n",
    "import numpy as np\n",
    "import pathlib as pl\n",
    "\n",
    "from tqdm.notebook import tqdm\n",
    "import seaborn as sns\n",
    "import matplotlib.pyplot as plt\n",
    "from statannotations.Annotator import Annotator\n",
    "\n",
    "from scipy.stats import mannwhitneyu, fisher_exact, pearsonr, kruskal"
   ]
  },
  {
   "cell_type": "code",
   "execution_count": null,
   "id": "da9345c2",
   "metadata": {},
   "outputs": [],
   "source": [
    "import sys\n",
    "sys.path.append(\"../../FinalCode/\")\n",
    "import download.download as dwnl\n",
    "import utils.plotting as plting\n",
    "import adVMP.adVMP_discovery as discov\n",
    "import adVMP.adVMP_plots as advmpplt"
   ]
  },
  {
   "cell_type": "code",
   "execution_count": null,
   "id": "3adb536c",
   "metadata": {},
   "outputs": [],
   "source": [
    "# For figures\n",
    "colors = sns.color_palette(\"muted\")\n",
    "fig_dir = pl.Path(\"/add/path/here\")"
   ]
  },
  {
   "cell_type": "code",
   "execution_count": null,
   "id": "92c43fe0",
   "metadata": {},
   "outputs": [],
   "source": [
    "base_dir = pl.Path(\"/add/path/here\")\n",
    "base_dir4 = pl.Path(\"/add/path/here\")\n",
    "\n",
    "data_dir = pl.Path(\"/add/path/here\")\n",
    "\n",
    "bad_probes = pd.read_csv(data_dir / \"auxiliary\" / \"sketchy_probe_list_epic.csv\",index_col=0).values.ravel()\n",
    "sample_origin_path = pl.Path(data_dir / \"clinical\" / \"sample_origin_wbatch.csv\")\n",
    "\n",
    "clinical_path = pl.Path(data_dir / \"clinical\" / \"cleaned_clinical_reduced_diet.csv\")\n",
    "target_path = pl.Path(data_dir / \"clinical\" / \"targets.csv\")"
   ]
  },
  {
   "cell_type": "code",
   "execution_count": null,
   "id": "cff6106f",
   "metadata": {},
   "outputs": [],
   "source": [
    "EPIC2_b, EPIC2_clin, EPIC2_samples, EPIC2_phenotypes, EPIC3_b, EPIC3_clin, EPIC3_samples, EPIC3_phenotypes = dwnl.download_EPIC(sample_origin_path=sample_origin_path, \n",
    "                     base_dir=base_dir, clinical_path=clinical_path, target_path=target_path,\n",
    "                  bad_probes=bad_probes, EPIC4=False) "
   ]
  },
  {
   "cell_type": "code",
   "execution_count": null,
   "id": "c6efc10d",
   "metadata": {},
   "outputs": [],
   "source": [
    "EPIC4_b, EPIC4_clin, EPIC4_samples, EPIC4_phenotypes = dwnl.download_EPIC(sample_origin_path=sample_origin_path, \n",
    "                     base_dir=base_dir4, clinical_path=clinical_path, target_path=target_path, \n",
    "                  bad_probes=bad_probes, EPIC4=True) "
   ]
  },
  {
   "cell_type": "code",
   "execution_count": null,
   "id": "61883934",
   "metadata": {},
   "outputs": [],
   "source": [
    "background_cpgs = EPIC4_b.columns.intersection(EPIC2_b.columns).to_numpy()\n",
    "pd.Series(background_cpgs).to_csv(data_dir / \"auxiliary\" / \"full_background_probes.csv\")"
   ]
  },
  {
   "cell_type": "markdown",
   "id": "a7a7f52f",
   "metadata": {},
   "source": [
    "# Find adVMP"
   ]
  },
  {
   "cell_type": "code",
   "execution_count": null,
   "id": "9d16cf93",
   "metadata": {},
   "outputs": [],
   "source": [
    "resdir = pl.Path(\"add/path/here\")"
   ]
  },
  {
   "cell_type": "code",
   "execution_count": null,
   "id": "3b16a2b6",
   "metadata": {},
   "outputs": [],
   "source": [
    "test_results = discov.get_hyper_vDMC(methylation=EPIC2_b, phenotypes=EPIC2_phenotypes)"
   ]
  },
  {
   "cell_type": "code",
   "execution_count": null,
   "id": "3b98272a",
   "metadata": {},
   "outputs": [],
   "source": [
    "test_results.to_csv(resdir / \"adVMP_SWEPIC1_right.csv\")"
   ]
  },
  {
   "cell_type": "code",
   "execution_count": null,
   "id": "8a63ded5",
   "metadata": {},
   "outputs": [],
   "source": [
    "test_results = discov.get_hyper_vDMC(methylation=EPIC3_b.loc[selected_patients2], phenotypes=red_phenotype2)"
   ]
  },
  {
   "cell_type": "code",
   "execution_count": null,
   "id": "05699495",
   "metadata": {},
   "outputs": [],
   "source": [
    "test_results.to_csv(resdir / \"adVMP_SWEPIC2_right.csv\")"
   ]
  },
  {
   "cell_type": "code",
   "execution_count": null,
   "id": "de1980be",
   "metadata": {},
   "outputs": [],
   "source": [
    "test_results = discov.get_hyper_vDMC(methylation=EPIC4_b, phenotypes=EPIC4_phenotypes)"
   ]
  },
  {
   "cell_type": "code",
   "execution_count": null,
   "id": "44906bd7",
   "metadata": {},
   "outputs": [],
   "source": [
    "test_results.to_csv(resdir / \"adVMP_SWEPIC3_right.csv\")"
   ]
  },
  {
   "cell_type": "markdown",
   "id": "7560e263",
   "metadata": {},
   "source": [
    "# Ensembling probes"
   ]
  },
  {
   "cell_type": "code",
   "execution_count": null,
   "id": "e8f8976b",
   "metadata": {},
   "outputs": [],
   "source": [
    "test_results = {}\n",
    "for i in ['1','2','3']:\n",
    "    test_results[i]  = pd.read_csv(resdir / f\"adVMP_SWEPIC{i}_right.csv\", index_col=0)"
   ]
  },
  {
   "cell_type": "code",
   "execution_count": null,
   "id": "3ad647da",
   "metadata": {},
   "outputs": [],
   "source": [
    "sign_probes = {}\n",
    "for i in test_results:\n",
    "    # keep only significant probes, that are sign. differentially variable, differentially methylated, and more variable in NAA\n",
    "    sign_probes[i] = test_results[i][(test_results[i][\"q\"]<0.05) & (test_results[i][\"ttest_p\"]<0.05) & (test_results[i][\"diffV\"]>0)]"
   ]
  },
  {
   "cell_type": "code",
   "execution_count": null,
   "id": "d05f0108",
   "metadata": {},
   "outputs": [],
   "source": [
    "# get the union of the intersection of any two cohorts\n",
    "sel_cpgs = [sign_probes[\"1\"].index.intersection(sign_probes[\"2\"].index)]\n",
    "sel_cpgs.append(sign_probes[\"1\"].index.intersection(sign_probes[\"3\"].index))\n",
    "sel_cpgs.append(sign_probes[\"2\"].index.intersection(sign_probes[\"3\"].index))\n",
    "union_cpgs = np.unique(np.concatenate(sel_cpgs))\n",
    "\n",
    "# only get CpGs that are present in all datasets \n",
    "union_cpgs = np.intersect1d(union_cpgs,EPIC4_b.columns)"
   ]
  },
  {
   "cell_type": "code",
   "execution_count": null,
   "id": "fcd41d95",
   "metadata": {},
   "outputs": [],
   "source": [
    "all_advmps = np.unique(np.concatenate([sign_probes[\"1\"].index,sign_probes[\"2\"].index,sign_probes[\"3\"].index]))"
   ]
  },
  {
   "cell_type": "code",
   "execution_count": null,
   "id": "e285ee4c",
   "metadata": {},
   "outputs": [],
   "source": [
    "pd.Series(union_cpgs).to_csv(resdir / \"union_cpgs.csv\")\n",
    "pd.Series(all_advmps).to_csv(resdir / \"all_advmps.csv\")"
   ]
  },
  {
   "cell_type": "code",
   "execution_count": null,
   "id": "5b30c76b",
   "metadata": {},
   "outputs": [],
   "source": [
    "# library\n",
    "import matplotlib.pyplot as plt\n",
    "from matplotlib_venn import venn3"
   ]
  },
  {
   "cell_type": "code",
   "execution_count": null,
   "id": "eb2f7f3d",
   "metadata": {},
   "outputs": [],
   "source": [
    "set1 = set(sign_probes[\"1\"].index.intersection(EPIC4_b.columns))\n",
    "set2 = set(sign_probes[\"2\"].index.intersection(EPIC4_b.columns))\n",
    "set3 = set(sign_probes[\"3\"].index)\n",
    "plt.figure(figsize=(3,3))\n",
    "v = venn3([set1, set2, set3], ('SWEPIC1', 'SWEPIC2', 'SWEPIC3'), \n",
    "      set_colors=(colors[6], colors[7], colors[9]), alpha=0.9)\n",
    "v.get_patch_by_id('110').set_color(\"r\")\n",
    "v.get_patch_by_id('101').set_color(\"r\")\n",
    "v.get_patch_by_id('011').set_color(\"r\")\n",
    "plt.text(0.5,0,'adVMPs',c=\"r\",fontsize=13)\n",
    "plt.gcf().savefig(fig_dir / \"venn_diagram_union_probes.svg\", dpi=250, bbox_inches=\"tight\")"
   ]
  },
  {
   "cell_type": "markdown",
   "id": "63ece3b9",
   "metadata": {},
   "source": [
    "# Visualize probe performance"
   ]
  },
  {
   "cell_type": "code",
   "execution_count": null,
   "id": "ab8a49af",
   "metadata": {},
   "outputs": [],
   "source": [
    "heatmap_df1, hit_fraction1 = discov.get_heatmap_df(selcpgs=union_cpgs, EPIC_m=EPIC2_b, phenotypes=EPIC2_phenotypes, bal=True)\n",
    "\n",
    "heatmap_df2, hit_fraction2 = discov.get_heatmap_df(selcpgs=union_cpgs, EPIC_m=EPIC3_b, phenotypes=EPIC3_phenotypes, bal=True)\n",
    "\n",
    "heatmap_df3, hit_fraction3 = discov.get_heatmap_df(selcpgs=union_cpgs, EPIC_m=EPIC4_b, phenotypes=EPIC4_phenotypes, bal=True)"
   ]
  },
  {
   "cell_type": "code",
   "execution_count": null,
   "id": "cbcf2047",
   "metadata": {},
   "outputs": [],
   "source": [
    "advmpplt.get_performance_plots(\n",
    "    heatmap_df=heatmap_df1,\n",
    "    fig_dir=fig_dir / \"SWEPIC1\", hue_worm=\"Ad_plot\",\n",
    "    hue_palette_worm={\"No\": colors[0], \"Yes\": colors[3]}, \n",
    "    ftsize=15, leg_ftsize=15, figsize=5, order=\"Mixed Order\",\n",
    ")"
   ]
  },
  {
   "cell_type": "code",
   "execution_count": null,
   "id": "98f1d339",
   "metadata": {},
   "outputs": [],
   "source": [
    "advmpplt.get_performance_plots(\n",
    "    heatmap_df=heatmap_df2,\n",
    "    fig_dir=fig_dir / \"SWEPIC2\", hue_worm=\"Ad_plot\",\n",
    "    hue_palette_worm={\"No\": colors[0], \"Yes\": colors[3]}, \n",
    "    ftsize=15, leg_ftsize=15, figsize=5, order=\"Mixed Order\",\n",
    ")"
   ]
  },
  {
   "cell_type": "code",
   "execution_count": null,
   "id": "25a0ce63",
   "metadata": {},
   "outputs": [],
   "source": [
    "advmpplt.get_performance_plots(\n",
    "    heatmap_df=heatmap_df3,\n",
    "    fig_dir=fig_dir / \"SWEPIC3\", hue_worm=\"Ad_plot\",\n",
    "    hue_palette_worm={\"No\": colors[0], \"Yes\": colors[3]}, \n",
    "    ftsize=15, leg_ftsize=15, figsize=5, order=\"Mixed Order\",\n",
    ")"
   ]
  },
  {
   "cell_type": "markdown",
   "id": "9fa6c336",
   "metadata": {},
   "source": [
    "# Hit fraction"
   ]
  },
  {
   "cell_type": "code",
   "execution_count": null,
   "id": "f526c20b",
   "metadata": {},
   "outputs": [],
   "source": [
    "dfs = []\n",
    "df1 = heatmap_df1[[\"Hit fraction\",\"Ad_plot\",\"Mixed Order\"]]\n",
    "df1 = pd.concat([df1,pd.DataFrame([\"SWEPIC1\"]*df1.shape[0],\n",
    "                                      index=df1.index,columns=[\"Batch\"])],axis=1)\n",
    "vc1 = df1.Ad_plot.value_counts()\n",
    "dfs.append(df1)\n",
    "df2 = heatmap_df2[[\"Hit fraction\",\"Ad_plot\",\"Mixed Order\"]]\n",
    "df2 = pd.concat([df2,pd.DataFrame([\"SWEPIC2\"]*df2.shape[0],\n",
    "                                      index=df2.index,columns=[\"Batch\"])],axis=1)\n",
    "vc2 = df2.Ad_plot.value_counts()\n",
    "dfs.append(df2)\n",
    "df3 = heatmap_df3[[\"Hit fraction\",\"Ad_plot\",\"Mixed Order\"]]\n",
    "df3 = pd.concat([df3,pd.DataFrame([\"SWEPIC3\"]*df3.shape[0],\n",
    "                                      index=df3.index,columns=[\"Batch\"])],axis=1)\n",
    "vc3 = df3.Ad_plot.value_counts()\n",
    "dfs.append(df3)"
   ]
  },
  {
   "cell_type": "code",
   "execution_count": null,
   "id": "9785cfb1",
   "metadata": {},
   "outputs": [],
   "source": [
    "df = pd.concat(dfs)"
   ]
  },
  {
   "cell_type": "code",
   "execution_count": null,
   "id": "e411d3b7",
   "metadata": {},
   "outputs": [],
   "source": [
    "fig, ax= plt.subplots(1,1, figsize=(8,4))\n",
    "sns.boxplot(data=df, x=\"Batch\", y=\"Hit fraction\", hue=\"Ad_plot\", palette={\"No\": colors[0], \"Yes\": colors[3]})\n",
    "annot = Annotator(\n",
    "        ax,\n",
    "        pairs=[((\"SWEPIC1\", \"No\"),(\"SWEPIC1\", \"Yes\")),\n",
    "               ((\"SWEPIC2\", \"No\"),(\"SWEPIC2\", \"Yes\")),\n",
    "               ((\"SWEPIC3\", \"No\"),(\"SWEPIC3\", \"Yes\"))],\n",
    "        data=df, x=\"Batch\", y=\"Hit fraction\", hue=\"Ad_plot\",\n",
    "    )\n",
    "annot.configure(\n",
    "        test=\"Mann-Whitney\",\n",
    "        loc=\"inside\",\n",
    "    text_format=\"simple\",\n",
    "        show_test_name=False,\n",
    "        verbose=2,\n",
    "        comparisons_correction=None,\n",
    "        correction_format=\"replace\",\n",
    "    )\n",
    "annot.apply_test()\n",
    "ax, _ = annot.annotate()\n",
    "plting.transform_plot_ax(ax, legend_title=\"Adenoma (right)\",linew=2.5)\n",
    "ax.set_xticklabels([\"SWEPIC1\\n$N_{No}$=\"+f\"{vc1.loc['No']}\\n\"+\"$N_{Yes}$=\"+f\"{vc1.loc['Yes']}\",\n",
    "                    \"SWEPIC2\\n$N_{No}$=\"+f\"{vc2.loc['No']}\\n\"+\"$N_{Yes}$=\"+f\"{vc2.loc['Yes']}\",\n",
    "                    \"SWEPIC3\\n$N_{No}$=\"+f\"{vc3.loc['No']}\\n\"+\"$N_{Yes}$=\"+f\"{vc3.loc['Yes']}\"], size=12)\n",
    "ax.set_xlabel(\"\")\n",
    "fig.savefig(fig_dir / \"hit_fraction_dist.svg\", bbox_inches=\"tight\")"
   ]
  },
  {
   "cell_type": "code",
   "execution_count": null,
   "id": "938c240c",
   "metadata": {},
   "outputs": [],
   "source": [
    "fig, ax = plt.subplots(3, 1, figsize=(16,10))\n",
    "flatax = ax.flatten()\n",
    "for i in range(len(flatax)):\n",
    "    \n",
    "    sns.scatterplot(\n",
    "        data=dfs[i],\n",
    "        x=\"Mixed Order\",\n",
    "        y=\"Hit fraction\",\n",
    "        hue=\"Ad_plot\", s=50,\n",
    "        palette={\"No\": colors[0], \"Yes\": colors[3]}, ax=flatax[i],\n",
    "    )\n",
    "    plting.transform_plot_ax(flatax[i], legend_title=\"Adenoma\", ftsize=20, leg_ftsize=20)\n",
    "    flatax[i].set_xlabel(f\"SWEPIC{i+1}\", fontsize=20)\n",
    "fig.tight_layout()\n",
    "fig.savefig(fig_dir / \"worm_plot_full_swepic.svg\", bbox_inches=\"tight\")"
   ]
  },
  {
   "cell_type": "code",
   "execution_count": null,
   "id": "42210c46",
   "metadata": {},
   "outputs": [],
   "source": [
    "from scipy.stats import spearmanr"
   ]
  },
  {
   "cell_type": "code",
   "execution_count": null,
   "id": "6bb4cf94",
   "metadata": {},
   "outputs": [],
   "source": [
    "r1, p1 = spearmanr(heatmap_df1[\"Ad\"],heatmap_df1[\"Mixed Order\"])\n",
    "r2, p2 = spearmanr(heatmap_df2[\"Ad\"],heatmap_df2[\"Mixed Order\"])\n",
    "r3, p3 = spearmanr(heatmap_df3[\"Ad\"],heatmap_df3[\"Mixed Order\"])"
   ]
  },
  {
   "cell_type": "code",
   "execution_count": null,
   "id": "491d6a49",
   "metadata": {},
   "outputs": [],
   "source": [
    "r1, r2, r3"
   ]
  },
  {
   "cell_type": "code",
   "execution_count": null,
   "id": "a239e58f",
   "metadata": {
    "scrolled": true
   },
   "outputs": [],
   "source": [
    "p1, p2, p3"
   ]
  },
  {
   "cell_type": "markdown",
   "id": "37fb43a8",
   "metadata": {},
   "source": [
    "# Hit fraction by age group"
   ]
  },
  {
   "cell_type": "code",
   "execution_count": null,
   "id": "13439d99",
   "metadata": {},
   "outputs": [],
   "source": [
    "from typing import List\n",
    "def get_plot_by_age_group(EPIC_clin: pd.DataFrame, \n",
    "                          age_bins: List, age_cat_labels: List, \n",
    "                          heatmap_df: pd.DataFrame, title: str) -> plt.Axes:\n",
    "    age_cat = pd.cut(EPIC_clin[\"Age at visit\"],\n",
    "       bins=age_bins, labels=age_cat_labels)\n",
    "\n",
    "    df = pd.concat([heatmap_df[[\"Hit fraction\",\"Ad_plot\"]],age_cat],axis=1)\n",
    "    vc = df.value_counts([\"Age at visit\",\"Ad_plot\"])\n",
    "    xticklabs = [f\"{cat}\\n\"+\"$N_{No}$=\"+f\"{vc.loc[cat,'No']}\\n\"+\"$N_{Yes}$=\"+f\"{vc.loc[cat,'Yes']}\" for cat in age_cat_labels]\n",
    "    \n",
    "    pairs = [((cat,\"No\"),(cat,\"Yes\")) for cat in age_cat_labels]\n",
    "    fig, ax = plt.subplots(1,1)\n",
    "    sns.boxplot(data=df, x=\"Age at visit\",y=\"Hit fraction\",hue=\"Ad_plot\",\n",
    "                palette={\"No\": colors[0], \"Yes\": colors[3]},\n",
    "                ax=ax)\n",
    "\n",
    "    annot = Annotator(\n",
    "            ax,\n",
    "            pairs=pairs,\n",
    "            data=df, x=\"Age at visit\", y=\"Hit fraction\", hue=\"Ad_plot\",\n",
    "        )\n",
    "    annot.configure(\n",
    "            test=\"Mann-Whitney\",\n",
    "            loc=\"inside\",\n",
    "        text_format=\"simple\",\n",
    "            show_test_name=False,\n",
    "            verbose=2,\n",
    "            comparisons_correction=None,\n",
    "            correction_format=\"replace\",\n",
    "        )\n",
    "    annot.apply_test()\n",
    "    ax, _ = annot.annotate()\n",
    "\n",
    "    plting.transform_plot_ax(ax, legend_title=\"Adenoma\")\n",
    "    ax.set_xticklabels(xticklabs)\n",
    "    ax.set_xlabel(\"\")\n",
    "    ax.set_title(title)\n",
    "    \n",
    "    return ax"
   ]
  },
  {
   "cell_type": "code",
   "execution_count": null,
   "id": "e7c26e14",
   "metadata": {},
   "outputs": [],
   "source": [
    "age_bins = [0,55,65,120]\n",
    "age_cat_labels = [\"<55\",\"55-65\",\">=65\"]"
   ]
  },
  {
   "cell_type": "code",
   "execution_count": null,
   "id": "277f7e48",
   "metadata": {},
   "outputs": [],
   "source": [
    "ax = get_plot_by_age_group(EPIC_clin=EPIC2_clin, \n",
    "                          age_bins=age_bins, age_cat_labels=age_cat_labels, \n",
    "                          heatmap_df=heatmap_df1, title=\"SWEPIC1\")\n",
    "ax.figure.savefig(fig_dir / \"SWEPIC1_age_cat_hit_fraction_dist.svg\", bbox_inches=\"tight\")"
   ]
  },
  {
   "cell_type": "code",
   "execution_count": null,
   "id": "97503979",
   "metadata": {},
   "outputs": [],
   "source": [
    "ax = get_plot_by_age_group(EPIC_clin=EPIC3_clin, \n",
    "                          age_bins=age_bins, age_cat_labels=age_cat_labels, \n",
    "                          heatmap_df=heatmap_df2, title=\"SWEPIC2\")\n",
    "ax.figure.savefig(fig_dir / \"SWEPIC2_age_cat_hit_fraction_dist.svg\", bbox_inches=\"tight\")"
   ]
  },
  {
   "cell_type": "code",
   "execution_count": null,
   "id": "e7515a16",
   "metadata": {},
   "outputs": [],
   "source": [
    "ax = get_plot_by_age_group(EPIC_clin=EPIC4_clin, \n",
    "                          age_bins=age_bins, age_cat_labels=age_cat_labels, \n",
    "                          heatmap_df=heatmap_df3, title=\"SWEPIC3\")\n",
    "ax.figure.savefig(fig_dir / \"SWEPIC3_age_cat_hit_fraction_dist.svg\", bbox_inches=\"tight\")"
   ]
  },
  {
   "cell_type": "markdown",
   "id": "871dde92",
   "metadata": {},
   "source": [
    "# Compare with polyp size"
   ]
  },
  {
   "cell_type": "code",
   "execution_count": null,
   "id": "2e1e07cf",
   "metadata": {},
   "outputs": [],
   "source": [
    "palette_size = {\"None\": colors[0], \"5mm\": colors[3], \">=6mm\": colors[1]}\n",
    "palette_nr = {\"0\": colors[0], \"1\": colors[3], \">=2\": colors[1]}"
   ]
  },
  {
   "cell_type": "code",
   "execution_count": null,
   "id": "cf211fc7",
   "metadata": {},
   "outputs": [],
   "source": [
    "subset_1 = EPIC2_clin[EPIC2_clin[\"Polyp Location\"].isin([\"None\",\"Right\"])].index.to_numpy()\n",
    "subset_2 = EPIC3_clin[EPIC3_clin[\"Polyp Location\"].isin([\"None\",\"Right\"])].index.to_numpy()\n",
    "subset_3 = EPIC4_clin[EPIC4_clin[\"Polyp Location\"].isin([\"None\",\"Right\"])].index.to_numpy()"
   ]
  },
  {
   "cell_type": "code",
   "execution_count": null,
   "id": "64919adb",
   "metadata": {},
   "outputs": [],
   "source": [
    "heatmap_polyp1 = discov.get_polyp_size_nr_link(EPIC_clin=EPIC2_clin, heatmap_df=heatmap_df1, subset_pat=subset_1)\n",
    "heatmap_polyp2 = discov.get_polyp_size_nr_link(EPIC_clin=EPIC3_clin, heatmap_df=heatmap_df2, subset_pat=subset_2)\n",
    "heatmap_polyp3 = discov.get_polyp_size_nr_link(EPIC_clin=EPIC4_clin, heatmap_df=heatmap_df3, subset_pat=subset_3)"
   ]
  },
  {
   "cell_type": "code",
   "execution_count": null,
   "id": "ca0b4281",
   "metadata": {},
   "outputs": [],
   "source": [
    "advmpplt.plot_polyp_size_nr_link(heatmap_df=heatmap_polyp1, \n",
    "                            fig_dir=fig_dir/\"SWEPIC1\", \n",
    "                        palette_size=palette_size, \n",
    "                        palette_nr=palette_nr, ftsize=15, leg_ftsize=15)"
   ]
  },
  {
   "cell_type": "code",
   "execution_count": null,
   "id": "ee02772f",
   "metadata": {},
   "outputs": [],
   "source": [
    "advmpplt.plot_polyp_size_nr_link(heatmap_df=heatmap_polyp2, \n",
    "                            fig_dir=fig_dir/\"SWEPIC2\", \n",
    "                        palette_size=palette_size, \n",
    "                        palette_nr=palette_nr, ftsize=15, leg_ftsize=15)"
   ]
  },
  {
   "cell_type": "code",
   "execution_count": null,
   "id": "d8357499",
   "metadata": {},
   "outputs": [],
   "source": [
    "advmpplt.plot_polyp_size_nr_link(heatmap_df=heatmap_polyp3, \n",
    "                            fig_dir=fig_dir/\"SWEPIC3\", \n",
    "                        palette_size=palette_size, \n",
    "                        palette_nr=palette_nr, ftsize=15, leg_ftsize=15)"
   ]
  },
  {
   "cell_type": "code",
   "execution_count": null,
   "id": "02b1ac21",
   "metadata": {},
   "outputs": [],
   "source": [
    "cols = ['Ad', 'Hit fraction',\n",
    "       'Ad_plot', 'Order', 'polyps_total_nr', 'polyps_total_size',\n",
    "       'polyps_right_nr', 'size_py_rght', 'Polyp Nr Right', 'Polyp Nr Total',\n",
    "       'Polyp Size cat', 'Polyp Size Total cat']\n",
    "heatmap_polyp = pd.concat([heatmap_polyp1[cols],heatmap_polyp2[cols],heatmap_polyp3[cols]])"
   ]
  },
  {
   "cell_type": "code",
   "execution_count": null,
   "id": "ea411f81",
   "metadata": {},
   "outputs": [],
   "source": [
    "advmpplt.plot_polyp_size_nr_link(heatmap_df=heatmap_polyp, \n",
    "                            fig_dir=fig_dir, figsize=(3,5),\n",
    "                        palette_size=palette_size, \n",
    "                        palette_nr=palette_nr, ftsize=15, leg_ftsize=15)"
   ]
  },
  {
   "cell_type": "markdown",
   "id": "119b3cfd",
   "metadata": {},
   "source": [
    "# Link with cell type composition (deconvolution)"
   ]
  },
  {
   "cell_type": "code",
   "execution_count": null,
   "id": "7a00e566",
   "metadata": {},
   "outputs": [],
   "source": [
    "deconv_path  = pl.Path(\"/add/path/here/\")\n",
    "deconv4 = pd.read_csv(deconv_path / \"epic4_estimates.csv\",index_col=0)\n",
    "deconv4.index = deconv4.index.astype(str)\n",
    "deconv123 = pd.read_csv(deconv_path / \"epic123_estimates.csv\",index_col=0)\n",
    "deconv123.index = deconv123.index.astype(str)\n",
    "\n",
    "deconv = pd.concat([deconv123,deconv4])\n",
    "\n",
    "deconv = pd.concat([df,deconv.loc[df.index]],axis=1)"
   ]
  },
  {
   "cell_type": "code",
   "execution_count": null,
   "id": "45f52319",
   "metadata": {},
   "outputs": [],
   "source": [
    "from scipy.stats import pearsonr\n",
    "for ct in [\"EC\",\"Epi\",\"Lym\",\"Mye\",\"Stromal\"]:\n",
    "    print(pearsonr(deconv[\"Hit fraction\"].ravel(),deconv[ct].ravel()))\n"
   ]
  },
  {
   "cell_type": "markdown",
   "id": "bf6788af",
   "metadata": {},
   "source": [
    "# Getting info about adVMPs"
   ]
  },
  {
   "cell_type": "code",
   "execution_count": null,
   "id": "11840467",
   "metadata": {},
   "outputs": [],
   "source": [
    "union2_desc = EPIC2_b.loc[:,union_cpgs]\n",
    "union2_desc = pd.concat([union2_desc, \n",
    "                         pd.DataFrame(EPIC2_phenotypes, \n",
    "                                      columns=[\"Adenoma (right)\"], \n",
    "                                      index=union2_desc.index)],axis=1)"
   ]
  },
  {
   "cell_type": "code",
   "execution_count": null,
   "id": "db624800",
   "metadata": {},
   "outputs": [],
   "source": [
    "union3_desc = EPIC3_b.loc[:,union_cpgs]\n",
    "union3_desc = pd.concat([union3_desc, \n",
    "                         pd.DataFrame(EPIC3_phenotypes, \n",
    "                                      columns=[\"Adenoma (right)\"], \n",
    "                                      index=union3_desc.index)],axis=1)"
   ]
  },
  {
   "cell_type": "code",
   "execution_count": null,
   "id": "bb88502d",
   "metadata": {},
   "outputs": [],
   "source": [
    "union4_desc = EPIC4_b.loc[:,union_cpgs]\n",
    "union4_desc = pd.concat([union4_desc, \n",
    "                         pd.DataFrame(EPIC4_phenotypes, \n",
    "                                      columns=[\"Adenoma (right)\"], \n",
    "                                      index=union4_desc.index)],axis=1)"
   ]
  },
  {
   "cell_type": "code",
   "execution_count": null,
   "id": "941736ef",
   "metadata": {},
   "outputs": [],
   "source": [
    "union2_desc = union2_desc.groupby(by=\"Adenoma (right)\").describe().T\n",
    "union2_desc.columns = [\"(SWEPIC1) No Ad\",\"(SWEPIC1) Ad\"]"
   ]
  },
  {
   "cell_type": "code",
   "execution_count": null,
   "id": "2e658c29",
   "metadata": {},
   "outputs": [],
   "source": [
    "union3_desc = union3_desc.groupby(by=\"Adenoma (right)\").describe().T\n",
    "union3_desc.columns = [\"(SWEPIC2) No Ad\",\"(SWEPIC2) Ad\"]"
   ]
  },
  {
   "cell_type": "code",
   "execution_count": null,
   "id": "75056610",
   "metadata": {},
   "outputs": [],
   "source": [
    "union4_desc = union4_desc.groupby(by=\"Adenoma (right)\").describe().T\n",
    "union4_desc.columns = [\"(SWEPIC3) No Ad\",\"(SWEPIC3) Ad\"]"
   ]
  },
  {
   "cell_type": "code",
   "execution_count": null,
   "id": "9b12856c",
   "metadata": {},
   "outputs": [],
   "source": [
    "full_union_desc = pd.concat([union2_desc,\n",
    "           union3_desc,\n",
    "           union4_desc],axis=1)"
   ]
  },
  {
   "cell_type": "code",
   "execution_count": null,
   "id": "8ac09a0a",
   "metadata": {},
   "outputs": [],
   "source": [
    "full_union_desc.to_csv(data_dir / \"adVMP\" / \"full_adVMP_description.csv\")"
   ]
  },
  {
   "cell_type": "code",
   "execution_count": null,
   "id": "665fb386",
   "metadata": {},
   "outputs": [],
   "source": []
  }
 ],
 "metadata": {
  "kernelspec": {
   "display_name": "Python 3 (ipykernel)",
   "language": "python",
   "name": "python3"
  },
  "language_info": {
   "codemirror_mode": {
    "name": "ipython",
    "version": 3
   },
   "file_extension": ".py",
   "mimetype": "text/x-python",
   "name": "python",
   "nbconvert_exporter": "python",
   "pygments_lexer": "ipython3",
   "version": "3.9.16"
  }
 },
 "nbformat": 4,
 "nbformat_minor": 5
}
