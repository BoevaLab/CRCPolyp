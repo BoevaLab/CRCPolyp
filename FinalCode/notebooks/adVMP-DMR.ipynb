{
 "cells": [
  {
   "cell_type": "code",
   "execution_count": 1,
   "id": "3839745d",
   "metadata": {},
   "outputs": [],
   "source": [
    "import pandas as pd\n",
    "import numpy as np\n",
    "import pathlib as pl\n",
    "\n",
    "from tqdm.notebook import tqdm\n",
    "import seaborn as sns\n",
    "import matplotlib.pyplot as plt\n",
    "from statannotations.Annotator import Annotator\n",
    "from statsmodels.stats.multitest import multipletests\n",
    "\n",
    "from scipy.stats import mannwhitneyu, fisher_exact, pearsonr, kruskal"
   ]
  },
  {
   "cell_type": "code",
   "execution_count": 2,
   "id": "da9345c2",
   "metadata": {},
   "outputs": [],
   "source": [
    "import sys\n",
    "sys.path.append(\"../../FinalCode/\")\n",
    "import download.download as dwnl\n",
    "import utils.plotting as plting\n",
    "#import adVMP.adVMP_discovery as discov\n",
    "#import adVMP.adVMP_plots as advmpplt\n",
    "#import adVMP.adVMP_crossval as advmpcross"
   ]
  },
  {
   "cell_type": "code",
   "execution_count": 5,
   "id": "8b269e26",
   "metadata": {},
   "outputs": [],
   "source": [
    "import warnings\n",
    "warnings.filterwarnings(action='once')"
   ]
  },
  {
   "cell_type": "code",
   "execution_count": 12,
   "id": "06175f17",
   "metadata": {},
   "outputs": [],
   "source": [
    "pd.options.mode.chained_assignment = None"
   ]
  },
  {
   "cell_type": "code",
   "execution_count": 3,
   "id": "3adb536c",
   "metadata": {},
   "outputs": [],
   "source": [
    "# For figures\n",
    "colors = sns.color_palette(\"muted\")\n",
    "palette = {\"Normal\": colors[0], \"NADJ-A\": colors[3], \"NADJ-C\": colors[2], \"Adenoma\": colors[3], \"SSL\": colors[4], \"Cancer\": colors[5]}\n",
    "fig_dir = pl.Path(\"/Users/josephineyates/Documents/CRC_polyp/ArticleFigures/unit\")"
   ]
  },
  {
   "cell_type": "code",
   "execution_count": 4,
   "id": "92c43fe0",
   "metadata": {},
   "outputs": [],
   "source": [
    "base_dir = pl.Path(\"/Users/josephineyates/Documents/CRC_polyp/sesame_processed_EPIC/\")\n",
    "base_dir4 = pl.Path(\"/Users/josephineyates/Documents/CRC_polyp/sesame_processed_EPIC4/\")\n",
    "\n",
    "data_dir = pl.Path(\"/Users/josephineyates/Documents/CRC_polyp/FinalData/\")\n",
    "\n",
    "bad_probes = pd.read_csv(data_dir / \"auxiliary\" / \"sketchy_probe_list_epic.csv\",index_col=0).values.ravel()\n",
    "sample_origin_path = pl.Path(data_dir / \"clinical\" / \"sample_origin_wbatch.csv\")\n",
    "\n",
    "clinical_path = pl.Path(data_dir / \"clinical\" / \"cleaned_clinical_reduced_diet.csv\")\n",
    "target_path = pl.Path(data_dir / \"clinical\" / \"targets.csv\")"
   ]
  },
  {
   "cell_type": "code",
   "execution_count": 6,
   "id": "cff6106f",
   "metadata": {},
   "outputs": [
    {
     "name": "stderr",
     "output_type": "stream",
     "text": [
      "30it [00:03,  7.52it/s]\n"
     ]
    }
   ],
   "source": [
    "EPIC2_b, EPIC2_clin, EPIC2_samples, EPIC2_phenotypes, EPIC3_b, EPIC3_clin, EPIC3_samples, EPIC3_phenotypes = dwnl.download_EPIC(sample_origin_path=sample_origin_path, \n",
    "                     base_dir=base_dir, clinical_path=clinical_path, target_path=target_path,\n",
    "                  bad_probes=bad_probes, EPIC4=False) "
   ]
  },
  {
   "cell_type": "code",
   "execution_count": 7,
   "id": "c6efc10d",
   "metadata": {},
   "outputs": [
    {
     "name": "stderr",
     "output_type": "stream",
     "text": [
      "18it [00:03,  5.15it/s]\n"
     ]
    }
   ],
   "source": [
    "EPIC4_b, EPIC4_clin, EPIC4_samples, EPIC4_phenotypes = dwnl.download_EPIC(sample_origin_path=sample_origin_path, \n",
    "                     base_dir=base_dir4, clinical_path=clinical_path, target_path=target_path, \n",
    "                  bad_probes=bad_probes, EPIC4=True) "
   ]
  },
  {
   "cell_type": "code",
   "execution_count": null,
   "id": "7d4e3390",
   "metadata": {},
   "outputs": [],
   "source": []
  },
  {
   "cell_type": "markdown",
   "id": "a7a7f52f",
   "metadata": {},
   "source": [
    "# Find differentially methylated probes"
   ]
  },
  {
   "cell_type": "code",
   "execution_count": 8,
   "id": "d5f5975f",
   "metadata": {},
   "outputs": [],
   "source": [
    "import statsmodels.api as sm"
   ]
  },
  {
   "cell_type": "code",
   "execution_count": 9,
   "id": "841e62d6",
   "metadata": {},
   "outputs": [],
   "source": [
    "from typing import List, Optional\n",
    "def get_dmps(EPIC_b: pd.DataFrame, phenotypes: np.ndarray, exog: Optional[pd.DataFrame]=None,) -> List:\n",
    "    all_results = []\n",
    "\n",
    "    for cg in tqdm(EPIC_b.columns):\n",
    "        if exog is None:\n",
    "            exog_df = EPIC_b[[cg]]\n",
    "        else:\n",
    "            exog_df = exog.copy()\n",
    "            exog_df[cg] = EPIC_b[cg].ravel()\n",
    "        exog_df[cg] = (exog_df[cg] - exog_df[cg].mean())/exog_df[cg].std()\n",
    "        exog_df = sm.add_constant(exog_df)\n",
    "\n",
    "        endog = phenotypes\n",
    "        # Instantiate a bin family model with the default link function.\n",
    "        bin_model = sm.GLM(endog, exog_df, family=sm.families.Binomial())\n",
    "\n",
    "        bin_results = bin_model.fit()\n",
    "        df = bin_results.summary2().tables[1]\n",
    "        all_results.append(df.loc[cg])\n",
    "    return all_results"
   ]
  },
  {
   "cell_type": "markdown",
   "id": "5eb6a227",
   "metadata": {},
   "source": [
    "# Without age correction"
   ]
  },
  {
   "cell_type": "code",
   "execution_count": 10,
   "id": "22558e92",
   "metadata": {},
   "outputs": [],
   "source": [
    "result_dir = pl.Path(\"/Users/josephineyates/Documents/CRC_polyp/data/DMR_nocorr\")"
   ]
  },
  {
   "cell_type": "code",
   "execution_count": null,
   "id": "85a4e0e9",
   "metadata": {},
   "outputs": [],
   "source": [
    "all_results = get_dmps(EPIC_b=EPIC2_b, phenotypes=EPIC2_phenotypes)"
   ]
  },
  {
   "cell_type": "code",
   "execution_count": null,
   "id": "7428f09d",
   "metadata": {},
   "outputs": [],
   "source": [
    "pd.concat(all_results,axis=1).to_csv(result_dir / \"SWEPIC1.csv\")"
   ]
  },
  {
   "cell_type": "code",
   "execution_count": null,
   "id": "afd817da",
   "metadata": {},
   "outputs": [],
   "source": [
    "all_results = get_dmps(EPIC_b=EPIC3_b, phenotypes=EPIC3_phenotypes)"
   ]
  },
  {
   "cell_type": "code",
   "execution_count": null,
   "id": "8f3779d6",
   "metadata": {},
   "outputs": [],
   "source": [
    "pd.concat(all_results,axis=1).to_csv(result_dir / \"SWEPIC2.csv\")"
   ]
  },
  {
   "cell_type": "code",
   "execution_count": 13,
   "id": "c04eb500",
   "metadata": {},
   "outputs": [
    {
     "data": {
      "application/vnd.jupyter.widget-view+json": {
       "model_id": "97975392f508411f9fb25c855b1d1bd9",
       "version_major": 2,
       "version_minor": 0
      },
      "text/plain": [
       "  0%|          | 0/306651 [00:00<?, ?it/s]"
      ]
     },
     "metadata": {},
     "output_type": "display_data"
    }
   ],
   "source": [
    "all_results = get_dmps(EPIC_b=EPIC4_b, phenotypes=EPIC4_phenotypes)"
   ]
  },
  {
   "cell_type": "code",
   "execution_count": 14,
   "id": "a5c3fa90",
   "metadata": {},
   "outputs": [],
   "source": [
    "pd.concat(all_results,axis=1).to_csv(result_dir / \"SWEPIC3.csv\")"
   ]
  },
  {
   "cell_type": "markdown",
   "id": "3f2b4754",
   "metadata": {},
   "source": [
    "# With age correction"
   ]
  },
  {
   "cell_type": "code",
   "execution_count": null,
   "id": "d682ff76",
   "metadata": {},
   "outputs": [],
   "source": [
    "result_dir = pl.Path(\"/Users/josephineyates/Documents/CRC_polyp/data/DMR_age_corr\")"
   ]
  },
  {
   "cell_type": "code",
   "execution_count": null,
   "id": "5d145ca6",
   "metadata": {},
   "outputs": [],
   "source": [
    "exog = EPIC2_clin[[\"Age at visit\"]]\n",
    "exog = (exog - exog.mean())/exog.std()"
   ]
  },
  {
   "cell_type": "code",
   "execution_count": null,
   "id": "39237377",
   "metadata": {},
   "outputs": [],
   "source": [
    "all_results = get_dmps(EPIC_b=EPIC2_b, phenotypes=EPIC2_phenotypes, exog=exog)"
   ]
  },
  {
   "cell_type": "code",
   "execution_count": null,
   "id": "df26d918",
   "metadata": {},
   "outputs": [],
   "source": [
    "pd.concat(all_results,axis=1).to_csv(result_dir / \"SWEPIC1.csv\")"
   ]
  },
  {
   "cell_type": "code",
   "execution_count": null,
   "id": "ff35fcfe",
   "metadata": {},
   "outputs": [],
   "source": [
    "exog = EPIC3_clin[[\"Age at visit\"]]\n",
    "exog = (exog - exog.mean())/exog.std()"
   ]
  },
  {
   "cell_type": "code",
   "execution_count": null,
   "id": "e91a86b5",
   "metadata": {},
   "outputs": [],
   "source": [
    "all_results = get_dmps(EPIC_b=EPIC3_b, phenotypes=EPIC3_phenotypes, exog=exog)"
   ]
  },
  {
   "cell_type": "code",
   "execution_count": null,
   "id": "2d50868f",
   "metadata": {},
   "outputs": [],
   "source": [
    "pd.concat(all_results,axis=1).to_csv(result_dir / \"SWEPIC2.csv\")"
   ]
  },
  {
   "cell_type": "code",
   "execution_count": null,
   "id": "0f2e2496",
   "metadata": {},
   "outputs": [],
   "source": [
    "exog = EPIC4_clin[[\"Age at visit\"]]\n",
    "exog = (exog - exog.mean())/exog.std()"
   ]
  },
  {
   "cell_type": "code",
   "execution_count": null,
   "id": "6b5d791f",
   "metadata": {},
   "outputs": [],
   "source": [
    "all_results = get_dmps(EPIC_b=EPIC4_b, phenotypes=EPIC4_phenotypes, exog=exog)"
   ]
  },
  {
   "cell_type": "code",
   "execution_count": null,
   "id": "bff180dc",
   "metadata": {},
   "outputs": [],
   "source": [
    "pd.concat(all_results,axis=1).to_csv(result_dir / \"SWEPIC3.csv\")"
   ]
  },
  {
   "cell_type": "markdown",
   "id": "68b79433",
   "metadata": {},
   "source": [
    "# Visualize results"
   ]
  },
  {
   "cell_type": "markdown",
   "id": "4bf78c96",
   "metadata": {},
   "source": [
    "## With age correction"
   ]
  },
  {
   "cell_type": "code",
   "execution_count": 15,
   "id": "2595b47c",
   "metadata": {},
   "outputs": [
    {
     "data": {
      "image/png": "[encoded data removed]",
      "text/plain": [
       "<Figure size 640x480 with 3 Axes>"
      ]
     },
     "metadata": {},
     "output_type": "display_data"
    }
   ],
   "source": [
    "result_dir = pl.Path(\"/Users/josephineyates/Documents/CRC_polyp/data/DMR_age_corr\")\n",
    "\n",
    "swepic1_dmr = pd.read_csv(result_dir / \"SWEPIC1.csv\",index_col=0).T\n",
    "\n",
    "swepic1_dmr[\"FDR q\"] = multipletests(swepic1_dmr[\"P>|z|\"].ravel(),method=\"fdr_bh\")[1]\n",
    "\n",
    "swepic2_dmr = pd.read_csv(result_dir / \"SWEPIC2.csv\",index_col=0).T\n",
    "\n",
    "swepic2_dmr[\"FDR q\"] = multipletests(swepic2_dmr[\"P>|z|\"].ravel(),method=\"fdr_bh\")[1]\n",
    "\n",
    "swepic3_dmr = pd.read_csv(result_dir / \"SWEPIC3.csv\",index_col=0).T\n",
    "\n",
    "swepic3_dmr[\"FDR q\"] = multipletests(swepic3_dmr[\"P>|z|\"].ravel(),method=\"fdr_bh\")[1]\n",
    "\n",
    "all_dmrs = [swepic1_dmr, swepic2_dmr, swepic3_dmr]\n",
    "\n",
    "threshpass = [(all_dmrs[i][\"FDR q\"]<0.05).sum() for i in range(len(all_dmrs))]\n",
    "\n",
    "fig, ax = plt.subplots(3,1)\n",
    "flatax = ax.flatten()\n",
    "for i in range(len(flatax)):\n",
    "    sns.histplot(data=all_dmrs[i].sort_values(\"FDR q\"), x=\"FDR q\", bins=50, ax = flatax[i])\n",
    "    plting.pretty_ax(flatax[i])\n",
    "    flatax[i].set_xlim([0,1.01])\n",
    "    ymin, ymax = flatax[i].get_ylim()\n",
    "    flatax[i].vlines(x=0.05, ymin=ymin, ymax=ymax, colors=\"r\", ls=\"--\", lw=2, label=\"FDR q=0.05\")\n",
    "    flatax[i].text(0.07, ymax*0.8, \"$N_{q<0.05}$ =\"+f\"{threshpass[i]}\", fontdict={\"size\": 10, \"color\": \"r\"})\n",
    "    flatax[i].set_ylabel(f\"SWEPIC{i+1}\", size=10)\n",
    "fig.savefig(fig_dir / \"histplot_dmr_agecorrected.svg\", bbox_inches=\"tight\")"
   ]
  },
  {
   "cell_type": "markdown",
   "id": "cbc1e2d6",
   "metadata": {},
   "source": [
    "## Without age correction"
   ]
  },
  {
   "cell_type": "code",
   "execution_count": 17,
   "id": "4604cad9",
   "metadata": {},
   "outputs": [
    {
     "data": {
      "image/png": "[encoded data removed]",
      "text/plain": [
       "<Figure size 640x480 with 3 Axes>"
      ]
     },
     "metadata": {},
     "output_type": "display_data"
    }
   ],
   "source": [
    "result_dir = pl.Path(\"/Users/josephineyates/Documents/CRC_polyp/data/DMR_nocorr\")\n",
    "\n",
    "swepic1_dmr = pd.read_csv(result_dir / \"SWEPIC1.csv\",index_col=0).T\n",
    "\n",
    "swepic1_dmr[\"FDR q\"] = multipletests(swepic1_dmr[\"P>|z|\"].ravel(),method=\"fdr_bh\")[1]\n",
    "\n",
    "swepic2_dmr = pd.read_csv(result_dir / \"SWEPIC2.csv\",index_col=0).T\n",
    "\n",
    "swepic2_dmr[\"FDR q\"] = multipletests(swepic2_dmr[\"P>|z|\"].ravel(),method=\"fdr_bh\")[1]\n",
    "\n",
    "swepic3_dmr = pd.read_csv(result_dir / \"SWEPIC3.csv\",index_col=0).T\n",
    "\n",
    "swepic3_dmr[\"FDR q\"] = multipletests(swepic3_dmr[\"P>|z|\"].ravel(),method=\"fdr_bh\")[1]\n",
    "\n",
    "all_dmrs = [swepic1_dmr, swepic2_dmr, swepic3_dmr]\n",
    "\n",
    "threshpass = [(all_dmrs[i][\"FDR q\"]<0.05).sum() for i in range(len(all_dmrs))]\n",
    "\n",
    "fig, ax = plt.subplots(3,1)\n",
    "flatax = ax.flatten()\n",
    "for i in range(len(flatax)):\n",
    "    sns.histplot(data=all_dmrs[i].sort_values(\"FDR q\"), x=\"FDR q\", bins=50, ax = flatax[i])\n",
    "    plting.pretty_ax(flatax[i])\n",
    "    flatax[i].set_xlim([0,1.01])\n",
    "    ymin, ymax = flatax[i].get_ylim()\n",
    "    flatax[i].vlines(x=0.05, ymin=ymin, ymax=ymax, colors=\"r\", ls=\"--\", lw=2, label=\"FDR q=0.05\")\n",
    "    flatax[i].text(0.07, ymax*0.8, \"$N_{q<0.05}$ =\"+f\"{threshpass[i]}\", fontdict={\"size\": 10, \"color\": \"r\"})\n",
    "    flatax[i].set_ylabel(f\"SWEPIC{i+1}\", size=10)\n",
    "fig.savefig(fig_dir / \"histplot_dmr_nocorr.svg\", bbox_inches=\"tight\")"
   ]
  },
  {
   "cell_type": "markdown",
   "id": "047841ac",
   "metadata": {},
   "source": [
    "# Compare to differential variability results"
   ]
  },
  {
   "cell_type": "code",
   "execution_count": 18,
   "id": "a8485199",
   "metadata": {},
   "outputs": [
    {
     "data": {
      "image/png": "[encoded data removed]",
      "text/plain": [
       "<Figure size 640x480 with 3 Axes>"
      ]
     },
     "metadata": {},
     "output_type": "display_data"
    }
   ],
   "source": [
    "swepic1_dvc = pd.read_csv(\"../../FinalData/adVMP/adVMP_SWEPIC1_right.csv\",index_col=0).rename(columns={\"q\": \"FDR q\"})\n",
    "swepic2_dvc = pd.read_csv(\"../../FinalData/adVMP/adVMP_SWEPIC2_right.csv\",index_col=0).rename(columns={\"q\": \"FDR q\"})\n",
    "swepic3_dvc = pd.read_csv(\"../../FinalData/adVMP/adVMP_SWEPIC3_right.csv\",index_col=0).rename(columns={\"q\": \"FDR q\"})\n",
    "\n",
    "all_dvc = [swepic1_dvc, swepic2_dvc, swepic3_dvc]\n",
    "\n",
    "threshpass = [(all_dvc[i][\"FDR q\"]<0.05).sum() for i in range(len(all_dvc))]\n",
    "\n",
    "fig, ax = plt.subplots(3,1)\n",
    "flatax = ax.flatten()\n",
    "for i in range(len(flatax)):\n",
    "    sns.histplot(data=all_dvc[i].sort_values(\"FDR q\"), x=\"FDR q\", bins=50, ax = flatax[i])\n",
    "    plting.pretty_ax(flatax[i])\n",
    "    flatax[i].set_xlim([0,1.01])\n",
    "    ymin, ymax = flatax[i].get_ylim()\n",
    "    flatax[i].vlines(x=0.05, ymin=ymin, ymax=ymax, colors=\"r\", ls=\"--\", lw=2, label=\"FDR q=0.05\")\n",
    "    flatax[i].text(0.07, ymax*0.8, \"$N_{q<0.05}$ =\"+f\"{threshpass[i]}\", fontdict={\"size\": 10, \"color\": \"r\"})\n",
    "    flatax[i].set_ylabel(f\"SWEPIC{i+1}\", size=10)\n",
    "fig.savefig(fig_dir / \"histplot_dvc.svg\", bbox_inches=\"tight\")"
   ]
  },
  {
   "cell_type": "code",
   "execution_count": null,
   "id": "dafd8def",
   "metadata": {},
   "outputs": [],
   "source": []
  }
 ],
 "metadata": {
  "kernelspec": {
   "display_name": "Python 3 (ipykernel)",
   "language": "python",
   "name": "python3"
  },
  "language_info": {
   "codemirror_mode": {
    "name": "ipython",
    "version": 3
   },
   "file_extension": ".py",
   "mimetype": "text/x-python",
   "name": "python",
   "nbconvert_exporter": "python",
   "pygments_lexer": "ipython3",
   "version": "3.9.16"
  }
 },
 "nbformat": 4,
 "nbformat_minor": 5
}
